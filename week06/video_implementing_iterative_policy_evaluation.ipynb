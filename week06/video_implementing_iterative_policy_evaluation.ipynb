{
  "cells": [
    {
      "cell_type": "markdown",
      "metadata": {
        "id": "h1m1xdQjUW-3"
      },
      "source": [
        "# Video: Implementing Iterative Policy Evaluation\n",
        "\n",
        "Iterative policy evaluation is an algorithm for computing state values while following a given policy.\n",
        "This video will show you how to implement iterative policy evaluation while making connections to the value iteration method."
      ]
    },
    {
      "cell_type": "markdown",
      "metadata": {
        "id": "dIGqK3FuUk8j"
      },
      "source": [
        "Script: (faculty on screen)\n",
        "* Iterative policy evaluation is an algorithm for computing state values while following a given policy.\n",
        "* It has some similarities to value iteration, but instead of computing optimal values under any policy, it computes the values of a specified policy.\n",
        "* The resulting computation is similar to value iteration, but can be much faster if there are many actions."
      ]
    },
    {
      "cell_type": "markdown",
      "metadata": {
        "id": "B3fP_5imUdp6"
      },
      "source": [
        "## Problem Setup\n",
        "\n",
        "Problem size:\n",
        "* $k$ actions\n",
        "* $n$ states\n",
        "\n",
        "Problem dynamics:\n",
        "* $R: k \\times n$ array of expected rewards for each action+state\n",
        "* $P: k \\times n \\times n$ array of transition probabilities for each action/current state/next state.\n",
        "* $\\gamma$ discount factor for future rewards\n",
        "\n",
        "New:\n",
        "* $\\pi: n$ array of state actions (a deterministic policy)"
      ]
    },
    {
      "cell_type": "markdown",
      "metadata": {
        "id": "Dcn3wuFfVW9Q"
      },
      "source": [
        "Script:\n",
        "* The problem setup for iterative policy evaluation is similar to optimal value problems.\n",
        "* We are given an array of expected rewards for each action and state, and an array of transition probabilities for each action.\n",
        "* We are also given a discount factor gamma.\n",
        "* The change from optimal value problems is that we are also given a policy, and we will be computing the value subject to following that policy."
      ]
    },
    {
      "cell_type": "markdown",
      "metadata": {
        "id": "_ApvP8Z7VYeI"
      },
      "source": [
        "## Factoring out Action Choices using Policy\n",
        "\n",
        "\\begin{array}{rcl}\n",
        "\\mathcal{R}^\\pi_i & = & \\sum_a \\pi(i, a) \\mathcal{R}^a_i \\\\\n",
        "\\mathcal{P}^\\pi_{i,j} & = & \\sum_a \\pi(i,a) \\mathcal{P}^a_{i, j}\n",
        "\\end{array}\n"
      ]
    },
    {
      "cell_type": "markdown",
      "metadata": {
        "id": "G4pTDf1fWYk9"
      },
      "source": [
        "Script:\n",
        "* The first thing that we do with value iteration is compute the expected rewards and transition probabilities conditioned on following the given policy.\n",
        "* This reduces our Markov decision process to a Markov reward policy or a Markov decision process with just one action.\n",
        "* We will use the latter structure and reuse some of our value iteration code.\n"
      ]
    },
    {
      "cell_type": "markdown",
      "metadata": {
        "id": "Hd9smo4hW-HV"
      },
      "source": [
        "## Iterative Policy Evaluation Algorithm\n",
        "\n",
        "1. Factor out the policy action choices.\n",
        "\\begin{array}{rcl}\n",
        "\\mathcal{R}^\\pi_i & = & \\sum_a \\pi(i, a) \\mathcal{R}^a_i \\\\\n",
        "\\mathcal{P}^\\pi_{i,j} & = & \\sum_a \\pi(i,a) \\mathcal{P}^a_{i, j}\n",
        "\\end{array}\n",
        "2. Initialize $v_0 = [0,\\ldots, 0]$.\n",
        "3. Repeat until values stop changing:\n",
        "\\begin{array}{rcl}\n",
        "v_{i+1}&=& \\mathcal{R}^\\pi + \\gamma \\mathcal{P}^\\pi v_i\n",
        "\\end{array}"
      ]
    },
    {
      "cell_type": "markdown",
      "metadata": {
        "id": "zHXtCeIAXons"
      },
      "source": [
        "Script:\n",
        "* Here is the whole iterative policy evaluation algorithm.\n",
        "* The first step computes the rewards and transition probabilities with the previous formulas.\n",
        "* The second step initializes the values.\n",
        "* The third step repeatedly updates the values based on the policy rewards and transitions.\n",
        "* These last two steps are similar to the value iteration algorithm, but there is no max to pick the optimal action since there is only one action."
      ]
    },
    {
      "cell_type": "code",
      "execution_count": null,
      "metadata": {
        "id": "Wf7R_7cxX7P-"
      },
      "outputs": [],
      "source": [
        "import matplotlib.pyplot as plt\n",
        "import numpy as np"
      ]
    },
    {
      "cell_type": "code",
      "execution_count": null,
      "metadata": {
        "id": "WwNF6p5SWsoV"
      },
      "outputs": [],
      "source": [
        "# copied from Implementing Value Iteration video\n",
        "def compute_qT_once(R, P, gamma, v):\n",
        "    return R + gamma * P @ v"
      ]
    },
    {
      "cell_type": "code",
      "execution_count": null,
      "metadata": {
        "id": "PoNwBtCeX83Z"
      },
      "outputs": [],
      "source": [
        "# copied from Implementing Value Iteration video\n",
        "def iterate_values_once(R, P, gamma, v):\n",
        "    return np.max(compute_qT_once(R, P, gamma, v), axis=0)"
      ]
    },
    {
      "cell_type": "code",
      "execution_count": null,
      "metadata": {
        "id": "hKQWLNk6awpd"
      },
      "outputs": [],
      "source": [
        "# copied from Implementing Value Iteration video\n",
        "def value_iteration(R, P, gamma, max_iterations=100, tolerance=0.001):\n",
        "    # initial approximation v_0\n",
        "    v_old = np.zeros(R.shape[-1])\n",
        "\n",
        "    for i in range(max_iterations):\n",
        "        # compute v_{i+1}\n",
        "        v_new = iterate_values_once(R, P, gamma, v_old)\n",
        "\n",
        "        # check if values did not change much\n",
        "        if np.max(np.abs(v_new - v_old)) < tolerance:\n",
        "            return v_new\n",
        "\n",
        "        v_old = v_new\n",
        "\n",
        "    # return v_{max_iterations}\n",
        "    return v_old"
      ]
    },
    {
      "cell_type": "markdown",
      "metadata": {
        "id": "RajqabzraxsJ"
      },
      "source": [
        "Script:\n",
        "* Here I have a copy of my code for value iteration.\n",
        "* I'm going to copy it now and modify it for iterative policy evaluation."
      ]
    },
    {
      "cell_type": "code",
      "execution_count": null,
      "metadata": {
        "id": "zS-YBw7xYAH0"
      },
      "outputs": [],
      "source": [
        "def iterative_policy_evaluation(R, P, gamma, pi, max_iterations=100, tolerance=0.001):\n",
        "    # factor out action choices using policy.\n",
        "\n",
        "    # probabilistic version for probabilistic policies.\n",
        "    # using einsum to make fancy summations concise.\n",
        "    # R_pi = np.einsum(\"ij,ji->i\", pi, R)\n",
        "    # P_pi = np.einsum(\"ik,kij->ij\", pi, P)\n",
        "\n",
        "    # deterministic version\n",
        "    n = R.shape[-1]\n",
        "    R_pi = R[pi, np.arange(n)]\n",
        "    P_pi = P[pi, np.arange(n),:]\n",
        "\n",
        "    # reshape to one dummy action to reuse previous example code\n",
        "    R_pi = R_pi.reshape(1, *R_pi.shape)\n",
        "    P_pi = P_pi.reshape(1, *P_pi.shape)\n",
        "\n",
        "    # initial approximation v_0\n",
        "    v_old = np.zeros(R.shape[-1])\n",
        "\n",
        "    for i in range(max_iterations):\n",
        "        # compute v_{i+1}\n",
        "        v_new = iterate_values_once(R_pi, P_pi, gamma, v_old)\n",
        "\n",
        "        # check if values did not change much\n",
        "        if np.max(np.abs(v_new - v_old)) < tolerance:\n",
        "            return v_new\n",
        "\n",
        "        v_old = v_new\n",
        "\n",
        "    # return v_{max_iterations}\n",
        "    return v_old"
      ]
    },
    {
      "cell_type": "markdown",
      "metadata": {
        "id": "E1AB6yWKY5CW"
      },
      "source": [
        "Script:\n",
        "* The most complicated part of iterative policy evaluation is applying the policy $\\pi$ to the rewards and transition probabilities.\n",
        "* I used NumPy's `einsum` function to describe the for loops and summations more concisely, but they are pretty dense.\n",
        "* Loosely speaking, the first string parameter labels both input arrays' dimensions and says which of them should be used as output dimensions.\n",
        "* Any other dimensions that are not output dimensions will be summed up.\n",
        "* After that, a dummy dimension of one is added to the beginning of each shape as if there was exactly one action.\n",
        "* This is not really choice to make, but let's me reuse the previous functions for value iteration.\n",
        "* The rest of the changes are essentially running value iteration on the new rewards and transition probabilities."
      ]
    },
    {
      "cell_type": "markdown",
      "metadata": {
        "id": "vKTE_KO5Y6ar"
      },
      "source": [
        "## Example Environment\n",
        "\n",
        "<table>\n",
        "<tr><td align=\"right\">0\ud83e\uddca</td><td align=\"right\">1\ud83e\uddca</td><td align=\"right\">2\ud83e\uddca</td><td align=\"right\">3\ud83e\uddca</td><td align=\"right\">4\ud83e\uddca</td><td align=\"right\">5\ud83e\uddca</td><td align=\"right\">6\ud83e\uddca</td></tr>\n",
        "<tr><td align=\"right\">7\ud83e\uddca</td><td align=\"right\">8\ud83e\uddca</td><td align=\"right\">9\ud83e\uddca</td><td align=\"right\">10\ud83e\uddca</td><td align=\"right\">11\ud83e\uddca</td><td align=\"right\">12\ud83e\uddca</td><td align=\"right\">13\ud83e\uddca</td></tr>\n",
        "<tr><td align=\"right\">14\ud83e\uddca</td><td align=\"right\">15\ud83e\uddca</td><td align=\"right\">16\ud83e\uddca</td><td align=\"right\">17\ud83e\uddca</td><td align=\"right\">18\ud83e\uddca</td><td align=\"right\">19\ud83e\uddca</td><td align=\"right\">20\ud83e\uddca</td></tr>\n",
        "<tr><td align=\"right\">21\ud83e\uddca</td><td align=\"right\">22\ud83e\uddca</td><td align=\"right\">23\ud83e\uddca</td><td align=\"right\">24\ud83e\uddca</td><td align=\"right\">25\ud83e\uddca</td><td align=\"right\">26\ud83e\uddca</td><td align=\"right\">27\ud83e\uddca</td></tr>\n",
        "<tr><td align=\"right\">28\ud83e\uddca</td><td align=\"right\">29\ud83e\uddca</td><td align=\"right\">30\ud83e\uddca</td><td align=\"right\">31\ud83e\uddca</td><td align=\"right\">32\ud83e\uddca</td><td align=\"right\">33\ud83e\uddca</td><td align=\"right\">34\ud83e\uddca</td></tr>\n",
        "<tr><td align=\"right\">35\ud83e\uddca</td><td align=\"right\">36\ud83e\uddca</td><td align=\"right\">37\ud83e\uddca</td><td align=\"right\">38\ud83e\uddca</td><td align=\"right\">39\ud83e\uddca</td><td align=\"right\">40\ud83e\uddca</td><td align=\"right\">41\ud83e\uddca</td></tr>\n",
        "<tr><td align=\"right\">42\ud83e\uddca</td><td align=\"right\">43\ud83e\uddca</td><td align=\"right\">44\ud83e\uddca</td><td>45\ud83e\uddca</td><td align=\"right\">46\ud83e\uddca</td><td align=\"right\">47\ud83e\uddca</td><td align=\"right\">48\ud83d\udc1f</td></tr>\n",
        "<tr><td></td></tr>\n",
        "<tr><td align=\"right\">49\u2611\ufe0f</td></tr>\n",
        "</table>"
      ]
    },
    {
      "cell_type": "markdown",
      "metadata": {
        "id": "FTaEqC2WZCQ3"
      },
      "source": [
        "Script:\n",
        "* I will reuse the same penguin seeking fish environment as in the value iteration video."
      ]
    },
    {
      "cell_type": "code",
      "execution_count": null,
      "metadata": {
        "id": "L1xH7ulWZON9"
      },
      "outputs": [],
      "source": [
        "actions = [\"\u2b06\ufe0f\", \"\u2b07\ufe0f\", \"\u2b05\ufe0f\", \"\u27a1\ufe0f\"]"
      ]
    },
    {
      "cell_type": "code",
      "execution_count": null,
      "metadata": {
        "id": "nxZNoxWtchg0"
      },
      "outputs": [],
      "source": [
        "P = np.zeros(shape=(len(actions), 50, 50))\n",
        "for s in range(48):\n",
        "    # row major order with (0,0) as top left\n",
        "    x = s % 7\n",
        "    y = s // 7\n",
        "\n",
        "    # up action\n",
        "    if y > 0:\n",
        "        P[0, s, s-7] = 1\n",
        "    else:\n",
        "        P[0, s, s] = 1\n",
        "\n",
        "    # down action\n",
        "    if y < 6:\n",
        "        P[1, s, s+7] = 1\n",
        "    else:\n",
        "        P[1, s, s] = 1\n",
        "\n",
        "    # left action\n",
        "    if x > 0:\n",
        "        P[2, s, s-1] = 1\n",
        "    else:\n",
        "        P[2, s, s] = 1\n",
        "\n",
        "    # right action\n",
        "    if x < 6:\n",
        "        P[3, s, s+1] = 1\n",
        "    else:\n",
        "        P[3, s, s] = 1\n",
        "\n",
        "# fish state goes to terminal state\n",
        "P[:,48,49] = 1\n",
        "\n",
        "# stay in terminal state\n",
        "P[:,49,49] = 1"
      ]
    },
    {
      "cell_type": "code",
      "execution_count": null,
      "metadata": {
        "id": "wQu6tp8HcoJk"
      },
      "outputs": [],
      "source": [
        "R = np.zeros(shape=(4,50))\n",
        "R[:,48] = 1"
      ]
    },
    {
      "cell_type": "code",
      "execution_count": null,
      "metadata": {
        "id": "Ce758CG2eDHn"
      },
      "outputs": [],
      "source": [
        "gamma = 0.9"
      ]
    },
    {
      "cell_type": "markdown",
      "metadata": {
        "id": "p9mTliG6ZDcA"
      },
      "source": [
        "## Example Policy\n",
        "\n",
        "<table>\n",
        "<tr><td>\u27a1\ufe0f</td><td>\u27a1\ufe0f</td><td>\u27a1\ufe0f</td><td>\u27a1\ufe0f</td><td>\u27a1\ufe0f</td><td>\u27a1\ufe0f</td><td>\u2b07\ufe0f</td></tr>\n",
        "<tr><td>\u27a1\ufe0f</td><td>\u27a1\ufe0f</td><td>\u27a1\ufe0f</td><td>\u27a1\ufe0f</td><td>\u27a1\ufe0f</td><td>\u27a1\ufe0f</td><td>\u2b07\ufe0f</td></tr>\n",
        "<tr><td>\u27a1\ufe0f</td><td>\u27a1\ufe0f</td><td>\u27a1\ufe0f</td><td>\u27a1\ufe0f</td><td>\u27a1\ufe0f</td><td>\u27a1\ufe0f</td><td>\u2b07\ufe0f</td></tr>\n",
        "<tr><td>\u27a1\ufe0f</td><td>\u27a1\ufe0f</td><td>\u27a1\ufe0f</td><td>\u27a1\ufe0f</td><td>\u27a1\ufe0f</td><td>\u27a1\ufe0f</td><td>\u2b07\ufe0f</td></tr>\n",
        "<tr><td>\u27a1\ufe0f</td><td>\u27a1\ufe0f</td><td>\u27a1\ufe0f</td><td>\u27a1\ufe0f</td><td>\u27a1\ufe0f</td><td>\u27a1\ufe0f</td><td>\u2b07\ufe0f</td></tr>\n",
        "<tr><td>\u27a1\ufe0f</td><td>\u27a1\ufe0f</td><td>\u27a1\ufe0f</td><td>\u27a1\ufe0f</td><td>\u27a1\ufe0f</td><td>\u27a1\ufe0f</td><td>\u2b07\ufe0f</td></tr>\n",
        "<tr><td>\u27a1\ufe0f</td><td>\u27a1\ufe0f</td><td>\u27a1\ufe0f</td><td>\u27a1\ufe0f</td><td>\u27a1\ufe0f</td><td>\u27a1\ufe0f</td><td>\u2b07\ufe0f</td></tr>\n",
        "<tr><td></td></tr>\n",
        "<tr><td>\u27a1\ufe0f</td></tr>\n",
        "</table>\n"
      ]
    },
    {
      "cell_type": "markdown",
      "metadata": {
        "id": "pvP7KbXfZFxk"
      },
      "source": [
        "Script:\n",
        "* To demonstrate iterative policy evaluation, I will use this policy.\n",
        "* Go right unless the penguin is on the right edge of the grid.\n",
        "* And go down if on the right edge of the grid.\n",
        "* This is one of many optimal policies for this environment."
      ]
    },
    {
      "cell_type": "code",
      "execution_count": null,
      "metadata": {
        "colab": {
          "base_uri": "https://localhost:8080/"
        },
        "id": "h_u4qA-AZRAF",
        "outputId": "f4a76028-92a3-45a4-c413-ba6a96e3bcd8"
      },
      "outputs": [
        {
          "data": {
            "text/plain": [
              "array([3, 3, 3, 3, 3, 3, 1, 3, 3, 3, 3, 3, 3, 1, 3, 3, 3, 3, 3, 3, 1, 3,\n",
              "       3, 3, 3, 3, 3, 1, 3, 3, 3, 3, 3, 3, 1, 3, 3, 3, 3, 3, 3, 1, 3, 3,\n",
              "       3, 3, 3, 3, 1, 3])"
            ]
          },
          "execution_count": null,
          "metadata": {},
          "output_type": "execute_result"
        }
      ],
      "source": [
        "pi = np.zeros(50, dtype=\"int64\")\n",
        "# all states pick action 3 (right)\n",
        "pi[:] = 3\n",
        "# change right edge states to pick action 1 (down)\n",
        "pi[6:49:7] = 1\n",
        "pi"
      ]
    },
    {
      "cell_type": "markdown",
      "metadata": {
        "id": "ej84JRVeZd_E"
      },
      "source": [
        "Script:\n",
        "* This is a deterministic policy, so it just has one entry specifying the action for each state.\n",
        "* We can visualize quickly to double check."
      ]
    },
    {
      "cell_type": "code",
      "execution_count": null,
      "metadata": {
        "colab": {
          "base_uri": "https://localhost:8080/"
        },
        "id": "_ebwd6SYsfjm",
        "outputId": "486d6d0d-dcc0-4f96-f68d-2b4fcc42215d"
      },
      "outputs": [
        {
          "data": {
            "text/plain": [
              "array([['\u27a1\ufe0f', '\u27a1\ufe0f', '\u27a1\ufe0f', '\u27a1\ufe0f', '\u27a1\ufe0f', '\u27a1\ufe0f', '\u2b07\ufe0f'],\n",
              "       ['\u27a1\ufe0f', '\u27a1\ufe0f', '\u27a1\ufe0f', '\u27a1\ufe0f', '\u27a1\ufe0f', '\u27a1\ufe0f', '\u2b07\ufe0f'],\n",
              "       ['\u27a1\ufe0f', '\u27a1\ufe0f', '\u27a1\ufe0f', '\u27a1\ufe0f', '\u27a1\ufe0f', '\u27a1\ufe0f', '\u2b07\ufe0f'],\n",
              "       ['\u27a1\ufe0f', '\u27a1\ufe0f', '\u27a1\ufe0f', '\u27a1\ufe0f', '\u27a1\ufe0f', '\u27a1\ufe0f', '\u2b07\ufe0f'],\n",
              "       ['\u27a1\ufe0f', '\u27a1\ufe0f', '\u27a1\ufe0f', '\u27a1\ufe0f', '\u27a1\ufe0f', '\u27a1\ufe0f', '\u2b07\ufe0f'],\n",
              "       ['\u27a1\ufe0f', '\u27a1\ufe0f', '\u27a1\ufe0f', '\u27a1\ufe0f', '\u27a1\ufe0f', '\u27a1\ufe0f', '\u2b07\ufe0f'],\n",
              "       ['\u27a1\ufe0f', '\u27a1\ufe0f', '\u27a1\ufe0f', '\u27a1\ufe0f', '\u27a1\ufe0f', '\u27a1\ufe0f', '\u2b07\ufe0f']], dtype='<U2')"
            ]
          },
          "execution_count": null,
          "metadata": {},
          "output_type": "execute_result"
        }
      ],
      "source": [
        "np.asarray([actions[a] for a in pi[:49]]).reshape(7, 7)"
      ]
    },
    {
      "cell_type": "markdown",
      "metadata": {
        "id": "7_gXBi9yseaA"
      },
      "source": [
        "Script:\n",
        "* Now let's run our iterative policy evaluation code."
      ]
    },
    {
      "cell_type": "code",
      "execution_count": null,
      "metadata": {
        "colab": {
          "base_uri": "https://localhost:8080/"
        },
        "id": "6FXo7BX3aC9O",
        "outputId": "d71de4a8-6f91-4cf2-d3b0-2ddc5657df17"
      },
      "outputs": [
        {
          "data": {
            "text/plain": [
              "array([0.28242954, 0.3138106 , 0.34867844, 0.38742049, 0.43046721,\n",
              "       0.4782969 , 0.531441  , 0.3138106 , 0.34867844, 0.38742049,\n",
              "       0.43046721, 0.4782969 , 0.531441  , 0.59049   , 0.34867844,\n",
              "       0.38742049, 0.43046721, 0.4782969 , 0.531441  , 0.59049   ,\n",
              "       0.6561    , 0.38742049, 0.43046721, 0.4782969 , 0.531441  ,\n",
              "       0.59049   , 0.6561    , 0.729     , 0.43046721, 0.4782969 ,\n",
              "       0.531441  , 0.59049   , 0.6561    , 0.729     , 0.81      ,\n",
              "       0.4782969 , 0.531441  , 0.59049   , 0.6561    , 0.729     ,\n",
              "       0.81      , 0.9       , 0.531441  , 0.59049   , 0.6561    ,\n",
              "       0.729     , 0.81      , 0.9       , 1.        , 0.        ])"
            ]
          },
          "execution_count": null,
          "metadata": {},
          "output_type": "execute_result"
        }
      ],
      "source": [
        "v_pi = iterative_policy_evaluation(R, P, gamma, pi)\n",
        "v_pi"
      ]
    },
    {
      "cell_type": "markdown",
      "metadata": {
        "id": "TRYnN_k7aBbE"
      },
      "source": [
        "Script:\n",
        "* This looks similar to the optimal values that we saw in the value iteration video.\n",
        "* Let's plot the values to spot check."
      ]
    },
    {
      "cell_type": "code",
      "execution_count": null,
      "metadata": {
        "colab": {
          "base_uri": "https://localhost:8080/",
          "height": 430
        },
        "id": "qthU6lzoaJrB",
        "outputId": "48faf2e9-3f2d-4885-ce44-2c031a64be0b"
      },
      "outputs": [
        {
          "data": {
            "image/png": "[encoded data removed]",
            "text/plain": [
              "<Figure size 640x480 with 1 Axes>"
            ]
          },
          "metadata": {},
          "output_type": "display_data"
        }
      ],
      "source": [
        "plt.imshow(v_pi[:49].reshape(7, 7));"
      ]
    },
    {
      "cell_type": "markdown",
      "metadata": {
        "id": "3zfwIx_QaHXO"
      },
      "source": [
        "Script:\n",
        "* As we saw before with value iteration, the state values are determined by the number of steps for the penguin to get to the fish."
      ]
    },
    {
      "cell_type": "markdown",
      "metadata": {
        "id": "ZUaKsNujaNC-"
      },
      "source": [
        "Script: (faculty on screen)\n",
        "* If you have a policy in hand, iterative policy evaluation can compute its values easily.\n",
        "* Compared to value iteration, it will typically be faster since the first thing it does is factor out the actions.\n",
        "* So the iteration part of the algorithm is essentially running with just one action where there were previously $k$.\n",
        "* The catch for this speedup is that iterative policy evaluation needs a policy as input, and only evaluates the given policy.\n",
        "* It does not optimize the policy.\n",
        "* We will cover explicit policy construction in a follow up video."
      ]
    }
  ],
  "metadata": {
    "colab": {},
    "kernelspec": {
      "display_name": "Python 3",
      "name": "python3"
    },
    "language_info": {
      "codemirror_mode": {
        "name": "ipython",
        "version": 3
      },
      "file_extension": ".py",
      "mimetype": "text/x-python",
      "name": "python",
      "nbconvert_exporter": "python",
      "pygments_lexer": "ipython3",
      "version": "3.9.6"
    }
  },
  "nbformat": 4,
  "nbformat_minor": 0
}