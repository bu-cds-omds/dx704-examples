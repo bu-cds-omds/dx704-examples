{
  "cells": [
    {
      "cell_type": "markdown",
      "metadata": {
        "id": "xCaN3DcBUYWa"
      },
      "source": [
        "# Video: Implementing Policy Iteration\n",
        "\n",
        "Policy iteration methods are a common method to solve modest-sized Markov decision problems.\n",
        "They build on the ideas of value iteration methods, but directly calculate a policy so the policy does not need to be reconstructed later.\n",
        "This video will walk through implementing policy iteration and a faster variation."
      ]
    },
    {
      "cell_type": "markdown",
      "metadata": {
        "id": "kS3u_A46kCCa"
      },
      "source": [
        "Script: (faculty on screen)\n",
        "* Policy iteration methods are a common method to solve modest-sized Markov decision problems.\n",
        "* In this video, I will show you how to implement policy iteration and common speedups to the base algorithm."
      ]
    },
    {
      "cell_type": "markdown",
      "metadata": {
        "id": "_ngDaNSLkJJA"
      },
      "source": [
        "## Problem Setup\n",
        "\n",
        "Problem size:\n",
        "* $k$ actions\n",
        "* $n$ states\n",
        "\n",
        "Problem dynamics:\n",
        "* $R: k \\times n$ array of expected rewards for each action+state\n",
        "* $P: k \\times n \\times n$ array of transition probabilities for each action/current state/next state.\n",
        "* $\\gamma$ discount factor for future rewards"
      ]
    },
    {
      "cell_type": "markdown",
      "metadata": {
        "id": "JwwQcSCBk8E1"
      },
      "source": [
        "Script:\n",
        "* Policy iteration considers the same problems as value iteration.\n",
        "* What is the optimal behavior for a Markov decision problem?\n",
        "* Policy iteration focuses on computing an optimal policy where value iteration focused on optimal values.\n",
        "* You will see that policy iteration also computes optimal values along the way."
      ]
    },
    {
      "cell_type": "markdown",
      "metadata": {
        "id": "LV-6JZCqlu-I"
      },
      "source": [
        "## Policy Iteration Algorithm\n",
        "\n",
        "1. Pick arbitrary initial policy $\\pi_0$.\n",
        "2. Set $\\mathbf{v}_0 = \\mathbf{v}_{\\pi_0}$ using iterative policy evaluation.\n",
        "3. For $i = 0, 1, 2, \\ldots$ until policy stops changing:\n",
        "\\begin{array}{rcl}\n",
        "\\pi_{i+1}(s) & = & \\mathrm{argmax}_{a \\in A(s)} \\mathcal{R}^a + \\gamma \\mathcal{P}^a v_i \\\\\n",
        "\\mathbf{v}_{i+1}(s) & = & \\mathbf{v}_{\\pi_{i+1}}~\\text{using value iteration}\n",
        "\\end{array}\n"
      ]
    },
    {
      "cell_type": "markdown",
      "metadata": {
        "id": "WIv2QiSEok1S"
      },
      "source": [
        "Script:\n",
        "* Here is the basic form of policy iteration.\n",
        "* First, you start with an arbitrary first policy, $\\pi_0$.\n",
        "* This first policy can be anything.\n",
        "* It could pick actions uniformly at random, or just pick the first action.\n",
        "* The main loop of policy iteration will deterministic policies, so it will be more convenient to start with a deterministic policy too.\n",
        "* After picking the first policy, use iterative policy evaluation to compute the values under that policy.\n",
        "* Then the main loop alternates between improving the policy given those values, and improving the values given the new policy.\n",
        "* Like with value iteration, policy iteration runs until the changes stop or become small.\n",
        "* Let's look at some code now."
      ]
    },
    {
      "cell_type": "code",
      "execution_count": null,
      "metadata": {
        "id": "9QpsdCTfwsq0"
      },
      "outputs": [],
      "source": [
        "import matplotlib.pyplot as plt\n",
        "import numpy as np"
      ]
    },
    {
      "cell_type": "code",
      "execution_count": null,
      "metadata": {
        "id": "F0pusdk9wtPL"
      },
      "outputs": [],
      "source": [
        "# copied from Implementing Value Iteration video\n",
        "def compute_qT_once(R, P, gamma, v):\n",
        "    return R + gamma * P @ v"
      ]
    },
    {
      "cell_type": "code",
      "execution_count": null,
      "metadata": {
        "id": "z8jqMWPMwtBl"
      },
      "outputs": [],
      "source": [
        "# copied from Implementing Value Iteration video\n",
        "def iterate_values_once(R, P, gamma, v):\n",
        "    return np.max(compute_qT_once(R, P, gamma, v), axis=0)"
      ]
    },
    {
      "cell_type": "code",
      "execution_count": null,
      "metadata": {
        "id": "zSaNo9cD092j"
      },
      "outputs": [],
      "source": [
        "# copied from Implementing Value Iteration video\n",
        "def value_iteration(R, P, gamma, max_iterations=100, tolerance=0.001):\n",
        "    # initial approximation v_0\n",
        "    v_old = np.zeros(R.shape[-1])\n",
        "\n",
        "    for i in range(max_iterations):\n",
        "        # compute v_{i+1}\n",
        "        v_new = iterate_values_once(R, P, gamma, v_old)\n",
        "\n",
        "        # check if values did not change much\n",
        "        if np.max(np.abs(v_new - v_old)) < tolerance:\n",
        "            return v_new\n",
        "\n",
        "        v_old = v_new\n",
        "\n",
        "    # return v_{max_iterations}\n",
        "    return v_old"
      ]
    },
    {
      "cell_type": "code",
      "execution_count": null,
      "metadata": {
        "id": "NppgDPTzw6eX"
      },
      "outputs": [],
      "source": [
        "# copied from Implementing Iterative Policy Evaluation Video\n",
        "def iterative_policy_evaluation(R, P, gamma, pi, max_iterations=100, tolerance=0.001):\n",
        "    # factor out action choices using policy.\n",
        "\n",
        "    # deterministic version\n",
        "    n = R.shape[-1]\n",
        "    R_pi = R[pi, np.arange(n)]\n",
        "    P_pi = P[pi, np.arange(n),:]\n",
        "\n",
        "    # reshape to one dummy action to reuse previous example code\n",
        "    R_pi = R_pi.reshape(1, *R_pi.shape)\n",
        "    P_pi = P_pi.reshape(1, *P_pi.shape)\n",
        "\n",
        "    # initial approximation v_0\n",
        "    v_old = np.zeros(R.shape[-1])\n",
        "\n",
        "    for i in range(max_iterations):\n",
        "        # compute v_{i+1}\n",
        "        v_new = iterate_values_once(R_pi, P_pi, gamma, v_old)\n",
        "\n",
        "        # check if values did not change much\n",
        "        if np.max(np.abs(v_new - v_old)) < tolerance:\n",
        "            return v_new\n",
        "\n",
        "        v_old = v_new\n",
        "\n",
        "    # return v_{max_iterations}\n",
        "    return v_old"
      ]
    },
    {
      "cell_type": "markdown",
      "metadata": {
        "id": "RwFHk1WTyUWL"
      },
      "source": [
        "Script:\n",
        "* I copied some of the code from the previous videos on value iteration and iterative policy evaluation.\n",
        "* We will be using it with some modifications for policy iteration."
      ]
    },
    {
      "cell_type": "code",
      "execution_count": null,
      "metadata": {
        "id": "7bUNWg5-xAXI"
      },
      "outputs": [],
      "source": [
        "def policy_iteration_baseline(R, P, gamma, max_iterations=100, tolerance=0.001):\n",
        "    pi_old = np.zeros(R.shape[-1], dtype=\"int64\")\n",
        "    v_old = iterative_policy_evaluation(R, P, gamma, pi_old)\n",
        "\n",
        "    for i in range(max_iterations):\n",
        "        # compute new policy\n",
        "        pi_new = np.argmax(compute_qT_once(R, P, gamma, v_old), axis=0)\n",
        "        if np.array_equal(pi_new, pi_old):\n",
        "            return pi_new, v_old\n",
        "\n",
        "        # compute new values\n",
        "        v_new = iterative_policy_evaluation(R, P, gamma, pi_new)\n",
        "        if np.max(np.abs(v_new - v_old)) < tolerance:\n",
        "            return pi_new, v_new\n",
        "\n",
        "        pi_old = pi_new\n",
        "        v_old = v_new\n",
        "\n",
        "    return pi_old, v_old"
      ]
    },
    {
      "cell_type": "markdown",
      "metadata": {
        "id": "WNYLJQ31w_aB"
      },
      "source": [
        "Script:\n",
        "* I copied and modified the value iteration code for the first version of policy iteration.\n",
        "* The big changes are that the values are always computed from the latest policy.\n",
        "* The policy updates are pretty similar to the old value updates; they just change the max to an argmax.\n",
        "* Let's test it out on our example environment."
      ]
    },
    {
      "cell_type": "markdown",
      "metadata": {
        "id": "urA8dPL7yd-j"
      },
      "source": [
        "## Example Environment\n",
        "\n",
        "<table>\n",
        "<tr><td align=\"right\">0\ud83e\uddca</td><td align=\"right\">1\ud83e\uddca</td><td align=\"right\">2\ud83e\uddca</td><td align=\"right\">3\ud83e\uddca</td><td align=\"right\">4\ud83e\uddca</td><td align=\"right\">5\ud83e\uddca</td><td align=\"right\">6\ud83e\uddca</td></tr>\n",
        "<tr><td align=\"right\">7\ud83e\uddca</td><td align=\"right\">8\ud83e\uddca</td><td align=\"right\">9\ud83e\uddca</td><td align=\"right\">10\ud83e\uddca</td><td align=\"right\">11\ud83e\uddca</td><td align=\"right\">12\ud83e\uddca</td><td align=\"right\">13\ud83e\uddca</td></tr>\n",
        "<tr><td align=\"right\">14\ud83e\uddca</td><td align=\"right\">15\ud83e\uddca</td><td align=\"right\">16\ud83e\uddca</td><td align=\"right\">17\ud83e\uddca</td><td align=\"right\">18\ud83e\uddca</td><td align=\"right\">19\ud83e\uddca</td><td align=\"right\">20\ud83e\uddca</td></tr>\n",
        "<tr><td align=\"right\">21\ud83e\uddca</td><td align=\"right\">22\ud83e\uddca</td><td align=\"right\">23\ud83e\uddca</td><td align=\"right\">24\ud83e\uddca</td><td align=\"right\">25\ud83e\uddca</td><td align=\"right\">26\ud83e\uddca</td><td align=\"right\">27\ud83e\uddca</td></tr>\n",
        "<tr><td align=\"right\">28\ud83e\uddca</td><td align=\"right\">29\ud83e\uddca</td><td align=\"right\">30\ud83e\uddca</td><td align=\"right\">31\ud83e\uddca</td><td align=\"right\">32\ud83e\uddca</td><td align=\"right\">33\ud83e\uddca</td><td align=\"right\">34\ud83e\uddca</td></tr>\n",
        "<tr><td align=\"right\">35\ud83e\uddca</td><td align=\"right\">36\ud83e\uddca</td><td align=\"right\">37\ud83e\uddca</td><td align=\"right\">38\ud83e\uddca</td><td align=\"right\">39\ud83e\uddca</td><td align=\"right\">40\ud83e\uddca</td><td align=\"right\">41\ud83e\uddca</td></tr>\n",
        "<tr><td align=\"right\">42\ud83e\uddca</td><td align=\"right\">43\ud83e\uddca</td><td align=\"right\">44\ud83e\uddca</td><td>45\ud83e\uddca</td><td align=\"right\">46\ud83e\uddca</td><td align=\"right\">47\ud83e\uddca</td><td align=\"right\">48\ud83d\udc1f</td></tr>\n",
        "<tr><td></td></tr>\n",
        "<tr><td align=\"right\">49\u2611\ufe0f</td></tr>\n",
        "</table>"
      ]
    },
    {
      "cell_type": "markdown",
      "metadata": {
        "id": "Rj8ZGc9XygHh"
      },
      "source": [
        "Script:\n",
        "* Here is our beloved hungry penguin environment."
      ]
    },
    {
      "cell_type": "code",
      "execution_count": null,
      "metadata": {
        "id": "ARHaecN1ypgs"
      },
      "outputs": [],
      "source": [
        "actions = [\"\u2b06\ufe0f\", \"\u2b07\ufe0f\", \"\u2b05\ufe0f\", \"\u27a1\ufe0f\"]"
      ]
    },
    {
      "cell_type": "code",
      "execution_count": null,
      "metadata": {
        "id": "fe-ATt_Pyx6D"
      },
      "outputs": [],
      "source": [
        "P = np.zeros(shape=(len(actions), 50, 50))\n",
        "for s in range(48):\n",
        "    # row major order with (0,0) as top left\n",
        "    x = s % 7\n",
        "    y = s // 7\n",
        "\n",
        "    # up action\n",
        "    if y > 0:\n",
        "        P[0, s, s-7] = 1\n",
        "    else:\n",
        "        P[0, s, s] = 1\n",
        "\n",
        "    # down action\n",
        "    if y < 6:\n",
        "        P[1, s, s+7] = 1\n",
        "    else:\n",
        "        P[1, s, s] = 1\n",
        "\n",
        "    # left action\n",
        "    if x > 0:\n",
        "        P[2, s, s-1] = 1\n",
        "    else:\n",
        "        P[2, s, s] = 1\n",
        "\n",
        "    # right action\n",
        "    if x < 6:\n",
        "        P[3, s, s+1] = 1\n",
        "    else:\n",
        "        P[3, s, s] = 1\n",
        "\n",
        "# fish state goes to terminal state\n",
        "P[:,48,49] = 1\n",
        "\n",
        "# stay in terminal state\n",
        "P[:,49,49] = 1"
      ]
    },
    {
      "cell_type": "code",
      "execution_count": null,
      "metadata": {
        "id": "ImlDA_fty3H3"
      },
      "outputs": [],
      "source": [
        "R = np.zeros(shape=(4,50))\n",
        "R[:,48] = 1"
      ]
    },
    {
      "cell_type": "code",
      "execution_count": null,
      "metadata": {
        "id": "KPHQETtYy3k0"
      },
      "outputs": [],
      "source": [
        "gamma = 0.9"
      ]
    },
    {
      "cell_type": "markdown",
      "metadata": {
        "id": "v2UBDmR8y957"
      },
      "source": [
        "Script:\n",
        "* I setup the rewards and transitions the same as when we were looking at value iteration.\n",
        "* Let's test out the policy iteration now."
      ]
    },
    {
      "cell_type": "code",
      "execution_count": null,
      "metadata": {
        "colab": {
          "base_uri": "https://localhost:8080/"
        },
        "id": "1vMFx-_Vy_MU",
        "outputId": "0f5d27c2-f4b0-4afa-e109-8c5199dfec2d"
      },
      "outputs": [
        {
          "data": {
            "text/plain": [
              "array([1, 1, 1, 1, 1, 1, 1, 1, 1, 1, 1, 1, 1, 1, 1, 1, 1, 1, 1, 1, 1, 1,\n",
              "       1, 1, 1, 1, 1, 1, 1, 1, 1, 1, 1, 1, 1, 1, 1, 1, 1, 1, 1, 1, 3, 3,\n",
              "       3, 3, 3, 3, 0, 0])"
            ]
          },
          "execution_count": null,
          "metadata": {},
          "output_type": "execute_result"
        }
      ],
      "source": [
        "(pi_star, v_star) = policy_iteration_baseline(R, P, gamma)\n",
        "pi_star"
      ]
    },
    {
      "cell_type": "markdown",
      "metadata": {
        "id": "rnpTXy0KzKBH"
      },
      "source": [
        "Script:\n",
        "* Policy iteration can return both a policy and values to match since it computes both of them.\n",
        "* This policy is different from our previous example.\n",
        "* Let's visualize it."
      ]
    },
    {
      "cell_type": "code",
      "execution_count": null,
      "metadata": {
        "colab": {
          "base_uri": "https://localhost:8080/"
        },
        "id": "PqytbstTzQPD",
        "outputId": "544e1dc6-15c3-43e8-c7ff-854b8d4c1a6b"
      },
      "outputs": [
        {
          "data": {
            "text/plain": [
              "array([['\u2b07\ufe0f', '\u2b07\ufe0f', '\u2b07\ufe0f', '\u2b07\ufe0f', '\u2b07\ufe0f', '\u2b07\ufe0f', '\u2b07\ufe0f'],\n",
              "       ['\u2b07\ufe0f', '\u2b07\ufe0f', '\u2b07\ufe0f', '\u2b07\ufe0f', '\u2b07\ufe0f', '\u2b07\ufe0f', '\u2b07\ufe0f'],\n",
              "       ['\u2b07\ufe0f', '\u2b07\ufe0f', '\u2b07\ufe0f', '\u2b07\ufe0f', '\u2b07\ufe0f', '\u2b07\ufe0f', '\u2b07\ufe0f'],\n",
              "       ['\u2b07\ufe0f', '\u2b07\ufe0f', '\u2b07\ufe0f', '\u2b07\ufe0f', '\u2b07\ufe0f', '\u2b07\ufe0f', '\u2b07\ufe0f'],\n",
              "       ['\u2b07\ufe0f', '\u2b07\ufe0f', '\u2b07\ufe0f', '\u2b07\ufe0f', '\u2b07\ufe0f', '\u2b07\ufe0f', '\u2b07\ufe0f'],\n",
              "       ['\u2b07\ufe0f', '\u2b07\ufe0f', '\u2b07\ufe0f', '\u2b07\ufe0f', '\u2b07\ufe0f', '\u2b07\ufe0f', '\u2b07\ufe0f'],\n",
              "       ['\u27a1\ufe0f', '\u27a1\ufe0f', '\u27a1\ufe0f', '\u27a1\ufe0f', '\u27a1\ufe0f', '\u27a1\ufe0f', '\u2b06\ufe0f']], dtype='<U2')"
            ]
          },
          "execution_count": null,
          "metadata": {},
          "output_type": "execute_result"
        }
      ],
      "source": [
        "np.asarray([actions[a] for a in pi_star[:49]]).reshape(7, 7)"
      ]
    },
    {
      "cell_type": "markdown",
      "metadata": {
        "id": "io7n02oxzWxd"
      },
      "source": [
        "Script:\n",
        "* This policy is optimal.\n",
        "* It goes down first instead of right first, but that does not change the optimality for this problem.\n",
        "* There is an up action at the fish location, but don't worry.\n",
        "* The action does not matter for that state.\n",
        "* Let's check the values too."
      ]
    },
    {
      "cell_type": "code",
      "execution_count": null,
      "metadata": {
        "colab": {
          "base_uri": "https://localhost:8080/",
          "height": 430
        },
        "id": "NLd1pYHVzqNr",
        "outputId": "49fa44ec-dc6f-46bc-d45c-9dd230172511"
      },
      "outputs": [
        {
          "data": {
            "image/png": "[encoded data removed]",
            "text/plain": [
              "<Figure size 640x480 with 1 Axes>"
            ]
          },
          "metadata": {},
          "output_type": "display_data"
        }
      ],
      "source": [
        "plt.imshow(v_star[:49].reshape(7, 7));"
      ]
    },
    {
      "cell_type": "markdown",
      "metadata": {
        "id": "y8l7D1jkztx1"
      },
      "source": [
        "Script:\n",
        "* That looks like the same optimal values that we have previously looked at."
      ]
    },
    {
      "cell_type": "markdown",
      "metadata": {
        "id": "U7U7bTx4onZs"
      },
      "source": [
        "## Policy Iteration Algorithm with Warm Start\n",
        "\n",
        "1. Pick arbitrary initial policy $\\pi_0$ (e.g. uniform random actions).\n",
        "2. Set $\\mathbf{v}_0 = \\mathbf{v}_{\\pi_0}$ using iterative policy evaluation starting from zero values.\n",
        "3. For $i = 0, 1, 2, \\ldots$ until policy stops changing:\n",
        "\\begin{array}{rcl}\n",
        "\\pi_{i+1}(s) & = & \\mathrm{argmax}_{a \\in A(s)} \\mathcal{R}^a + \\gamma \\mathcal{P}^a \\mathbf{v}_i(s) \\\\\n",
        "\\mathbf{v}_{i+1} & = & \\mathbf{v}_{\\pi_{i+1}}~\\text{using iterative policy evaluation starting from}~\\mathbf{v}_i \\\\\n",
        "\\end{array}\n"
      ]
    },
    {
      "cell_type": "markdown",
      "metadata": {
        "id": "7Pt8VgiXpICp"
      },
      "source": [
        "Script:\n",
        "* The most expensive step of policy iteration is the value updates.\n",
        "* We can speed them up by starting them from the previous set of values.\n",
        "* To do so, we will have to update our iterative policy evaluation function."
      ]
    },
    {
      "cell_type": "code",
      "execution_count": null,
      "metadata": {
        "id": "49NZ8WeR0IZS"
      },
      "outputs": [],
      "source": [
        "# copied from Implementing Iterative Policy Evaluation Video\n",
        "def iterative_policy_evaluation(R, P, gamma, pi, max_iterations=100, tolerance=0.001, warmstart=None):\n",
        "    # factor out action choices using policy.\n",
        "\n",
        "    # deterministic version\n",
        "    n = R.shape[-1]\n",
        "    R_pi = R[pi, np.arange(n)]\n",
        "    P_pi = P[pi, np.arange(n),:]\n",
        "\n",
        "    # reshape to one dummy action to reuse previous example code\n",
        "    R_pi = R_pi.reshape(1, *R_pi.shape)\n",
        "    P_pi = P_pi.reshape(1, *P_pi.shape)\n",
        "\n",
        "    # initial approximation v_0\n",
        "    v_old = warmstart if warmstart is not None else np.zeros(R.shape[-1])\n",
        "\n",
        "    for i in range(max_iterations):\n",
        "        # compute v_{i+1}\n",
        "        v_new = iterate_values_once(R_pi, P_pi, gamma, v_old)\n",
        "\n",
        "        # check if values did not change much\n",
        "        if np.max(np.abs(v_new - v_old)) < tolerance:\n",
        "            return v_new\n",
        "\n",
        "        v_old = v_new\n",
        "\n",
        "    # return v_{max_iterations}\n",
        "    return v_old"
      ]
    },
    {
      "cell_type": "markdown",
      "metadata": {
        "id": "9eR4CMcz2ImO"
      },
      "source": [
        "Script:\n",
        "* I just added a warmstart parameter, and changed the value initialization to use it if it is present."
      ]
    },
    {
      "cell_type": "code",
      "execution_count": null,
      "metadata": {
        "id": "cAIXeCmCz_QN"
      },
      "outputs": [],
      "source": [
        "def policy_iteration_warmstart(R, P, gamma, max_iterations=100, tolerance=0.001):\n",
        "    pi_old = np.zeros(R.shape[-1], dtype=\"int64\")\n",
        "    v_old = iterative_policy_evaluation(R, P, gamma, pi_old)\n",
        "\n",
        "    for i in range(max_iterations):\n",
        "        # compute new policy\n",
        "        pi_new = np.argmax(compute_qT_once(R, P, gamma, v_old), axis=0)\n",
        "        if np.array_equal(pi_new, pi_old):\n",
        "            return pi_new, v_old\n",
        "\n",
        "        # compute new values\n",
        "        v_new = iterative_policy_evaluation(R, P, gamma, pi_new, warmstart=v_old)\n",
        "        if np.max(np.abs(v_new - v_old)) < tolerance:\n",
        "            return pi_new, v_new\n",
        "\n",
        "        pi_old = pi_new\n",
        "        v_old = v_new\n",
        "\n",
        "    return pi_old, v_old"
      ]
    },
    {
      "cell_type": "markdown",
      "metadata": {
        "id": "gi9QQTyT0Vf8"
      },
      "source": [
        "Script:\n",
        "* The new policy iteration version just adds that warmstart parameter when calling it in the main loop."
      ]
    },
    {
      "cell_type": "code",
      "execution_count": null,
      "metadata": {
        "colab": {
          "base_uri": "https://localhost:8080/"
        },
        "id": "-_j1fS1B0Uw8",
        "outputId": "b4f1e34b-8ff1-47db-b88a-63227ee4f6c7"
      },
      "outputs": [
        {
          "data": {
            "text/plain": [
              "array([1, 1, 1, 1, 1, 1, 1, 1, 1, 1, 1, 1, 1, 1, 1, 1, 1, 1, 1, 1, 1, 1,\n",
              "       1, 1, 1, 1, 1, 1, 1, 1, 1, 1, 1, 1, 1, 1, 1, 1, 1, 1, 1, 1, 3, 3,\n",
              "       3, 3, 3, 3, 0, 0])"
            ]
          },
          "execution_count": null,
          "metadata": {},
          "output_type": "execute_result"
        }
      ],
      "source": [
        "(pi_warmstart, v_warmstart) = policy_iteration_warmstart(R, P, gamma)\n",
        "pi_warmstart"
      ]
    },
    {
      "cell_type": "markdown",
      "metadata": {
        "id": "rCsCBe180gWO"
      },
      "source": [
        "Script:\n",
        "* We get the same policy out now, but it's slightly faster."
      ]
    },
    {
      "cell_type": "markdown",
      "metadata": {
        "id": "suXUmNKj0hqJ"
      },
      "source": [
        "Script: (faculty on camera)\n",
        "* Policy iteration is a useful method for computing optimal policies and values.\n",
        "* There are many variations of policy iteration.\n",
        "* The warmstart version that we just covered will always be an improvement over the baseline.\n",
        "* Other variations may be useful more situationally."
      ]
    }
  ],
  "metadata": {
    "colab": {},
    "kernelspec": {
      "display_name": "Python 3",
      "name": "python3"
    },
    "language_info": {
      "codemirror_mode": {
        "name": "ipython",
        "version": 3
      },
      "file_extension": ".py",
      "mimetype": "text/x-python",
      "name": "python",
      "nbconvert_exporter": "python",
      "pygments_lexer": "ipython3",
      "version": "3.9.6"
    }
  },
  "nbformat": 4,
  "nbformat_minor": 0
}