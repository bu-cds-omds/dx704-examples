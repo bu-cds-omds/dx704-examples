{
  "cells": [
    {
      "cell_type": "markdown",
      "metadata": {
        "id": "r_v2vs4UUcXv"
      },
      "source": [
        "# Video: Implementing Value Iteration\n",
        "\n",
        "Value iteration is our first algorithm for computing optimal values for Markov decision processes with infinite horizons.\n",
        "This video implements data structures to represent a finite Markov decision process and compute its optimal values."
      ]
    },
    {
      "cell_type": "markdown",
      "metadata": {
        "id": "jvRpBPsASA5l"
      },
      "source": [
        "Script:\n",
        "* Value iteration is a simple algorithm for computing optimal values for Markov decision processes.\n",
        "* It works for finite Markov decision processes and converges to the infinite horizon values."
      ]
    },
    {
      "cell_type": "markdown",
      "metadata": {
        "id": "Uf2T8xtuQv0V"
      },
      "source": [
        "## Problem Setup\n",
        "\n",
        "Problem size:\n",
        "* $k$ actions\n",
        "* $n$ states\n",
        "\n",
        "Problem dynamics:\n",
        "* $\\mathcal{R}: k \\times n$ array of expected rewards for each action+state\n",
        "* $\\mathcal{P}: k \\times n \\times n$ array of transition probabilities for each action/current state/next state.\n",
        "* $\\gamma$ discount factor for future rewards"
      ]
    },
    {
      "cell_type": "markdown",
      "metadata": {
        "id": "pxmCt7d3SCnJ"
      },
      "source": [
        "Script:\n",
        "* We will describe the problem using $k$ actions and $n$ states.\n",
        "* The rewards will be in a 2-dimensional array $\\mathcal{R}$ with shape $k$ by $n$.\n",
        "* The rows of $\\mathcal{R}$ will identify actions, the columns of $\\mathcal{r}$ will identify states, and the values in $\\mathcal{R}$ will be the expected rewards.\n",
        "* The transition probabilities will be in a 3-dimensional array $\\mathcal{P}$ where the first dimension identifies an action, the second dimension identifies the current state, and third dimension identifies the next state.\n",
        "* Finally, the parameter $\\gamma$ will be the discount factor."
      ]
    },
    {
      "cell_type": "markdown",
      "metadata": {
        "id": "Jevp1z8zRel3"
      },
      "source": [
        "## Value Iteration Algorithm\n",
        "\n",
        "1. Initialize $\\mathbf{v}_0 = [0,\\ldots, 0]$.\n",
        "2. Repeat until values stop changing significantly:\n",
        "\\begin{array}{rcl}\n",
        "\\mathbf{v}_{i+1}&=&\\max_a \\mathcal{R}^a + \\gamma \\mathcal{P}^a \\mathbf{v}_i\n",
        "\\end{array}"
      ]
    },
    {
      "cell_type": "markdown",
      "metadata": {
        "id": "iHWfQHnYSIwo"
      },
      "source": [
        "Script:\n",
        "* Value iteration typically starts with a vector of all zero values.\n",
        "* This initialization will lead to the $i$th value vector corresponding to the best possible value achievable within $i$ steps.\n",
        "* In the update formula, $\\mathcal{R}^a$ denotes the average state rewards after picking action $a$ while $\\mathcal{P}^a$ similarly denotes the transition probabilities after picking action $a$.\n",
        "* Then given the $i$th vector of values, the next vector of values is computed for each possible first action $a$, using $\\gamma$, $\\mathcal{R}^a$ and $\\mathcal{P}^a$ to compute the immediate reward and the discounted future reward.\n",
        "* This process continues as long as the values keep changing by meaningful amounts.\n",
        "* Specific thresholds for meaningful will depend on the particular problem."
      ]
    },
    {
      "cell_type": "code",
      "execution_count": null,
      "metadata": {
        "id": "sBLoCvelQDIz"
      },
      "outputs": [],
      "source": [
        "import matplotlib.pyplot as plt\n",
        "import numpy as np"
      ]
    },
    {
      "cell_type": "code",
      "execution_count": null,
      "metadata": {
        "id": "PdVlgHBiPt-t"
      },
      "outputs": [],
      "source": [
        "# one step state-action values from a value estimate.\n",
        "# will use this a lot!\n",
        "\n",
        "def compute_qT_once(R, P, gamma, v):\n",
        "    return R + gamma * P @ v"
      ]
    },
    {
      "cell_type": "markdown",
      "metadata": {
        "id": "yD3yCQI-ST4p"
      },
      "source": [
        "Script:\n",
        "* This function, `compute_qT_once`, will compute the inner expression of the value update for all actions at once.\n",
        "* It will return an array with a value for every pair of state and action.\n",
        "* It is named after the $q$ function for state and action values, but transposed since the array is indexed by action first and then state.\n",
        "* You will see this function and the next repeated in later videos about different value and policy iteration algorithms."
      ]
    },
    {
      "cell_type": "code",
      "execution_count": null,
      "metadata": {
        "id": "XzYY-lDXQcIC"
      },
      "outputs": [],
      "source": [
        "def iterate_values_once(R, P, gamma, v):\n",
        "    return np.max(compute_qT_once(R, P, gamma, v), axis=0)"
      ]
    },
    {
      "cell_type": "markdown",
      "metadata": {
        "id": "c3__SOtESWIA"
      },
      "source": [
        "Script:\n",
        "* This function will compute the new values for one pass through the loop.\n",
        "* All it does is compute the transposed $q$ values and then take the maximum value by action for each state.\n",
        "* So the result has a value for each state based on one optimal choice based on the previously computed values."
      ]
    },
    {
      "cell_type": "code",
      "execution_count": null,
      "metadata": {
        "id": "mp4onuTaScAf"
      },
      "outputs": [],
      "source": [
        "def value_iteration(R, P, gamma, max_iterations=100, tolerance=0.001):\n",
        "    # initial approximation v_0\n",
        "    v_old = np.zeros(R.shape[-1])\n",
        "\n",
        "    for i in range(max_iterations):\n",
        "        # compute v_{i+1}\n",
        "        v_new = iterate_values_once(R, P, gamma, v_old)\n",
        "\n",
        "        # check if values did not change much\n",
        "        if np.max(np.abs(v_new - v_old)) < tolerance:\n",
        "            return v_new\n",
        "\n",
        "        v_old = v_new\n",
        "\n",
        "    # return v_{max_iterations}\n",
        "    return v_old"
      ]
    },
    {
      "cell_type": "markdown",
      "metadata": {
        "id": "wdVfiU67SjbI"
      },
      "source": [
        "Script:\n",
        "* Now we can write the whole value iteration function.\n",
        "* I added two extra parameters for the maximum number of iterations and a default numerical tolerance.\n",
        "* Both parameters are used to guarantee that value iteration stops in a timely manner.\n",
        "* The function just consists of initializing the values to zero, and repeatedly iterating on the values until either the maximum number of iterations were made or the largest value change between updates was below the tolerance."
      ]
    },
    {
      "cell_type": "markdown",
      "metadata": {
        "id": "eHN4QBgITSyI"
      },
      "source": [
        "## Example Environment\n",
        "\n",
        "<table>\n",
        "<tr><td align=\"right\">0\ud83e\uddca</td><td align=\"right\">1\ud83e\uddca</td><td align=\"right\">2\ud83e\uddca</td><td align=\"right\">3\ud83e\uddca</td><td align=\"right\">4\ud83e\uddca</td><td align=\"right\">5\ud83e\uddca</td><td align=\"right\">6\ud83e\uddca</td></tr>\n",
        "<tr><td align=\"right\">7\ud83e\uddca</td><td align=\"right\">8\ud83e\uddca</td><td align=\"right\">9\ud83e\uddca</td><td align=\"right\">10\ud83e\uddca</td><td align=\"right\">11\ud83e\uddca</td><td align=\"right\">12\ud83e\uddca</td><td align=\"right\">13\ud83e\uddca</td></tr>\n",
        "<tr><td align=\"right\">14\ud83e\uddca</td><td align=\"right\">15\ud83e\uddca</td><td align=\"right\">16\ud83e\uddca</td><td align=\"right\">17\ud83e\uddca</td><td align=\"right\">18\ud83e\uddca</td><td align=\"right\">19\ud83e\uddca</td><td align=\"right\">20\ud83e\uddca</td></tr>\n",
        "<tr><td align=\"right\">21\ud83e\uddca</td><td align=\"right\">22\ud83e\uddca</td><td align=\"right\">23\ud83e\uddca</td><td align=\"right\">24\ud83e\uddca</td><td align=\"right\">25\ud83e\uddca</td><td align=\"right\">26\ud83e\uddca</td><td align=\"right\">27\ud83e\uddca</td></tr>\n",
        "<tr><td align=\"right\">28\ud83e\uddca</td><td align=\"right\">29\ud83e\uddca</td><td align=\"right\">30\ud83e\uddca</td><td align=\"right\">31\ud83e\uddca</td><td align=\"right\">32\ud83e\uddca</td><td align=\"right\">33\ud83e\uddca</td><td align=\"right\">34\ud83e\uddca</td></tr>\n",
        "<tr><td align=\"right\">35\ud83e\uddca</td><td align=\"right\">36\ud83e\uddca</td><td align=\"right\">37\ud83e\uddca</td><td align=\"right\">38\ud83e\uddca</td><td align=\"right\">39\ud83e\uddca</td><td align=\"right\">40\ud83e\uddca</td><td align=\"right\">41\ud83e\uddca</td></tr>\n",
        "<tr><td align=\"right\">42\ud83e\uddca</td><td align=\"right\">43\ud83e\uddca</td><td align=\"right\">44\ud83e\uddca</td><td>45\ud83e\uddca</td><td align=\"right\">46\ud83e\uddca</td><td align=\"right\">47\ud83e\uddca</td><td align=\"right\">48\ud83d\udc1f</td></tr>\n",
        "<tr><td></td></tr>\n",
        "<tr><td align=\"right\">49\u2611\ufe0f</td></tr>\n",
        "</table>"
      ]
    },
    {
      "cell_type": "markdown",
      "metadata": {
        "id": "AVUwBxBLTXiq"
      },
      "source": [
        "Script:\n",
        "* Here is an example environment for a penguin agent to navigate.\n",
        "* States 0-48 form a grid to navigate while state 49 is a terminal state.\n",
        "* State 48 has a fish for the penguin and has reward 1.\n",
        "* From that state, all transitions are to the done state 49 where the penguin stops.\n",
        "* All the other states allow horizontal and vertical movement within the grid.\n"
      ]
    },
    {
      "cell_type": "code",
      "execution_count": null,
      "metadata": {
        "id": "M5f1gNjaSl2o"
      },
      "outputs": [],
      "source": [
        "actions = [\"\u2b06\ufe0f\", \"\u2b07\ufe0f\", \"\u2b05\ufe0f\", \"\u27a1\ufe0f\"]"
      ]
    },
    {
      "cell_type": "markdown",
      "metadata": {
        "id": "VyKVgbvWS3Rc"
      },
      "source": [
        "Script:\n",
        "* The actions in this environment will just be moving the penguin up, down, left or right within the grid.\n",
        "* If the action would move off the grid, the penguin will stay in the same position.\n"
      ]
    },
    {
      "cell_type": "code",
      "execution_count": null,
      "metadata": {
        "id": "a5iDaPFpTPY8"
      },
      "outputs": [],
      "source": [
        "P = np.zeros(shape=(len(actions), 50, 50))\n",
        "for s in range(48):\n",
        "    # row major order with (0,0) as top left\n",
        "    x = s % 7\n",
        "    y = s // 7\n",
        "\n",
        "    # up action\n",
        "    if y > 0:\n",
        "        P[0, s, s-7] = 1\n",
        "    else:\n",
        "        P[0, s, s] = 1\n",
        "\n",
        "    # down action\n",
        "    if y < 6:\n",
        "        P[1, s, s+7] = 1\n",
        "    else:\n",
        "        P[1, s, s] = 1\n",
        "\n",
        "    # left action\n",
        "    if x > 0:\n",
        "        P[2, s, s-1] = 1\n",
        "    else:\n",
        "        P[2, s, s] = 1\n",
        "\n",
        "    # right action\n",
        "    if x < 6:\n",
        "        P[3, s, s+1] = 1\n",
        "    else:\n",
        "        P[3, s, s] = 1\n",
        "\n",
        "# fish state goes to terminal state\n",
        "P[:,48,49] = 1\n",
        "\n",
        "# stay in terminal state\n",
        "P[:,49,49] = 1"
      ]
    },
    {
      "cell_type": "markdown",
      "metadata": {
        "id": "I4nMR5oGTdBW"
      },
      "source": [
        "## Example Environment Rewards\n",
        "\n",
        "<table>\n",
        "<tr><td>0</td><td>0</td><td>0</td><td>0</td><td>0</td><td>0</td><td>0</td></tr>\n",
        "<tr><td>0</td><td>0</td><td>0</td><td>0</td><td>0</td><td>0</td><td>0</td></tr>\n",
        "<tr><td>0</td><td>0</td><td>0</td><td>0</td><td>0</td><td>0</td><td>0</td></tr>\n",
        "<tr><td>0</td><td>0</td><td>0</td><td>0</td><td>0</td><td>0</td><td>0</td></tr>\n",
        "<tr><td>0</td><td>0</td><td>0</td><td>0</td><td>0</td><td>0</td><td>0</td></tr>\n",
        "<tr><td>0</td><td>0</td><td>0</td><td>0</td><td>0</td><td>0</td><td>0</td></tr>\n",
        "<tr><td>0</td><td>0</td><td>0</td><td>0</td><td>0</td><td>0</td><td>1</td></tr>\n",
        "<tr><td></td></tr>\n",
        "<tr><td>0</td></tr>\n",
        "</table>"
      ]
    },
    {
      "cell_type": "markdown",
      "metadata": {
        "id": "R3coYCxqTgN8"
      },
      "source": [
        "Script:\n",
        "* Here are the rewards for each state.\n",
        "* They do not depend on the actions.\n",
        "* There is a reward of one for the fish state and all the other rewards are zero."
      ]
    },
    {
      "cell_type": "code",
      "execution_count": null,
      "metadata": {
        "colab": {
          "base_uri": "https://localhost:8080/"
        },
        "id": "SWss_XI9Tq7w",
        "outputId": "ba3fb3ba-ffa7-47ae-c4ea-92d7b3ac73fb"
      },
      "outputs": [
        {
          "data": {
            "text/plain": [
              "array([[0., 0., 0., 0., 0., 0., 0., 0., 0., 0., 0., 0., 0., 0., 0., 0.,\n",
              "        0., 0., 0., 0., 0., 0., 0., 0., 0., 0., 0., 0., 0., 0., 0., 0.,\n",
              "        0., 0., 0., 0., 0., 0., 0., 0., 0., 0., 0., 0., 0., 0., 0., 0.,\n",
              "        1., 0.],\n",
              "       [0., 0., 0., 0., 0., 0., 0., 0., 0., 0., 0., 0., 0., 0., 0., 0.,\n",
              "        0., 0., 0., 0., 0., 0., 0., 0., 0., 0., 0., 0., 0., 0., 0., 0.,\n",
              "        0., 0., 0., 0., 0., 0., 0., 0., 0., 0., 0., 0., 0., 0., 0., 0.,\n",
              "        1., 0.],\n",
              "       [0., 0., 0., 0., 0., 0., 0., 0., 0., 0., 0., 0., 0., 0., 0., 0.,\n",
              "        0., 0., 0., 0., 0., 0., 0., 0., 0., 0., 0., 0., 0., 0., 0., 0.,\n",
              "        0., 0., 0., 0., 0., 0., 0., 0., 0., 0., 0., 0., 0., 0., 0., 0.,\n",
              "        1., 0.],\n",
              "       [0., 0., 0., 0., 0., 0., 0., 0., 0., 0., 0., 0., 0., 0., 0., 0.,\n",
              "        0., 0., 0., 0., 0., 0., 0., 0., 0., 0., 0., 0., 0., 0., 0., 0.,\n",
              "        0., 0., 0., 0., 0., 0., 0., 0., 0., 0., 0., 0., 0., 0., 0., 0.,\n",
              "        1., 0.]])"
            ]
          },
          "execution_count": null,
          "metadata": {},
          "output_type": "execute_result"
        }
      ],
      "source": [
        "R = np.zeros(shape=(4,50))\n",
        "R[:,48] = 1\n",
        "R"
      ]
    },
    {
      "cell_type": "markdown",
      "metadata": {
        "id": "kOn-U_kSTv6w"
      },
      "source": [
        "Script:\n",
        "* Here is the R array representing the rewards for this environment.\n",
        "* This is pretty simple to setup since only one state has non-zero rewards.\n",
        "* Let's plot where those values are just to spot check."
      ]
    },
    {
      "cell_type": "code",
      "execution_count": null,
      "metadata": {
        "colab": {
          "base_uri": "https://localhost:8080/",
          "height": 150
        },
        "id": "fW1Q5g9aVG69",
        "outputId": "d7a8e593-b282-4a02-d863-23be9c2d4014"
      },
      "outputs": [
        {
          "data": {
            "image/png": "[encoded data removed]",
            "text/plain": [
              "<Figure size 640x480 with 4 Axes>"
            ]
          },
          "metadata": {},
          "output_type": "display_data"
        }
      ],
      "source": [
        "for a in range(4):\n",
        "    plt.subplot(1, 4, a + 1)\n",
        "    plt.imshow(R[a,:49].reshape(7, 7));\n",
        "\n",
        "plt.subplots_adjust(wspace=0.5)\n",
        "plt.show();"
      ]
    },
    {
      "cell_type": "markdown",
      "metadata": {
        "id": "N_O18-RMWYW4"
      },
      "source": [
        "Script:\n",
        "* I left out the terminal state.\n",
        "* Each action just has a reward when you get to the bottom left where the fish is."
      ]
    },
    {
      "cell_type": "code",
      "execution_count": null,
      "metadata": {
        "colab": {
          "base_uri": "https://localhost:8080/"
        },
        "id": "rkR-cvViTpUX",
        "outputId": "6b4c262c-3e92-49b2-8ab3-eacfa5b52409"
      },
      "outputs": [
        {
          "data": {
            "text/plain": [
              "array([0.28242954, 0.3138106 , 0.34867844, 0.38742049, 0.43046721,\n",
              "       0.4782969 , 0.531441  , 0.3138106 , 0.34867844, 0.38742049,\n",
              "       0.43046721, 0.4782969 , 0.531441  , 0.59049   , 0.34867844,\n",
              "       0.38742049, 0.43046721, 0.4782969 , 0.531441  , 0.59049   ,\n",
              "       0.6561    , 0.38742049, 0.43046721, 0.4782969 , 0.531441  ,\n",
              "       0.59049   , 0.6561    , 0.729     , 0.43046721, 0.4782969 ,\n",
              "       0.531441  , 0.59049   , 0.6561    , 0.729     , 0.81      ,\n",
              "       0.4782969 , 0.531441  , 0.59049   , 0.6561    , 0.729     ,\n",
              "       0.81      , 0.9       , 0.531441  , 0.59049   , 0.6561    ,\n",
              "       0.729     , 0.81      , 0.9       , 1.        , 0.        ])"
            ]
          },
          "execution_count": null,
          "metadata": {},
          "output_type": "execute_result"
        }
      ],
      "source": [
        "gamma=0.9\n",
        "v_star = value_iteration(R, P, gamma)\n",
        "v_star"
      ]
    },
    {
      "cell_type": "markdown",
      "metadata": {
        "id": "Xb-e0xXRTnc7"
      },
      "source": [
        "Script:\n",
        "* Now we can just call the `value_iteration` function that we wrote earlier.\n",
        "* You can see the zero value for the last state, the terminal state, since it is after the fish reward.\n",
        "* Just before it, you can see the reward of one for getting to the fish.\n",
        "* You can also see powers of 0.9 for the other states, but it is a little hard to follow.\n",
        "* Let's plot that like the rewards."
      ]
    },
    {
      "cell_type": "code",
      "execution_count": null,
      "metadata": {
        "colab": {
          "base_uri": "https://localhost:8080/",
          "height": 430
        },
        "id": "AsqWlCoqT2QN",
        "outputId": "b3fc8f6a-ecc5-4173-98df-d27242d6d444"
      },
      "outputs": [
        {
          "data": {
            "image/png": "[encoded data removed]",
            "text/plain": [
              "<Figure size 640x480 with 1 Axes>"
            ]
          },
          "metadata": {},
          "output_type": "display_data"
        }
      ],
      "source": [
        "plt.imshow(v_star[:49].reshape(7, 7));"
      ]
    },
    {
      "cell_type": "markdown",
      "metadata": {
        "id": "DOoenr_pTzMq"
      },
      "source": [
        "Script:\n",
        "* With this chart, you can see that the reward is based on the number of steps the penguin needs to get to the fish."
      ]
    },
    {
      "cell_type": "markdown",
      "metadata": {
        "id": "jdnAz0I4T-c7"
      },
      "source": [
        "Script: (faculty on screen)\n",
        "* Value iteration is an easy to implement method for computing optimal values.\n",
        "* We will use variations on this algorithm for policy iteration methods which also return optimal actions."
      ]
    }
  ],
  "metadata": {
    "colab": {},
    "kernelspec": {
      "display_name": "Python 3",
      "name": "python3"
    },
    "language_info": {
      "codemirror_mode": {
        "name": "ipython",
        "version": 3
      },
      "file_extension": ".py",
      "mimetype": "text/x-python",
      "name": "python",
      "nbconvert_exporter": "python",
      "pygments_lexer": "ipython3",
      "version": "3.9.6"
    }
  },
  "nbformat": 4,
  "nbformat_minor": 0
}