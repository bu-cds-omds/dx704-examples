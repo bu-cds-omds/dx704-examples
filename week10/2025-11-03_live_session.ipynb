{
  "nbformat": 4,
  "nbformat_minor": 0,
  "metadata": {
    "colab": {
      "provenance": []
    },
    "kernelspec": {
      "name": "python3",
      "display_name": "Python 3"
    },
    "language_info": {
      "name": "python"
    }
  },
  "cells": [
    {
      "cell_type": "code",
      "source": [
        "!pip install faiss-cpu --no-cache"
      ],
      "metadata": {
        "colab": {
          "base_uri": "https://localhost:8080/"
        },
        "id": "7v9jXq7JrhjS",
        "outputId": "3fcfafdf-3569-4ae0-dccb-f43497e17a34"
      },
      "execution_count": 1,
      "outputs": [
        {
          "output_type": "stream",
          "name": "stdout",
          "text": [
            "Collecting faiss-cpu\n",
            "  Downloading faiss_cpu-1.12.0-cp312-cp312-manylinux_2_27_x86_64.manylinux_2_28_x86_64.whl.metadata (5.1 kB)\n",
            "Requirement already satisfied: numpy<3.0,>=1.25.0 in /usr/local/lib/python3.12/dist-packages (from faiss-cpu) (2.0.2)\n",
            "Requirement already satisfied: packaging in /usr/local/lib/python3.12/dist-packages (from faiss-cpu) (25.0)\n",
            "Downloading faiss_cpu-1.12.0-cp312-cp312-manylinux_2_27_x86_64.manylinux_2_28_x86_64.whl (31.4 MB)\n",
            "\u001b[2K   \u001b[90m━━━━━━━━━━━━━━━━━━━━━━━━━━━━━━━━━━━━━━━━\u001b[0m \u001b[32m31.4/31.4 MB\u001b[0m \u001b[31m151.1 MB/s\u001b[0m eta \u001b[36m0:00:00\u001b[0m\n",
            "\u001b[?25hInstalling collected packages: faiss-cpu\n",
            "Successfully installed faiss-cpu-1.12.0\n"
          ]
        }
      ]
    },
    {
      "cell_type": "code",
      "execution_count": 2,
      "metadata": {
        "id": "5M0wo5ySrYs-"
      },
      "outputs": [],
      "source": [
        "import faiss"
      ]
    },
    {
      "cell_type": "markdown",
      "source": [
        "## Code from Faiss Getting Started guide.\n",
        "\n",
        "https://github.com/facebookresearch/faiss/wiki/Getting-started"
      ],
      "metadata": {
        "id": "D7Kxct42s8mc"
      }
    },
    {
      "cell_type": "markdown",
      "source": [
        "### Create 100K random vectors for the database, and 10K random vectors to query."
      ],
      "metadata": {
        "id": "74CESWfZtRHK"
      }
    },
    {
      "cell_type": "code",
      "source": [
        "import numpy as np\n",
        "d = 64                           # dimension\n",
        "nb = 100000                      # database size\n",
        "nq = 10000                       # nb of queries\n",
        "np.random.seed(1234)             # make reproducible\n",
        "xb = np.random.random((nb, d)).astype('float32')\n",
        "xb[:, 0] += np.arange(nb) / 1000.\n",
        "xq = np.random.random((nq, d)).astype('float32')\n",
        "xq[:, 0] += np.arange(nq) / 1000."
      ],
      "metadata": {
        "id": "fc30g9KQtEKU"
      },
      "execution_count": 3,
      "outputs": []
    },
    {
      "cell_type": "markdown",
      "source": [
        "### Build database with the 100K vectors."
      ],
      "metadata": {
        "id": "W42mniTJtaAq"
      }
    },
    {
      "cell_type": "code",
      "source": [
        "index = faiss.IndexFlatL2(d)   # build the index"
      ],
      "metadata": {
        "id": "70jP89ReuVVn"
      },
      "execution_count": null,
      "outputs": []
    },
    {
      "cell_type": "markdown",
      "source": [
        "#### Is index ready for searching?"
      ],
      "metadata": {
        "id": "yULjE---uZ4n"
      }
    },
    {
      "cell_type": "code",
      "source": [
        "print(index.is_trained)"
      ],
      "metadata": {
        "colab": {
          "base_uri": "https://localhost:8080/"
        },
        "id": "lpZGzhKIucPk",
        "outputId": "53a70a7e-cc64-495c-e91b-4407f1e4bd4e"
      },
      "execution_count": 13,
      "outputs": [
        {
          "output_type": "stream",
          "name": "stdout",
          "text": [
            "True\n"
          ]
        }
      ]
    },
    {
      "cell_type": "markdown",
      "source": [
        "#### Add the 100K vectors."
      ],
      "metadata": {
        "id": "oDzMCQl4ueGv"
      }
    },
    {
      "cell_type": "code",
      "source": [
        "index.add(xb)                  # add vectors to the index\n",
        "print(index.ntotal)"
      ],
      "metadata": {
        "colab": {
          "base_uri": "https://localhost:8080/"
        },
        "id": "GomwTQoftKuq",
        "outputId": "78c63633-56e3-4baa-d3fd-ff4a20dab80b"
      },
      "execution_count": 12,
      "outputs": [
        {
          "output_type": "stream",
          "name": "stdout",
          "text": [
            "300000\n"
          ]
        }
      ]
    },
    {
      "cell_type": "markdown",
      "source": [
        "### Sanity check: Search for the 4 nearest neighbors of the first 5 loaded vectors."
      ],
      "metadata": {
        "id": "kxcvpbOZtfJL"
      }
    },
    {
      "cell_type": "code",
      "source": [
        "k = 4                          # we want to see 4 nearest neighbors\n",
        "D, I = index.search(xb[:5], k) # sanity check\n"
      ],
      "metadata": {
        "id": "rtYs-4ZgtPnf"
      },
      "execution_count": 10,
      "outputs": []
    },
    {
      "cell_type": "markdown",
      "source": [
        "#### Indexes of the 4 nearest neighbors of the first 5 loaded vectors"
      ],
      "metadata": {
        "id": "a5BrABRVuETS"
      }
    },
    {
      "cell_type": "code",
      "source": [
        "print(I)"
      ],
      "metadata": {
        "colab": {
          "base_uri": "https://localhost:8080/"
        },
        "id": "XeoXoPhzuJKu",
        "outputId": "31734003-b4a5-4f00-814c-77d5eb0670dc"
      },
      "execution_count": 8,
      "outputs": [
        {
          "output_type": "stream",
          "name": "stdout",
          "text": [
            "[[  0 393 363  78]\n",
            " [  1 555 277 364]\n",
            " [  2 304 101  13]\n",
            " [  3 173  18 182]\n",
            " [  4 288 370 531]]\n"
          ]
        }
      ]
    },
    {
      "cell_type": "markdown",
      "source": [
        "#### Distances to the 4 nearest neighbors of the first 5 loaded vectors"
      ],
      "metadata": {
        "id": "iggjhHDPuKfA"
      }
    },
    {
      "cell_type": "code",
      "source": [
        "print(D)"
      ],
      "metadata": {
        "colab": {
          "base_uri": "https://localhost:8080/"
        },
        "id": "jS44bm2YuOe5",
        "outputId": "a1c2ad68-aa8c-4f76-817c-1af412870a4e"
      },
      "execution_count": 9,
      "outputs": [
        {
          "output_type": "stream",
          "name": "stdout",
          "text": [
            "[[0.        7.1751738 7.20763   7.2511625]\n",
            " [0.        6.3235645 6.684581  6.799946 ]\n",
            " [0.        5.7964087 6.391736  7.2815123]\n",
            " [0.        7.2779055 7.5279875 7.662846 ]\n",
            " [0.        6.7638035 7.2951202 7.3688145]]\n"
          ]
        }
      ]
    },
    {
      "cell_type": "markdown",
      "source": [
        "### Search for the 4 nearest neighbors for each of the 10K queries."
      ],
      "metadata": {
        "id": "o1AhsR_DtsuQ"
      }
    },
    {
      "cell_type": "code",
      "source": [
        "D, I = index.search(xq, k)     # actual search\n"
      ],
      "metadata": {
        "id": "6ZZVDiKWtrWQ"
      },
      "execution_count": 16,
      "outputs": []
    },
    {
      "cell_type": "markdown",
      "source": [
        "#### Check neighbors of first/last queries"
      ],
      "metadata": {
        "id": "efSTJaaCuny3"
      }
    },
    {
      "cell_type": "code",
      "source": [
        "print(I[:5])                   # neighbors of the 5 first queries\n",
        "print(I[-5:])                  # neighbors of the 5 last queries"
      ],
      "metadata": {
        "colab": {
          "base_uri": "https://localhost:8080/"
        },
        "id": "0k8qKMm0umc8",
        "outputId": "21181a17-9af9-4907-c62a-91780eee35fc"
      },
      "execution_count": 17,
      "outputs": [
        {
          "output_type": "stream",
          "name": "stdout",
          "text": [
            "[[   381 100381 200381    207]\n",
            " [   526 100526 200526    911]\n",
            " [   838 100838 200838    527]\n",
            " [   196 100196 200196    184]\n",
            " [   526 100526 200526    377]]\n",
            "[[  9900 109900 209900  10500]\n",
            " [211055  11055 111055  10895]\n",
            " [111353 211353  11353 211103]\n",
            " [ 10571 110571 210571  10664]\n",
            " [109628   9628 209628   9554]]\n"
          ]
        }
      ]
    },
    {
      "cell_type": "markdown",
      "source": [
        "#### Check distances of first/last queries"
      ],
      "metadata": {
        "id": "thiWpEWdurgA"
      }
    },
    {
      "cell_type": "code",
      "source": [
        "print(D[:5])\n",
        "print(D[-5:])"
      ],
      "metadata": {
        "colab": {
          "base_uri": "https://localhost:8080/"
        },
        "id": "h2WyAUZ8uwAl",
        "outputId": "b822d939-ca9d-4a0c-d6fe-3320f45fc296"
      },
      "execution_count": 18,
      "outputs": [
        {
          "output_type": "stream",
          "name": "stdout",
          "text": [
            "[[6.815506  6.815506  6.815506  6.8894653]\n",
            " [6.6041145 6.6041145 6.6041145 6.679699 ]\n",
            " [6.4703827 6.4703865 6.4703865 6.8578644]\n",
            " [5.573681  5.573681  5.573681  6.4075394]\n",
            " [5.409401  5.409401  5.409401  6.232216 ]]\n",
            "[[6.53154   6.53154   6.53154   6.9786987]\n",
            " [4.3352356 4.335266  4.335266  5.2369385]\n",
            " [6.0727234 6.0727234 6.072754  6.576721 ]\n",
            " [6.6374817 6.6374817 6.6374817 6.6487427]\n",
            " [6.218338  6.2183533 6.2183533 6.4525146]]\n"
          ]
        }
      ]
    }
  ]
}