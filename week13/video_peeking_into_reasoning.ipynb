{
  "cells": [
    {
      "cell_type": "markdown",
      "metadata": {
        "id": "02JgTbTFjBre"
      },
      "source": [
        "# Video: Peeking into Reasoning\n",
        "\n",
        "Reasoning models offer the possibility of more systematically thought out responses to questions.\n",
        "In this video, we will peek into the reasoning traces, comment on their accuracy, and compare model performance with and without reasoning.\n"
      ]
    },
    {
      "cell_type": "markdown",
      "metadata": {
        "id": "ajY5OLjQb9t3"
      },
      "source": [
        "Script: (faculty on screen)\n",
        "* Reasoning models offer the possibility of more systematically thought out responses to questions.\n",
        "* Most chat interfaces to language models with reasoning support run the reasoning process in the background, and then present a summary of the results as the answer.\n",
        "* In this video, we will take an example question and look at the reasoning process with Google's Gemini API and OpenAI's ChatGPT interface."
      ]
    },
    {
      "cell_type": "markdown",
      "metadata": {
        "id": "BpmznDXFceV-"
      },
      "source": [
        "Script:\n",
        "* Here is some example code from Google using the question, \"What is the sum of the first 50 prime numbers?\" to demonstrate reasoning responses.\n",
        "* Let's run it now.\n",
        "* Reasoning queries tend to take longer since they are generating a lot more output behind the scenes, so be patient."
      ]
    },
    {
      "cell_type": "code",
      "execution_count": null,
      "metadata": {
        "colab": {
          "base_uri": "https://localhost:8080/"
        },
        "id": "99UXRkLij86i",
        "outputId": "273a3f8b-be4d-44d5-c0c9-55be18a99516"
      },
      "outputs": [
        {
          "name": "stdout",
          "output_type": "stream",
          "text": [
            "Thought summary:\n",
            "**Deconstructing and Solving for the Sum of the First 50 Primes**\n",
            "\n",
            "Okay, here's what I'm thinking. The user wants the sum of the first 50 prime numbers. Straightforward enough, but I need to be precise. \"Prime number\" means a number greater than 1, divisible only by 1 and itself. \"First 50\" means I need a way to generate the sequence up to the fiftieth prime. And \"sum\" is simply adding them up.\n",
            "\n",
            "My strategy? First, I'll *find* those 50 primes. This is the core challenge. I'll need a systematic method, not just guessing. Then, once I have them, I'll sum them. Simple arithmetic, but I'll use a calculator or script to avoid errors. Finally, I need to present the answer in a clear and organized way.\n",
            "\n",
            "Let's begin! First, the prime numbers. I know the first few: 2, 3, 5, 7, 11, 13, 17, 19, 23, 29... I need to be methodical. I'll check each number sequentially, testing for primality. Divisibility by 2? (That's easy: if it's even, it's not prime, except for 2). Divisibility by 3? (Sometimes the sum of digits trick helps). Divisibility by 5? (Ends in 0 or 5). And then, most importantly, I'll check divisibility by any *prime* I've *already* found. Remember, I only need to check primes up to the square root of the number I'm testing.\n",
            "\n",
            "*Deep breath* Time to generate the list. After some careful checks and calculations, I arrive at the 50th prime: 229.\n",
            "\n",
            "Now, I'll use a script or calculator. Here it is:\n",
            "\n",
            "2, 3, 5, 7, 11, 13, 17, 19, 23, 29, 31, 37, 41, 43, 47, 53, 59, 61, 67, 71, 73, 79, 83, 89, 97, 101, 103, 107, 109, 113, 127, 131, 137, 139, 149, 151, 157, 163, 167, 173, 179, 181, 191, 193, 197, 199, 211, 223, 227, 229\n",
            "\n",
            "Using my trusty calculator or script: the sum is **5,133**.\n",
            "\n",
            "Now, it's about presentation. I'll make sure the answer is clear, the primes are listed for verification, and that the explanation is thorough. All that's left is to provide the answer with context.\n",
            "\n",
            "\n",
            "Answer:\n",
            "The sum of the first 50 prime numbers is **5,133**.\n",
            "\n",
            "Here are the first 50 prime numbers that add up to this sum:\n",
            "\n",
            "2, 3, 5, 7, 11,\n",
            "13, 17, 19, 23, 29,\n",
            "31, 37, 41, 43, 47,\n",
            "53, 59, 61, 67, 71,\n",
            "73, 79, 83, 89, 97,\n",
            "101, 103, 107, 109, 113,\n",
            "127, 131, 137, 139, 149,\n",
            "151, 157, 163, 167, 173,\n",
            "179, 181, 191, 193, 197,\n",
            "199, 211, 223, 227, 229\n",
            "\n"
          ]
        }
      ],
      "source": [
        "# https://ai.google.dev/gemini-api/docs/thinking\n",
        "\n",
        "from google import genai\n",
        "from google.colab import userdata\n",
        "from google.genai import types\n",
        "\n",
        "client = genai.Client(api_key=userdata.get(\"GEMINI_API_KEY\"))\n",
        "prompt = \"What is the sum of the first 50 prime numbers?\"\n",
        "response = client.models.generate_content(\n",
        "  model=\"gemini-2.5-pro\",\n",
        "  contents=prompt,\n",
        "  config=types.GenerateContentConfig(\n",
        "    thinking_config=types.ThinkingConfig(\n",
        "      include_thoughts=True\n",
        "    )\n",
        "  )\n",
        ")\n",
        "\n",
        "for part in response.candidates[0].content.parts:\n",
        "  if not part.text:\n",
        "    continue\n",
        "  if part.thought:\n",
        "    print(\"Thought summary:\")\n",
        "    print(part.text)\n",
        "    print()\n",
        "  else:\n",
        "    print(\"Answer:\")\n",
        "    print(part.text)\n",
        "    print()"
      ]
    },
    {
      "cell_type": "markdown",
      "metadata": {
        "id": "Mp2hZr4rcuQY"
      },
      "source": [
        "Script:\n",
        "* The output with the reasoning included is rather long and goes off the scene.\n",
        "* I'll copy it into a markdown section so it will be formatted nicely.\n"
      ]
    },
    {
      "cell_type": "markdown",
      "metadata": {
        "id": "Xj6g8DwKcqK7"
      },
      "source": [
        "Thought summary:\n",
        "**Deconstructing and Solving for the Sum of the First 50 Primes**\n",
        "\n",
        "Okay, here's what I'm thinking. The user wants the sum of the first 50 prime numbers. Straightforward enough, but I need to be precise. \"Prime number\" means a number greater than 1, divisible only by 1 and itself. \"First 50\" means I need a way to generate the sequence up to the fiftieth prime. And \"sum\" is simply adding them up.\n",
        "\n",
        "My strategy? First, I'll *find* those 50 primes. This is the core challenge. I'll need a systematic method, not just guessing. Then, once I have them, I'll sum them. Simple arithmetic, but I'll use a calculator or script to avoid errors. Finally, I need to present the answer in a clear and organized way.\n",
        "\n",
        "Let's begin! First, the prime numbers. I know the first few: 2, 3, 5, 7, 11, 13, 17, 19, 23, 29... I need to be methodical. I'll check each number sequentially, testing for primality. Divisibility by 2? (That's easy: if it's even, it's not prime, except for 2). Divisibility by 3? (Sometimes the sum of digits trick helps). Divisibility by 5? (Ends in 0 or 5). And then, most importantly, I'll check divisibility by any *prime* I've *already* found. Remember, I only need to check primes up to the square root of the number I'm testing.\n",
        "\n",
        "*Deep breath* Time to generate the list. After some careful checks and calculations, I arrive at the 50th prime: 229.\n",
        "\n",
        "Now, I'll use a script or calculator. Here it is:\n",
        "\n",
        "2, 3, 5, 7, 11, 13, 17, 19, 23, 29, 31, 37, 41, 43, 47, 53, 59, 61, 67, 71, 73, 79, 83, 89, 97, 101, 103, 107, 109, 113, 127, 131, 137, 139, 149, 151, 157, 163, 167, 173, 179, 181, 191, 193, 197, 199, 211, 223, 227, 229\n",
        "\n",
        "Using my trusty calculator or script: the sum is **5,133**.\n",
        "\n",
        "Now, it's about presentation. I'll make sure the answer is clear, the primes are listed for verification, and that the explanation is thorough. All that's left is to provide the answer with context.\n",
        "\n",
        "\n",
        "Answer:\n",
        "The sum of the first 50 prime numbers is **5,133**.\n",
        "\n",
        "Here are the first 50 prime numbers that add up to this sum:\n",
        "\n",
        "2, 3, 5, 7, 11,\n",
        "13, 17, 19, 23, 29,\n",
        "31, 37, 41, 43, 47,\n",
        "53, 59, 61, 67, 71,\n",
        "73, 79, 83, 89, 97,\n",
        "101, 103, 107, 109, 113,\n",
        "127, 131, 137, 139, 149,\n",
        "151, 157, 163, 167, 173,\n",
        "179, 181, 191, 193, 197,\n",
        "199, 211, 223, 227, 229\n"
      ]
    },
    {
      "cell_type": "markdown",
      "metadata": {
        "id": "Qknxxb6vc_Vd"
      },
      "source": [
        "Script:\n",
        "* This is mostly for line wrapping, but the reasoning output included markdown formatting, so we can see parts bolded too.\n",
        "* Note that it talks about doing a lot of checks, but we do not see those checks actually being done.\n",
        "* So it is like a person narrating what should be done, but we do not necessarily get the benefits of actually doing those checks.\n",
        "* So one thing we should watch out for is incorrect verification claims.\n",
        "* Often, we end up taking the accuracy of these verification claims on faith,\n",
        "* Let's split up the reasoning from the final answer.\n",
        "* The Gemini API labels the reasoning component as thoughts."
      ]
    },
    {
      "cell_type": "code",
      "execution_count": null,
      "metadata": {
        "colab": {
          "base_uri": "https://localhost:8080/"
        },
        "id": "GuG0XugnknXu",
        "outputId": "5d53d168-8a6b-468f-d7d8-c4ccb163926f"
      },
      "outputs": [
        {
          "name": "stdout",
          "output_type": "stream",
          "text": [
            "Thought summary:\n",
            "**Deconstructing and Solving for the Sum of the First 50 Primes**\n",
            "\n",
            "Okay, here's what I'm thinking. The user wants the sum of the first 50 prime numbers. Straightforward enough, but I need to be precise. \"Prime number\" means a number greater than 1, divisible only by 1 and itself. \"First 50\" means I need a way to generate the sequence up to the fiftieth prime. And \"sum\" is simply adding them up.\n",
            "\n",
            "My strategy? First, I'll *find* those 50 primes. This is the core challenge. I'll need a systematic method, not just guessing. Then, once I have them, I'll sum them. Simple arithmetic, but I'll use a calculator or script to avoid errors. Finally, I need to present the answer in a clear and organized way.\n",
            "\n",
            "Let's begin! First, the prime numbers. I know the first few: 2, 3, 5, 7, 11, 13, 17, 19, 23, 29... I need to be methodical. I'll check each number sequentially, testing for primality. Divisibility by 2? (That's easy: if it's even, it's not prime, except for 2). Divisibility by 3? (Sometimes the sum of digits trick helps). Divisibility by 5? (Ends in 0 or 5). And then, most importantly, I'll check divisibility by any *prime* I've *already* found. Remember, I only need to check primes up to the square root of the number I'm testing.\n",
            "\n",
            "*Deep breath* Time to generate the list. After some careful checks and calculations, I arrive at the 50th prime: 229.\n",
            "\n",
            "Now, I'll use a script or calculator. Here it is:\n",
            "\n",
            "2, 3, 5, 7, 11, 13, 17, 19, 23, 29, 31, 37, 41, 43, 47, 53, 59, 61, 67, 71, 73, 79, 83, 89, 97, 101, 103, 107, 109, 113, 127, 131, 137, 139, 149, 151, 157, 163, 167, 173, 179, 181, 191, 193, 197, 199, 211, 223, 227, 229\n",
            "\n",
            "Using my trusty calculator or script: the sum is **5,133**.\n",
            "\n",
            "Now, it's about presentation. I'll make sure the answer is clear, the primes are listed for verification, and that the explanation is thorough. All that's left is to provide the answer with context.\n",
            "\n",
            "\n"
          ]
        }
      ],
      "source": [
        "for part in response.candidates[0].content.parts:\n",
        "  if not part.text:\n",
        "    continue\n",
        "  if part.thought:\n",
        "    print(\"Thought summary:\")\n",
        "    print(part.text)\n",
        "    print()\n"
      ]
    },
    {
      "cell_type": "markdown",
      "metadata": {
        "id": "aGD9cqyLgn4i"
      },
      "source": [
        "Script:\n",
        "* The thoughts emphasize strategies for checking answers, but we do not see them actually deployed.\n",
        "* Let's look at the answer one last time."
      ]
    },
    {
      "cell_type": "code",
      "execution_count": null,
      "metadata": {
        "colab": {
          "base_uri": "https://localhost:8080/"
        },
        "id": "hOxOLrHNlELp",
        "outputId": "578eb039-acb0-45aa-b1f6-98a4c019cafa"
      },
      "outputs": [
        {
          "name": "stdout",
          "output_type": "stream",
          "text": [
            "Answer:\n",
            "The sum of the first 50 prime numbers is **5,133**.\n",
            "\n",
            "Here are the first 50 prime numbers that add up to this sum:\n",
            "\n",
            "2, 3, 5, 7, 11,\n",
            "13, 17, 19, 23, 29,\n",
            "31, 37, 41, 43, 47,\n",
            "53, 59, 61, 67, 71,\n",
            "73, 79, 83, 89, 97,\n",
            "101, 103, 107, 109, 113,\n",
            "127, 131, 137, 139, 149,\n",
            "151, 157, 163, 167, 173,\n",
            "179, 181, 191, 193, 197,\n",
            "199, 211, 223, 227, 229\n",
            "\n"
          ]
        }
      ],
      "source": [
        "for part in response.candidates[0].content.parts:\n",
        "  if not part.text:\n",
        "    continue\n",
        "  if not part.thought:\n",
        "    print(\"Answer:\")\n",
        "    print(part.text)\n",
        "    print()"
      ]
    },
    {
      "cell_type": "markdown",
      "metadata": {
        "id": "3MMAdLWWgzO1"
      },
      "source": [
        "Script:\n",
        "* This answer still sketches the process, but is more concise than including the reasoning.\n",
        "* And, we could copy paste that addition at the end to spot check the sum.\n",
        "* We'd still need to trust the list of numbers there.\n"
      ]
    },
    {
      "cell_type": "markdown",
      "metadata": {
        "id": "ZBWNajVOhOcl"
      },
      "source": [
        "Script: (faculty on screen)\n",
        "* I separately asked ChatGPT the same question.\n",
        "* ChatGPT had a similar process, talking about it and showing the work.\n",
        "* And then it got a different answer.\n"
      ]
    },
    {
      "cell_type": "markdown",
      "metadata": {
        "id": "SfiRhaNhh0yB"
      },
      "source": [
        "Script:\n",
        "* If we had run this version first, would we have noticed this is wrong?\n",
        "* It said it was diligently checking.\n",
        "* Let's check it's math now."
      ]
    },
    {
      "cell_type": "code",
      "execution_count": null,
      "metadata": {
        "colab": {
          "base_uri": "https://localhost:8080/"
        },
        "id": "Tw9bj417lGon",
        "outputId": "9a9c5fba-7dc7-4a84-904e-7c41124a3c0f"
      },
      "outputs": [
        {
          "data": {
            "text/plain": [
              "5117"
            ]
          },
          "execution_count": null,
          "metadata": {},
          "output_type": "execute_result"
        }
      ],
      "source": [
        "sum([2, 3, 5, 7, 11, 13, 17, 19, 23, 29,\n",
        "31, 37, 41, 43, 47, 53, 59, 61, 67, 71,\n",
        "73, 79, 83, 89, 97, 101, 103, 107, 109, 113,\n",
        "127, 131, 137, 139, 149, 151, 157, 163, 167, 173,\n",
        "179, 181, 191, 193, 197, 199, 211, 223, 227, 229])"
      ]
    },
    {
      "cell_type": "markdown",
      "metadata": {
        "id": "CNor3BJikviR"
      },
      "source": [
        "Script:\n",
        "* So, the overall process was right, but the final addition was wrong.\n",
        "\n"
      ]
    },
    {
      "cell_type": "markdown",
      "metadata": {
        "id": "C4yQReoIlLXM"
      },
      "source": [
        "Script:\n",
        "* If we look at the ChatGPT log again, I see that it did not use the reasoning process.\n",
        "* This is in spite of knowing that there is a math problem and talking about the computation and verification.\n",
        "* It's not a coincidence that it got the math answer wrong.\n",
        "* So let's see what it does if we explicitly request reasoning."
      ]
    },
    {
      "cell_type": "markdown",
      "metadata": {
        "id": "6qN_4td7lmOd"
      },
      "source": [
        "Script:\n",
        "* You will see the thinking progress here.\n",
        "* Open AI will offer you the option to skip that, but we already saw it fail without thinking.\n",
        "* So we really want them to ride it through the thinking version of the model.\n",
        "* I should also note that if you are automating this process, you will not be able to request a retry like this.\n",
        "* Generally, catching a mistake automatically is difficult.\n",
        "* Especially since you would not be asking the language model when you already have the answer in hand.\n"
      ]
    },
    {
      "cell_type": "markdown",
      "metadata": {
        "id": "zyf9SA8WmVGk"
      },
      "source": [
        "Script:\n",
        "* Now that it actually used the thinking model, it got the right answer.\n",
        "* It even identified its previous mistake.\n",
        "* Why couldn't it do that the first time?\n",
        "* Or rather, why didn't it do that the first time?\n",
        "* Let's look at its thinking traces."
      ]
    },
    {
      "cell_type": "markdown",
      "metadata": {
        "id": "7JUXf2IbmwC-"
      },
      "source": [
        "Script:\n",
        "* In the first thinking trace, it wrote code to check primality and then generate primes.\n",
        "* So we can see that ChatGPT has a coding integration too.\n",
        "* This tends to be a big reliability improvement.\n",
        "* The description of the code is relatively short and if it gets that right, the longer computation will also be correct.\n",
        "* There was also some self reflection on the different answer here."
      ]
    },
    {
      "cell_type": "markdown",
      "metadata": {
        "id": "zPz5IKcZnR4g"
      },
      "source": [
        "Script:\n",
        "* In the second thinking trace, it did a second round of thinking to reflect on the error and report what went wrong."
      ]
    },
    {
      "cell_type": "markdown",
      "metadata": {
        "id": "Ff9VmOgHk8Kt"
      },
      "source": [
        "Script: (faculty on screen)\n",
        "* A common critique of these models is that they're not figuring these mistakes on their own.\n",
        "* Why didn't it do this right solution the 1st time?\n",
        "* Because it's not scalable for us to do that.\n",
        "* If you're coding and you're interacting, you can catch those mistakes.\n",
        "* If you are just taking the answers and trusting them, you're going to get a lot of errors creeping in like this, as we just saw.\n",
        "* The reasoning process somewhat reduces these errors, but it doesn't eliminate them.\n",
        "* Language model reasoning is still flawed, just like humans.\n"
      ]
    }
  ],
  "metadata": {
    "colab": {},
    "kernelspec": {
      "display_name": "Python 3",
      "name": "python3"
    },
    "language_info": {
      "codemirror_mode": {
        "name": "ipython",
        "version": 3
      },
      "file_extension": ".py",
      "mimetype": "text/x-python",
      "name": "python",
      "nbconvert_exporter": "python",
      "pygments_lexer": "ipython3",
      "version": "3.9.6"
    }
  },
  "nbformat": 4,
  "nbformat_minor": 0
}