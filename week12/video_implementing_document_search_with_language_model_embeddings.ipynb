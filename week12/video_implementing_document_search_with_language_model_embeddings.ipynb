{
  "cells": [
    {
      "cell_type": "markdown",
      "metadata": {
        "id": "I2cQo2uduwrZ"
      },
      "source": [
        "# Video: Implementing Document Search with Language Model Embeddings\n",
        "\n",
        "Language model embeddings are very useful keys for document search, and generally provide better search than the document vectors previously used in week 10.\n",
        "In this video, we use language model embeddings to find similar recipes and to search for recipes given a description."
      ]
    },
    {
      "cell_type": "markdown",
      "metadata": {
        "id": "UMOwQDZDOZPu"
      },
      "source": [
        "Script: (faculty on screen)\n",
        "* Earlier in this module, we used simple document vectors based on vocabulary analysis to compare documents.\n",
        "* Language model embeddings provide much better document vectors than those vocabulary-based vectors.\n",
        "* In this video, we will use Google's Gemini embedding model to find similar recipes and search for recipes based on a query."
      ]
    },
    {
      "cell_type": "code",
      "execution_count": null,
      "metadata": {
        "id": "8Ho7ylHvKLEq"
      },
      "outputs": [],
      "source": [
        "%pip install -q google-genai"
      ]
    },
    {
      "cell_type": "code",
      "execution_count": null,
      "metadata": {
        "id": "7KudV-6vKMRr"
      },
      "outputs": [],
      "source": [
        "import google.genai as genai\n",
        "from google.genai import types\n",
        "from google.colab import userdata\n",
        "import matplotlib.pyplot as plt\n",
        "import numpy as np\n",
        "import pandas as pd"
      ]
    },
    {
      "cell_type": "code",
      "execution_count": null,
      "metadata": {
        "id": "q366Ae3GKTnv"
      },
      "outputs": [],
      "source": [
        "client = genai.Client(api_key=userdata.get('GEMINI_API_KEY'))"
      ]
    },
    {
      "cell_type": "code",
      "execution_count": null,
      "metadata": {
        "id": "tqSwyQnnKU85"
      },
      "outputs": [],
      "source": [
        "embedding_model_name = 'gemini-embedding-001'"
      ]
    },
    {
      "cell_type": "code",
      "execution_count": null,
      "metadata": {
        "id": "SaZR5zlBKQS9"
      },
      "outputs": [],
      "source": [
        "recipes = pd.read_csv(\"https://raw.githubusercontent.com/bu-cds-omds/dx704-examples/refs/heads/main/data/recipes.tsv.gz\", sep=\"\\t\")\n",
        "recipes = recipes.set_index(\"recipe_slug\")\n",
        "recipes = recipes[:1000]"
      ]
    },
    {
      "cell_type": "markdown",
      "metadata": {
        "id": "jS2ehociO81_"
      },
      "source": [
        "Script:\n",
        "* I've loaded the recipe data from Bacon Powered Recipes again.\n",
        "* I limited the data set to the first 1000 recipes so we won't have to wait too long to query all their document vectors."
      ]
    },
    {
      "cell_type": "code",
      "execution_count": null,
      "metadata": {
        "id": "pkmbOID-KXwS"
      },
      "outputs": [],
      "source": [
        "recipe_embeddings = {}"
      ]
    },
    {
      "cell_type": "markdown",
      "metadata": {
        "id": "KgEHchmTPK8k"
      },
      "source": [
        "Script:\n",
        "* Like usual, we will cache the document vectors for easy access.\n",
        "* For this video, I will just store them in a dictionary to make it maximally clear what data we are handling.\n",
        "* A serious implementation would use a vector database for fast nearest neighbor queries instead of scanning all the vectors each time."
      ]
    },
    {
      "cell_type": "code",
      "execution_count": null,
      "metadata": {
        "id": "ZqYyjx7LMUQA"
      },
      "outputs": [],
      "source": [
        "def get_embedding(text):\n",
        "    response = client.models.embed_content(model=embedding_model_name,\n",
        "                                           contents=text)\n",
        "    return np.array(response.embeddings[0].values)"
      ]
    },
    {
      "cell_type": "markdown",
      "metadata": {
        "id": "QvhKIyVPPfL0"
      },
      "source": [
        "Script:\n",
        "* This get_embedding function will query the API for a particular piece of text.\n",
        "* I separated it out for this video so we can calculate embeddings for queries and not just recipes.\n",
        "* Google has options to embed queries and values differently, but I am not using them.\n",
        "* That option is Google-specific at the moment; most providers just have one embedding option."
      ]
    },
    {
      "cell_type": "code",
      "execution_count": null,
      "metadata": {
        "id": "pr8NcT5VKanb"
      },
      "outputs": [],
      "source": [
        "def save_recipe_embedding(recipe_tuple):\n",
        "    recipe_slug = recipe_tuple.Index\n",
        "    if recipe_slug in recipe_embeddings:\n",
        "        return\n",
        "\n",
        "    embedding = get_embedding(recipe_tuple.recipe_introduction)\n",
        "    recipe_embeddings[recipe_slug] = embedding"
      ]
    },
    {
      "cell_type": "markdown",
      "metadata": {
        "id": "KSBwQUd9P3Y0"
      },
      "source": [
        "Script:\n",
        "* This function saves an embedding for each recipe based on its introduction if it has not already been saved."
      ]
    },
    {
      "cell_type": "code",
      "execution_count": null,
      "metadata": {
        "id": "9PJFAiEmKcuc"
      },
      "outputs": [],
      "source": [
        "for r in recipes.itertuples():\n",
        "    save_recipe_embedding(r)"
      ]
    },
    {
      "cell_type": "markdown",
      "metadata": {
        "id": "_ukkLhadQCK_"
      },
      "source": [
        "Script:\n",
        "* And here, all the recipes have their embeddings saved.\n",
        "* I ran it beforehand, but it takes about 3 minutes for a thousand calls in a row.\n",
        "* For the moment, I do not recommend trying to make multiple API calls at once as I've seen more API busy messages than I'd like prepping these videos.\n",
        "* Let's start comparing recipes with these vectors now."
      ]
    },
    {
      "cell_type": "code",
      "execution_count": null,
      "metadata": {
        "colab": {
          "base_uri": "https://localhost:8080/",
          "height": 35
        },
        "id": "Oiy6Yo2kLOfT",
        "outputId": "db43ac8b-b084-499d-ffd3-68699daa34dd"
      },
      "outputs": [
        {
          "data": {
            "application/vnd.google.colaboratory.intrinsic+json": {
              "type": "string"
            },
            "text/plain": [
              "'apple-crumble'"
            ]
          },
          "execution_count": null,
          "metadata": {},
          "output_type": "execute_result"
        }
      ],
      "source": [
        "def closest_recipe(recipe_slug):\n",
        "    return min([k for k in recipe_embeddings.keys() if k != recipe_slug],\n",
        "                key=lambda x: np.linalg.norm(recipe_embeddings[x]- recipe_embeddings[recipe_slug]))\n",
        "\n",
        "closest_recipe('apple-crisp')"
      ]
    },
    {
      "cell_type": "markdown",
      "metadata": {
        "id": "Th_mtL_2Qvy-"
      },
      "source": [
        "Script:\n",
        "* This function takes in a recipe slug, looks up its embedding vector, and then finds the recipe with the closest vector.\n",
        "* The first time I tested this, I omitted the check for the same recipe, and of course, it told me that the closest recipe to apple crisp is apple crisp.\n",
        "* A vector will always be zero distance to itself."
      ]
    },
    {
      "cell_type": "code",
      "execution_count": null,
      "metadata": {
        "colab": {
          "base_uri": "https://localhost:8080/",
          "height": 35
        },
        "id": "O6iq3O9pMDW5",
        "outputId": "19cea4ae-570b-4463-da85-2a4df4c755ed"
      },
      "outputs": [
        {
          "data": {
            "application/vnd.google.colaboratory.intrinsic+json": {
              "type": "string"
            },
            "text/plain": [
              "'butternut-squash-risotto'"
            ]
          },
          "execution_count": null,
          "metadata": {},
          "output_type": "execute_result"
        }
      ],
      "source": [
        "closest_recipe('roasted-pear-and-butternut-squash-soup')"
      ]
    },
    {
      "cell_type": "markdown",
      "metadata": {
        "id": "Weri_as2RF1j"
      },
      "source": [
        "Script:\n",
        "* These sound pretty similar.\n",
        "* Let's check some more."
      ]
    },
    {
      "cell_type": "code",
      "execution_count": null,
      "metadata": {
        "colab": {
          "base_uri": "https://localhost:8080/"
        },
        "id": "WNrF_gnXMIKP",
        "outputId": "79968636-45ca-4105-fa63-81893785fb76"
      },
      "outputs": [
        {
          "name": "stdout",
          "output_type": "stream",
          "text": [
            "spiced-pear-and-walnut-salad walnut-and-cranberry-salad\n",
            "roasted-pear-and-butternut-squash-soup butternut-squash-risotto\n",
            "peach-clafoutis raspberry-clafoutis\n",
            "plum-clafoutis peach-clafoutis\n",
            "pear olives\n",
            "pear-and-gingerbread-trifle coconut-caramel-trifle\n",
            "chicken-pot-pie vegetable-pot-pie\n",
            "doritos-loaded-baked-potatoes doritos-loaded-potato-skins\n",
            "pear-and-gorgonzola-tart asparagus-and-goat-cheese-tart\n",
            "asparagus-and-goat-cheese-tart zucchini-and-goat-cheese-quiche\n"
          ]
        }
      ],
      "source": [
        "for recipe_slug in recipes.index[:10]:\n",
        "    print(recipe_slug, closest_recipe(recipe_slug))"
      ]
    },
    {
      "cell_type": "markdown",
      "metadata": {
        "id": "2rQa-pv7ROkI"
      },
      "source": [
        "Script:\n",
        "* These all look like very similar pairs to me.\n",
        "* The most dissimilar pair is probably pear and oives.\n",
        "* I imagine that some of these could be found by looking at just the vocabulary, but even the different words feel related, like soup and risotto.\n",
        "* Let's try implementing search now."
      ]
    },
    {
      "cell_type": "code",
      "execution_count": null,
      "metadata": {
        "colab": {
          "base_uri": "https://localhost:8080/",
          "height": 35
        },
        "id": "R21EKHs7MzRB",
        "outputId": "c0f189c3-cc97-45c2-b40c-d08cdb46f147"
      },
      "outputs": [
        {
          "data": {
            "application/vnd.google.colaboratory.intrinsic+json": {
              "type": "string"
            },
            "text/plain": [
              "'apple-crisp'"
            ]
          },
          "execution_count": null,
          "metadata": {},
          "output_type": "execute_result"
        }
      ],
      "source": [
        "def search_recipe(query):\n",
        "    query_embedding = get_embedding(query)\n",
        "    return min([k for k in recipe_embeddings.keys()],\n",
        "                key=lambda x: np.linalg.norm(recipe_embeddings[x]- query_embedding))\n",
        "\n",
        "search_recipe(\"crunchy sweet apple dish comfort food\")"
      ]
    },
    {
      "cell_type": "markdown",
      "metadata": {
        "id": "rcAV1W_cRwqK"
      },
      "source": [
        "Script:\n",
        "* This function takes in a query, gets its embedding, and then finds the recipe with the closest vector.\n",
        "* I had apple crisp in mind when I wrote this query, and got it on the first try."
      ]
    },
    {
      "cell_type": "code",
      "execution_count": null,
      "metadata": {
        "colab": {
          "base_uri": "https://localhost:8080/",
          "height": 35
        },
        "id": "9Vw-D2VKM9T8",
        "outputId": "2ea7dac0-f0ec-4592-8432-164896789405"
      },
      "outputs": [
        {
          "data": {
            "application/vnd.google.colaboratory.intrinsic+json": {
              "type": "string"
            },
            "text/plain": [
              "'seafood-chowder'"
            ]
          },
          "execution_count": null,
          "metadata": {},
          "output_type": "execute_result"
        }
      ],
      "source": [
        "search_recipe(\"easy soup for cold day\")"
      ]
    },
    {
      "cell_type": "markdown",
      "metadata": {
        "id": "UrqySjjeSJhI"
      },
      "source": [
        "Script:\n",
        "* Chowder is not what I had in mind, but I guess it works.\n",
        "* Let's rewrite that function to give multiple results."
      ]
    },
    {
      "cell_type": "code",
      "execution_count": null,
      "metadata": {
        "colab": {
          "base_uri": "https://localhost:8080/"
        },
        "id": "V7crRDBhNDRJ",
        "outputId": "c4d588d6-d84c-4e3e-ee80-9ebca3c2ed13"
      },
      "outputs": [
        {
          "data": {
            "text/plain": [
              "['seafood-chowder',\n",
              " 'kosher-matzo-ball-soup',\n",
              " 'classic-sujebi-soup',\n",
              " 'matzo-ball-soup',\n",
              " 'chicken-tteokguk',\n",
              " 'sujebi',\n",
              " 'french-onion-soup',\n",
              " 'samgyetang-ginseng-chicken-soup',\n",
              " 'chicken-salad',\n",
              " 'kimchi-sujebi-stew']"
            ]
          },
          "execution_count": null,
          "metadata": {},
          "output_type": "execute_result"
        }
      ],
      "source": [
        "def search_recipes(query):\n",
        "    query_embedding = get_embedding(query)\n",
        "    candidates = list(recipe_embeddings.keys())\n",
        "    candidates.sort(key=lambda x: np.linalg.norm(recipe_embeddings[x]- query_embedding))\n",
        "    return candidates[:10]\n",
        "\n",
        "search_recipes(\"easy soup for cold day\")"
      ]
    },
    {
      "cell_type": "markdown",
      "metadata": {
        "id": "M_XfGg0uSVfl"
      },
      "source": [
        "Script:\n",
        "* This version returns the ten recipes with vectors closest to the query vector.\n",
        "* Half of these recipes are Korean soups and would be perfect for a cold day.\n",
        "* I'm not sure Samgyetang counts as an easy soup, and chicken salad is definitely not a soup, but overall these look good.\n",
        "* And those two that I called out are numbers 8 and 9, so they aren't the top picks either."
      ]
    },
    {
      "cell_type": "markdown",
      "metadata": {
        "id": "vy75TPbNS5nm"
      },
      "source": [
        "Script: (faculty on screen)\n",
        "* Language model embeddings were a big step up improving search capabilities, and made good document search much easier to implement.\n"
      ]
    }
  ],
  "metadata": {
    "colab": {},
    "kernelspec": {
      "display_name": "Python 3",
      "name": "python3"
    },
    "language_info": {
      "codemirror_mode": {
        "name": "ipython",
        "version": 3
      },
      "file_extension": ".py",
      "mimetype": "text/x-python",
      "name": "python",
      "nbconvert_exporter": "python",
      "pygments_lexer": "ipython3",
      "version": "3.9.6"
    }
  },
  "nbformat": 4,
  "nbformat_minor": 0
}