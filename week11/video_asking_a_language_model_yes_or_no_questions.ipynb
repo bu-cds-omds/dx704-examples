{
  "cells": [
    {
      "cell_type": "markdown",
      "metadata": {
        "id": "u5tb9DQkp7LS"
      },
      "source": [
        "# Video: Asking a Language Model Yes or No Questions\n",
        "\n",
        "Language models are built around the simple task of generating one token of text at a time.\n",
        "In this video, we will apply language models to answer simple yes or no questions."
      ]
    },
    {
      "cell_type": "markdown",
      "metadata": {
        "id": "qCYn8ZuaOM0C"
      },
      "source": [
        "The simplest way to extract information from a language model is to ask it a series of yes or no questions.\n",
        "In this video, I will show you some beginning techniques for querying a language model using Google's Gemini API."
      ]
    },
    {
      "cell_type": "code",
      "execution_count": null,
      "metadata": {
        "id": "bDHThuI1DekU"
      },
      "outputs": [],
      "source": [
        "%pip install -q google-genai"
      ]
    },
    {
      "cell_type": "markdown",
      "metadata": {
        "id": "D9DlvLLcOma9"
      },
      "source": [
        "Script:\n",
        "* First, I will install Google's genai module.\n",
        "* I should warn you that this is not the only generative AI module written by Google.\n",
        "* The previous one was was called google-generativeai and most language modules used to help with coding get the old and new modules mixed up as of October 2025."
      ]
    },
    {
      "cell_type": "code",
      "execution_count": null,
      "metadata": {
        "id": "qfjS0VRyEcBR"
      },
      "outputs": [],
      "source": [
        "import google.genai as genai\n",
        "from google.colab import userdata"
      ]
    },
    {
      "cell_type": "markdown",
      "metadata": {
        "id": "Oge8smUDPZSA"
      },
      "source": [
        "Script:\n",
        "* I'm recording this screencast using Google Colab, and using their user data API to protect my API key.\n",
        "* You can access your own keys by clicking on the key icon on the left."
      ]
    },
    {
      "cell_type": "code",
      "execution_count": null,
      "metadata": {
        "id": "bLKv_rTjEhCc"
      },
      "outputs": [],
      "source": [
        "client = genai.Client(api_key=userdata.get('GEMINI_API_KEY'))"
      ]
    },
    {
      "cell_type": "markdown",
      "metadata": {
        "id": "mG4S4l3LPqIg"
      },
      "source": [
        "Script:\n",
        "* This setups the API client object that I will use to access the Gemini API.\n",
        "* A big difference from the previous API was that the old API clients were configured with a specific model.\n",
        "* This client object can switch models with each request, but you will need to specify the model with each request too.\n",
        "* Which model will we use?"
      ]
    },
    {
      "cell_type": "code",
      "execution_count": null,
      "metadata": {
        "id": "s4a_v_qzE7Aq"
      },
      "outputs": [],
      "source": [
        "# Rate limit documentation https://ai.google.dev/gemini-api/docs/rate-limits\n",
        "model_name = 'gemini-2.0-flash-lite'"
      ]
    },
    {
      "cell_type": "markdown",
      "metadata": {
        "id": "6zZoSS8lQgpH"
      },
      "source": [
        "Script:\n",
        "* I chose gemini-2.0-flash-lite for this example.\n",
        "* It's a small and relatively fast model, with a decent amount of free API quota so you can use practice with it.\n",
        "* It does have the downside that it tends to be busy more often."
      ]
    },
    {
      "cell_type": "code",
      "execution_count": null,
      "metadata": {
        "colab": {
          "base_uri": "https://localhost:8080/",
          "height": 71
        },
        "id": "Kz8PM0xAEinz",
        "outputId": "4becb2e2-822a-42e9-ad2d-1a0c441184f3"
      },
      "outputs": [
        {
          "data": {
            "application/vnd.google.colaboratory.intrinsic+json": {
              "type": "string"
            },
            "text/plain": [
              "\"Yes, chicken puttanesca is a food. It's a variation on the classic Italian pasta dish, puttanesca, which traditionally features tomatoes, olives, capers, garlic, and anchovies. In the chicken version, chicken is added as a protein source.\\n\""
            ]
          },
          "execution_count": null,
          "metadata": {},
          "output_type": "execute_result"
        }
      ],
      "source": [
        "response = client.models.generate_content(model=model_name,\n",
        "                                          contents=\"Is chicken puttanesca a food?\")\n",
        "response.text"
      ]
    },
    {
      "cell_type": "markdown",
      "metadata": {
        "id": "HWh2rW_7Q2xZ"
      },
      "source": [
        "Script:\n",
        "* Here's how you use the language model through the API.\n",
        "* I am going to call the generate method here passing in the model name and a contents parameter with the prompt.\n",
        "* The response object will have the output in the text attribute.\n",
        "* Let's wrap that up in a function to make it easier to test many questions."
      ]
    },
    {
      "cell_type": "code",
      "execution_count": null,
      "metadata": {
        "id": "9ozHTIuPFBCJ"
      },
      "outputs": [],
      "source": [
        "def get_response(contents):\n",
        "    response = client.models.generate_content(model=model_name,\n",
        "                                              contents=contents)\n",
        "    return response.text"
      ]
    },
    {
      "cell_type": "code",
      "execution_count": null,
      "metadata": {
        "colab": {
          "base_uri": "https://localhost:8080/",
          "height": 107
        },
        "id": "uCk7wNFcE-LG",
        "outputId": "4b2fb624-0e4c-4988-c8bd-178ce2221721"
      },
      "outputs": [
        {
          "data": {
            "application/vnd.google.colaboratory.intrinsic+json": {
              "type": "string"
            },
            "text/plain": [
              "\"Yes, chicken puttanesca is a food. It's a variation of the classic Italian pasta dish, spaghetti alla puttanesca, but made with chicken as the protein.\\n\\nSo, to be clear:\\n\\n*   **Puttanesca** is a well-known sauce made with ingredients like tomatoes, olives, capers, anchovies, garlic, and chili flakes.\\n*   **Chicken puttanesca** uses that sauce and incorporates chicken.\""
            ]
          },
          "execution_count": null,
          "metadata": {},
          "output_type": "execute_result"
        }
      ],
      "source": [
        "get_response(\"Is chicken puttanesca a food?\")"
      ]
    },
    {
      "cell_type": "markdown",
      "metadata": {
        "id": "q5sEAAqoRUAJ"
      },
      "source": [
        "Script:\n",
        "* Much easier now.\n",
        "* Let's tweak the prompt so the model reply with a short yes or no answer.\n",
        "* Most language model APIs charge based on the number of input and output tokens, and we won't gain much from extended output if we just look at the first few words."
      ]
    },
    {
      "cell_type": "code",
      "execution_count": null,
      "metadata": {
        "colab": {
          "base_uri": "https://localhost:8080/",
          "height": 35
        },
        "id": "b94Y8U82FH7B",
        "outputId": "58573721-2fae-40a1-e17a-5f9c372e5481"
      },
      "outputs": [
        {
          "data": {
            "application/vnd.google.colaboratory.intrinsic+json": {
              "type": "string"
            },
            "text/plain": [
              "'Yes\\n'"
            ]
          },
          "execution_count": null,
          "metadata": {},
          "output_type": "execute_result"
        }
      ],
      "source": [
        "get_response(\"Is chicken puttanesca a food? Just say yes or no.\")"
      ]
    },
    {
      "cell_type": "markdown",
      "metadata": {
        "id": "IdLdmxctRmym"
      },
      "source": [
        "Script:\n",
        "* That's better.\n",
        "* Let's add another layer of abstraction that parses the output to return a boolean value.\n",
        "* True or false instead of text that maybe starts with yes or no."
      ]
    },
    {
      "cell_type": "code",
      "execution_count": null,
      "metadata": {
        "id": "2rRoRYQeFO0q"
      },
      "outputs": [],
      "source": [
        "def get_boolean_response(contents):\n",
        "    response = get_response(contents)\n",
        "    print(\"RESPONSE\", response)\n",
        "\n",
        "    output = response.lower().startswith(\"yes\")\n",
        "    print(\"OUTPUT\", output)\n",
        "\n",
        "    return output"
      ]
    },
    {
      "cell_type": "markdown",
      "metadata": {
        "id": "USx7LQg9R6eu"
      },
      "source": [
        "Script:\n",
        "* I added a little bit of logging here for visibility.\n",
        "* We would not normally have all that output in a production system.\n",
        "* One thing to not here is that the function returns True if and only if the output starts with yes.\n",
        "* So if the output does not start with yes or no, it will return False.\n",
        "* That will happen if the text starts with yup, sure, or of course.\n",
        "* And it will return True if the response starts with yesterday.\n",
        "* I've gotten a lot of mileage with this simple parsing, but it is not always enough on its own, and you often need to specify that kind of output in the prompt for reliability.\n",
        "* Let's test it out.\n",
        "* First, let's ask a new question."
      ]
    },
    {
      "cell_type": "code",
      "execution_count": null,
      "metadata": {
        "colab": {
          "base_uri": "https://localhost:8080/",
          "height": 71
        },
        "id": "tBp-6e4oFXVZ",
        "outputId": "bb6adbe9-cb3c-4ee6-d54c-fafe1e63ac5c"
      },
      "outputs": [
        {
          "data": {
            "application/vnd.google.colaboratory.intrinsic+json": {
              "type": "string"
            },
            "text/plain": [
              "'Yes, the sky appears blue. This is due to a phenomenon called Rayleigh scattering, where shorter wavelengths of light (like blue and violet) are scattered more than longer wavelengths (like red and orange) by the air molecules in the atmosphere.\\n'"
            ]
          },
          "execution_count": null,
          "metadata": {},
          "output_type": "execute_result"
        }
      ],
      "source": [
        "get_response(\"Is the sky blue?\")"
      ]
    },
    {
      "cell_type": "markdown",
      "metadata": {
        "id": "0FqiIzyESHiN"
      },
      "source": [
        "Script:\n",
        "* With this output, the new get_boolean_response should work fine."
      ]
    },
    {
      "cell_type": "code",
      "execution_count": null,
      "metadata": {
        "colab": {
          "base_uri": "https://localhost:8080/"
        },
        "id": "e7zQG7YwFbJP",
        "outputId": "0cf86bd1-2dd7-4c8d-e71a-71f701680884"
      },
      "outputs": [
        {
          "name": "stdout",
          "output_type": "stream",
          "text": [
            "RESPONSE Yes, the sky is generally perceived as blue. This is due to a phenomenon called Rayleigh scattering, where shorter wavelengths of light (like blue and violet) are scattered more by the atmosphere's molecules than longer wavelengths (like red and orange).\n",
            "\n",
            "OUTPUT True\n"
          ]
        },
        {
          "data": {
            "text/plain": [
              "True"
            ]
          },
          "execution_count": null,
          "metadata": {},
          "output_type": "execute_result"
        }
      ],
      "source": [
        "get_boolean_response(\"Is the sky blue?\")"
      ]
    },
    {
      "cell_type": "markdown",
      "metadata": {
        "id": "sqajCxErSs8-"
      },
      "source": [
        "Script:\n",
        "* It is indeed true that the sky is blue.\n",
        "* Let's ask a funky version of this question.\n",
        "* Is the sky red?"
      ]
    },
    {
      "cell_type": "code",
      "execution_count": null,
      "metadata": {
        "colab": {
          "base_uri": "https://localhost:8080/"
        },
        "id": "wEjztdk2FkSm",
        "outputId": "f9f9f8ad-850d-428b-bdf9-92cab6aa9526"
      },
      "outputs": [
        {
          "name": "stdout",
          "output_type": "stream",
          "text": [
            "RESPONSE The sky can appear red, but it's not always red. \n",
            "\n",
            "Here's why:\n",
            "\n",
            "*   **Sunrise and Sunset:** The most common time to see a red sky is during sunrise and sunset. Sunlight travels a longer distance through the atmosphere at these times. This longer path scatters the blue light (which is why the sky is blue during the day) and allows the red and orange light to pass through, reaching our eyes.\n",
            "*   **Weather Conditions:** Dust particles, pollution, and clouds can also affect the color of the sky, enhancing the red hues.\n",
            "*   **Time of Day:** The sky's color varies depending on the time of day, atmospheric conditions, and the observer's location.\n",
            "\n",
            "So, while the sky isn't *always* red, it *can* be, especially during sunrise and sunset.\n",
            "\n",
            "OUTPUT False\n"
          ]
        },
        {
          "data": {
            "text/plain": [
              "False"
            ]
          },
          "execution_count": null,
          "metadata": {},
          "output_type": "execute_result"
        }
      ],
      "source": [
        "get_boolean_response(\"Is the sky red?\")"
      ]
    },
    {
      "cell_type": "markdown",
      "metadata": {
        "id": "t3vG5ki1S2Zy"
      },
      "source": [
        "Script:\n",
        "* Take a close look at this response.\n",
        "* The output was false, but that was the default answer.\n",
        "* The text did not have a clear yes or no, and the trivial parsing defaulted to no."
      ]
    },
    {
      "cell_type": "code",
      "execution_count": null,
      "metadata": {
        "colab": {
          "base_uri": "https://localhost:8080/"
        },
        "id": "wgZaJ_vbTCxG",
        "outputId": "f8dc7da0-9b68-4eed-9960-8cc21940ebd1"
      },
      "outputs": [
        {
          "name": "stdout",
          "output_type": "stream",
          "text": [
            "RESPONSE No\n",
            "\n",
            "OUTPUT False\n"
          ]
        },
        {
          "data": {
            "text/plain": [
              "False"
            ]
          },
          "execution_count": null,
          "metadata": {},
          "output_type": "execute_result"
        }
      ],
      "source": [
        "get_boolean_response(\"Is the sky red? Just answer yes or no.\")"
      ]
    },
    {
      "cell_type": "markdown",
      "metadata": {
        "id": "kIw-WY19TF8z"
      },
      "source": [
        "Script:\n",
        "* If we follow the question with \"Just answer yes or no\", the response is no.\n",
        "* So now the whole function returned False for the right reason.\n",
        "* Let's ask a deeper question."
      ]
    },
    {
      "cell_type": "code",
      "execution_count": null,
      "metadata": {
        "colab": {
          "base_uri": "https://localhost:8080/"
        },
        "id": "0lcKh0fZFwk3",
        "outputId": "0a24e739-b93d-489a-c84b-0f2465c6ce31"
      },
      "outputs": [
        {
          "name": "stdout",
          "output_type": "stream",
          "text": [
            "RESPONSE Whether Boston University (BU) is \"better\" than Boston College (BC) depends entirely on what you're looking for in a university. Here's a breakdown of some key differences and considerations to help you decide which might be a better fit for *you*:\n",
            "\n",
            "**Academics:**\n",
            "\n",
            "*   **BU:** Offers a wider range of programs and schools, including strong programs in communications, engineering, and hospitality. Known for its research opportunities and emphasis on practical experience. Strong in pre-professional programs (like pre-med and pre-law). More flexible curriculum.\n",
            "*   **BC:** Known for its strong core curriculum focused on the liberal arts. Strong programs in business, law, and theology. Emphasis on Jesuit values and a more structured academic environment.\n",
            "*   **Overall:** Both are excellent universities. The \"better\" academic program depends on your specific field of study and learning style.\n",
            "\n",
            "**Campus and Location:**\n",
            "\n",
            "*   **BU:** Located in the city of Boston along Commonwealth Avenue. A more urban campus, with a mix of buildings spread out along a busy street. Easy access to shops, restaurants, and public transportation.\n",
            "*   **BC:** Located in Chestnut Hill, a suburban area just outside of Boston. A more traditional, collegiate-style campus with beautiful Gothic architecture. Provides a more enclosed campus experience.\n",
            "*   **Overall:** Both offer the benefits of being in Boston. BU is directly in the city, while BC offers a more suburban feel.\n",
            "\n",
            "**Student Life:**\n",
            "\n",
            "*   **BU:** Large and diverse student body. More of a commuter-student population, with a blend of students from various backgrounds. Wide variety of extracurricular activities.\n",
            "*   **BC:** Strong sense of community and tradition. More residential campus, with a focus on campus events and activities. Known for its school spirit and sports culture (especially football).\n",
            "*   **Overall:** Both offer vibrant student life, but with different focuses. BU leans towards diversity and urban experiences while BC focuses on community and campus traditions.\n",
            "\n",
            "**Cost:**\n",
            "\n",
            "*   Both are private universities, so tuition and fees are similar and expensive.\n",
            "*   Financial aid packages vary depending on your personal financial situation.\n",
            "\n",
            "**Rankings:**\n",
            "\n",
            "*   Both are highly ranked universities, typically in the top 50 nationally. Rankings are a general guide, but should not be the only factor when deciding.\n",
            "\n",
            "**Here's a quick comparison table:**\n",
            "\n",
            "| Feature          | Boston University (BU)        | Boston College (BC)           |\n",
            "|------------------|-----------------------------|-------------------------------|\n",
            "| **Academics**    | Wide range of programs, Research focused | Strong core curriculum, Jesuit values |\n",
            "| **Campus**         | Urban, spread out           | Suburban, traditional         |\n",
            "| **Student Body**   | Diverse, commuter-focused     | Close-knit, residential          |\n",
            "| **Student Life**    | Many activities, diverse      | Strong community, school spirit     |\n",
            "| **Culture**        | Flexible, professional       | Traditional, community-oriented  |\n",
            "| **Rankings**      | Top 50                    | Top 50                      |\n",
            "\n",
            "**To make your decision, consider:**\n",
            "\n",
            "*   **Your academic interests:** What programs are you most interested in?\n",
            "*   **Your preferred campus environment:** Urban vs. suburban?\n",
            "*   **Your desired student life experience:** Community vs. independence?\n",
            "*   **Your personal learning style:** Structured vs. flexible?\n",
            "*   **Visit both campuses if possible:** This will give you a feel for the atmosphere.\n",
            "*   **Talk to current students:** Get firsthand perspectives on their experiences.\n",
            "\n",
            "**In conclusion:** There is no single \"better\" school. Both BU and BC are excellent universities with distinct strengths. The best choice for you depends on your individual needs, goals, and preferences.\n",
            "OUTPUT False\n"
          ]
        },
        {
          "data": {
            "text/plain": [
              "False"
            ]
          },
          "execution_count": null,
          "metadata": {},
          "output_type": "execute_result"
        }
      ],
      "source": [
        "get_boolean_response(\"Is BU better than BC?\")"
      ]
    },
    {
      "cell_type": "markdown",
      "metadata": {
        "id": "oKPSZ8r4TVvR"
      },
      "source": [
        "Script:\n",
        "* In case you are not familiar, Boston University and Boston College are long term rivals in sports.\n",
        "* This long-winded answer was unsatisfying, and the answer was obviously wrong.\n",
        "* Let's try again with a better prompt."
      ]
    },
    {
      "cell_type": "code",
      "execution_count": null,
      "metadata": {
        "colab": {
          "base_uri": "https://localhost:8080/"
        },
        "id": "9oN-VB6SF7hz",
        "outputId": "cf61ac10-9550-49c0-cffc-e082809772aa"
      },
      "outputs": [
        {
          "name": "stdout",
          "output_type": "stream",
          "text": [
            "RESPONSE This is a subjective question, so I can't give a definitive \"yes\" or \"no\". It depends on what someone is looking for in a university.\n",
            "\n",
            "OUTPUT False\n"
          ]
        },
        {
          "data": {
            "text/plain": [
              "False"
            ]
          },
          "execution_count": null,
          "metadata": {},
          "output_type": "execute_result"
        }
      ],
      "source": [
        "get_boolean_response(\"Is BU better than BC? Just say yes or no.\")"
      ]
    },
    {
      "cell_type": "markdown",
      "metadata": {
        "id": "18rN-Wb0TnA5"
      },
      "source": [
        "Script:\n",
        "* Sigh.\n",
        "* Sometimes you need to give the language model more hints about the right answer."
      ]
    },
    {
      "cell_type": "code",
      "execution_count": null,
      "metadata": {
        "colab": {
          "base_uri": "https://localhost:8080/"
        },
        "id": "6EC0o9y-F-kh",
        "outputId": "55f50a74-d838-4de4-dc04-d459bc24fdc5"
      },
      "outputs": [
        {
          "name": "stdout",
          "output_type": "stream",
          "text": [
            "RESPONSE Historically, Boston University (BU) has a slight edge in men's hockey, but it's very close. Here's a breakdown:\n",
            "\n",
            "*   **National Championships:** BU has won 5 NCAA championships, while Boston College (BC) has won 5.\n",
            "*   **Recent Success:** Both teams have had periods of dominance.\n",
            "*   **Head-to-Head:** The series record between the two teams is very close, making specific season results and recent games often the deciding factor in determining which is \"better\" in the moment.\n",
            "*   **Recruiting:** Both schools are consistently strong in recruiting.\n",
            "\n",
            "**In Conclusion:** It's a matter of opinion and depends on the specific criteria you're using to define \"better.\" Both BU and BC are top-tier college hockey programs with a history of excellence. In any given year, one team might be slightly ahead based on their current roster and performance.\n",
            "OUTPUT False\n"
          ]
        },
        {
          "data": {
            "text/plain": [
              "False"
            ]
          },
          "execution_count": null,
          "metadata": {},
          "output_type": "execute_result"
        }
      ],
      "source": [
        "get_boolean_response(\"Is BU better than BC at hockey?\")"
      ]
    },
    {
      "cell_type": "markdown",
      "metadata": {
        "id": "XNHegnIBTwm9"
      },
      "source": [
        "Script:\n",
        "* This at least is correct although it is long-winded."
      ]
    },
    {
      "cell_type": "code",
      "execution_count": null,
      "metadata": {
        "colab": {
          "base_uri": "https://localhost:8080/"
        },
        "id": "MGaiLNzvGDKC",
        "outputId": "cb682759-2322-4e07-ef78-6dfc158ed49f"
      },
      "outputs": [
        {
          "name": "stdout",
          "output_type": "stream",
          "text": [
            "RESPONSE Yes\n",
            "\n",
            "OUTPUT True\n"
          ]
        },
        {
          "data": {
            "text/plain": [
              "True"
            ]
          },
          "execution_count": null,
          "metadata": {},
          "output_type": "execute_result"
        }
      ],
      "source": [
        "get_boolean_response(\"Is BU better than BC at hockey? Just say yes or no.\")"
      ]
    },
    {
      "cell_type": "markdown",
      "metadata": {
        "id": "C2x01gruT2Fj"
      },
      "source": [
        "Script:\n",
        "* With just say yes or no appended, now we have confirmed the truth.\n",
        "* Before wrapping up, I'm going to show you how to pass in extra information to the Gemini API.\n",
        "* All the language model APIs that I've used have some version of this extra configuration."
      ]
    },
    {
      "cell_type": "code",
      "execution_count": null,
      "metadata": {
        "id": "BhnwprFNHgfG"
      },
      "outputs": [],
      "source": [
        "from google.genai import types"
      ]
    },
    {
      "cell_type": "markdown",
      "metadata": {
        "id": "2zVB6K09UMzI"
      },
      "source": [
        "Script:\n",
        "* This types module gives us access to the configuration data structures."
      ]
    },
    {
      "cell_type": "code",
      "execution_count": null,
      "metadata": {
        "colab": {
          "base_uri": "https://localhost:8080/",
          "height": 35
        },
        "id": "IHesvy9XGs5f",
        "outputId": "72da9774-aaa7-4e08-a104-a6f41d1b2a7c"
      },
      "outputs": [
        {
          "data": {
            "application/vnd.google.colaboratory.intrinsic+json": {
              "type": "string"
            },
            "text/plain": [
              "'Historically'"
            ]
          },
          "execution_count": null,
          "metadata": {},
          "output_type": "execute_result"
        }
      ],
      "source": [
        "response = client.models.generate_content(model=model_name,\n",
        "                               contents=\"Is BU better than BC at hockey?\",\n",
        "                               config=types.GenerateContentConfig(max_output_tokens=1))\n",
        "response.text\n"
      ]
    },
    {
      "cell_type": "markdown",
      "metadata": {
        "id": "0HP4TwBAURhm"
      },
      "source": [
        "Script:\n",
        "* I just added one constraint to limit the number of output tokens so that the response must be brief.\n",
        "* This makes the API calls faster and cheaper.\n",
        "* But you should be a little careful with this option.\n",
        "* I've noticed it tend to cut off outputs mid sentence, and in this case, you can see that the model was about to rant about historical trends first.\n",
        "* So it is important that your prompt encourage a short answer that fits."
      ]
    },
    {
      "cell_type": "code",
      "execution_count": null,
      "metadata": {
        "colab": {
          "base_uri": "https://localhost:8080/",
          "height": 35
        },
        "id": "yVj1K4yUH0CA",
        "outputId": "46ef8437-6be0-41c9-9d00-1fbba1cb9a61"
      },
      "outputs": [
        {
          "data": {
            "application/vnd.google.colaboratory.intrinsic+json": {
              "type": "string"
            },
            "text/plain": [
              "'Yes'"
            ]
          },
          "execution_count": null,
          "metadata": {},
          "output_type": "execute_result"
        }
      ],
      "source": [
        "response = client.models.generate_content(model=model_name,\n",
        "                               contents=\"Is BU better than BC at hockey? Just say yes or no.\",\n",
        "                               config=types.GenerateContentConfig(max_output_tokens=1))\n",
        "response.text\n"
      ]
    },
    {
      "cell_type": "markdown",
      "metadata": {
        "id": "z-HI0dE7VJ9a"
      },
      "source": [
        "Script:\n",
        "* Adding on just say yes or no does the trick."
      ]
    },
    {
      "cell_type": "markdown",
      "metadata": {
        "id": "-1jgZu1ZqIR-"
      },
      "source": [
        "Script: (faculty on screen)\n",
        "* It is a little bit magical that we can call an API over the Internet that gives a response from an increasingly intelligent language model.\n",
        "* Since GPT-3 was first made available to the public as an API in 2020, interest and actual use of generative models have exploded.\n",
        "* Welcome on board!"
      ]
    }
  ],
  "metadata": {
    "colab": {},
    "kernelspec": {
      "display_name": "Python 3",
      "name": "python3"
    },
    "language_info": {
      "codemirror_mode": {
        "name": "ipython",
        "version": 3
      },
      "file_extension": ".py",
      "mimetype": "text/x-python",
      "name": "python",
      "nbconvert_exporter": "python",
      "pygments_lexer": "ipython3",
      "version": "3.9.6"
    }
  },
  "nbformat": 4,
  "nbformat_minor": 0
}