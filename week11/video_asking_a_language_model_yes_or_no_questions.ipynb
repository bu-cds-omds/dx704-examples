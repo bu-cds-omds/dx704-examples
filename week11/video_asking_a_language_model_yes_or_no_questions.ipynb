{
  "cells": [
    {
      "cell_type": "markdown",
      "metadata": {
        "id": "u5tb9DQkp7LS"
      },
      "source": [
        "# Video: Asking a Language Model Yes or No Questions\n",
        "\n",
        "Language models are built around the simple task of generating one token of text at a time.\n",
        "In this video, we will apply language models to answer simple yes or no questions."
      ]
    },
    {
      "cell_type": "markdown",
      "metadata": {
        "id": "qCYn8ZuaOM0C"
      },
      "source": [
        "The simplest way to extract information from a language model is to ask it a series of yes or no questions.\n",
        "In this video, I will show you some beginning techniques for querying a language model using Google's Gemini API."
      ]
    },
    {
      "cell_type": "code",
      "execution_count": null,
      "metadata": {
        "id": "bDHThuI1DekU"
      },
      "outputs": [],
      "source": [
        "%pip install -q google-genai"
      ]
    },
    {
      "cell_type": "markdown",
      "metadata": {
        "id": "D9DlvLLcOma9"
      },
      "source": [
        "Script:\n",
        "* First, I will install Google's genai module.\n",
        "* I should warn you that this is not the only generative AI module written by Google.\n",
        "* The previous one was was called google-generativeai and most language modules used to help with coding get the old and new modules mixed up as of October 2025."
      ]
    },
    {
      "cell_type": "code",
      "execution_count": null,
      "metadata": {
        "id": "qfjS0VRyEcBR"
      },
      "outputs": [],
      "source": [
        "import google.genai as genai\n",
        "from google.colab import userdata"
      ]
    },
    {
      "cell_type": "markdown",
      "metadata": {
        "id": "Oge8smUDPZSA"
      },
      "source": [
        "Script:\n",
        "* I'm recording this screencast using Google Colab, and using their user data API to protect my API key.\n",
        "* You can access your own keys by clicking on the key icon on the left."
      ]
    },
    {
      "cell_type": "code",
      "execution_count": null,
      "metadata": {
        "id": "bLKv_rTjEhCc"
      },
      "outputs": [],
      "source": [
        "client = genai.Client(api_key=userdata.get('GEMINI_API_KEY'))"
      ]
    },
    {
      "cell_type": "markdown",
      "metadata": {
        "id": "mG4S4l3LPqIg"
      },
      "source": [
        "Script:\n",
        "* This setups the API client object that I will use to access the Gemini API.\n",
        "* A big difference from the previous API was that the old API clients were configured with a specific model.\n",
        "* This client object can switch models with each request, but you will need to specify the model with each request too.\n",
        "* Which model will we use?"
      ]
    },
    {
      "cell_type": "code",
      "execution_count": null,
      "metadata": {
        "id": "s4a_v_qzE7Aq"
      },
      "outputs": [],
      "source": [
        "# Rate limit documentation https://ai.google.dev/gemini-api/docs/rate-limits\n",
        "model_name = 'gemini-2.0-flash-lite'"
      ]
    },
    {
      "cell_type": "markdown",
      "metadata": {
        "id": "6zZoSS8lQgpH"
      },
      "source": [
        "Script:\n",
        "* I chose gemini-2.0-flash-lite for this example.\n",
        "* It's a small and relatively fast model, and most importantly, it has the most free API quota so you can use practice with it."
      ]
    },
    {
      "cell_type": "code",
      "execution_count": null,
      "metadata": {
        "colab": {
          "base_uri": "https://localhost:8080/",
          "height": 71
        },
        "id": "Kz8PM0xAEinz",
        "outputId": "6d82bb9a-d860-4624-a828-f446fa543bcf"
      },
      "outputs": [
        {
          "data": {
            "application/vnd.google.colaboratory.intrinsic+json": {
              "type": "string"
            },
            "text/plain": [
              "\"Yes, chicken puttanesca is a food. It's a dish that combines the classic puttanesca sauce (tomatoes, olives, capers, garlic, and often anchovies) with chicken.\\n\""
            ]
          },
          "execution_count": null,
          "metadata": {},
          "output_type": "execute_result"
        }
      ],
      "source": [
        "response = client.models.generate_content(model=model_name,\n",
        "                                          contents=\"Is chicken puttanesca a food?\")\n",
        "response.text"
      ]
    },
    {
      "cell_type": "markdown",
      "metadata": {
        "id": "HWh2rW_7Q2xZ"
      },
      "source": [
        "Script:\n",
        "* Here's how you use the language model through the API.\n",
        "* I am going to call the generate method here passing in the model name and a contents parameter with the prompt.\n",
        "* The response object will have the output in the text attribute.\n",
        "* Let's wrap that up in a function to make it easier to test many questions."
      ]
    },
    {
      "cell_type": "code",
      "execution_count": null,
      "metadata": {
        "id": "9ozHTIuPFBCJ"
      },
      "outputs": [],
      "source": [
        "def get_response(contents):\n",
        "    response = client.models.generate_content(model=model_name,\n",
        "                                              contents=contents)\n",
        "    return response.text"
      ]
    },
    {
      "cell_type": "code",
      "execution_count": null,
      "metadata": {
        "colab": {
          "base_uri": "https://localhost:8080/",
          "height": 71
        },
        "id": "uCk7wNFcE-LG",
        "outputId": "9c6d5588-18f6-4ddb-92d9-f9df439f3b2e"
      },
      "outputs": [
        {
          "data": {
            "application/vnd.google.colaboratory.intrinsic+json": {
              "type": "string"
            },
            "text/plain": [
              "\"Yes, chicken puttanesca is a food. It's a dish that combines the classic puttanesca sauce (typically tomatoes, olives, capers, garlic, and anchovies) with chicken.\\n\""
            ]
          },
          "execution_count": null,
          "metadata": {},
          "output_type": "execute_result"
        }
      ],
      "source": [
        "get_response(\"Is chicken puttanesca a food?\")"
      ]
    },
    {
      "cell_type": "markdown",
      "metadata": {
        "id": "q5sEAAqoRUAJ"
      },
      "source": [
        "Script:\n",
        "* Much easier now.\n",
        "* Let's tweak the prompt so the model reply with a short yes or no answer.\n",
        "* Most language model APIs charge based on the number of input and output tokens, and we won't gain much from extended output if we just look at the first few words."
      ]
    },
    {
      "cell_type": "code",
      "execution_count": null,
      "metadata": {
        "colab": {
          "base_uri": "https://localhost:8080/",
          "height": 35
        },
        "id": "b94Y8U82FH7B",
        "outputId": "7643dc01-f18a-4996-fff4-b10f60c2b3cb"
      },
      "outputs": [
        {
          "data": {
            "application/vnd.google.colaboratory.intrinsic+json": {
              "type": "string"
            },
            "text/plain": [
              "'Yes\\n'"
            ]
          },
          "execution_count": null,
          "metadata": {},
          "output_type": "execute_result"
        }
      ],
      "source": [
        "get_response(\"Is chicken puttanesca a food? Just say yes or no.\")"
      ]
    },
    {
      "cell_type": "markdown",
      "metadata": {
        "id": "IdLdmxctRmym"
      },
      "source": [
        "Script:\n",
        "* That's better.\n",
        "* Let's add another layer of abstraction that parses the output to return a boolean value.\n",
        "* True or false instead of text that maybe starts with yes or no."
      ]
    },
    {
      "cell_type": "code",
      "execution_count": null,
      "metadata": {
        "id": "2rRoRYQeFO0q"
      },
      "outputs": [],
      "source": [
        "def get_boolean_response(contents):\n",
        "    response = get_response(contents)\n",
        "    print(\"RESPONSE\", response)\n",
        "\n",
        "    output = response.lower().startswith(\"yes\")\n",
        "    print(\"OUTPUT\", output)\n",
        "\n",
        "    return output"
      ]
    },
    {
      "cell_type": "markdown",
      "metadata": {
        "id": "USx7LQg9R6eu"
      },
      "source": [
        "Script:\n",
        "* I added a little bit of logging here for visibility.\n",
        "* We would not normally have all that output in a production system.\n",
        "* One thing to not here is that the function returns True if and only if the output starts with yes.\n",
        "* So if the output does not start with yes or no, it will return False.\n",
        "* That will happen if the text starts with yup, sure, or of course.\n",
        "* And it will return True if the response starts with yesterday.\n",
        "* I've gotten a lot of mileage with this simple parsing, but it is not always enough on its own, and you often need to specify that kind of output in the prompt for reliability.\n",
        "* Let's test it out.\n",
        "* First, let's ask a new question."
      ]
    },
    {
      "cell_type": "code",
      "execution_count": null,
      "metadata": {
        "colab": {
          "base_uri": "https://localhost:8080/",
          "height": 89
        },
        "id": "tBp-6e4oFXVZ",
        "outputId": "619374ec-c134-486c-a1bc-d5f3d6ba4f31"
      },
      "outputs": [
        {
          "data": {
            "application/vnd.google.colaboratory.intrinsic+json": {
              "type": "string"
            },
            "text/plain": [
              "'Yes, the sky is generally perceived as blue. This is due to a phenomenon called Rayleigh scattering, where shorter wavelengths of light (like blue and violet) are scattered more by the atmosphere than longer wavelengths (like red and orange).\\n'"
            ]
          },
          "execution_count": null,
          "metadata": {},
          "output_type": "execute_result"
        }
      ],
      "source": [
        "get_response(\"Is the sky blue?\")"
      ]
    },
    {
      "cell_type": "markdown",
      "metadata": {
        "id": "0FqiIzyESHiN"
      },
      "source": [
        "Script:\n",
        "* With this output, the new get_boolean_response should work fine."
      ]
    },
    {
      "cell_type": "code",
      "execution_count": null,
      "metadata": {
        "colab": {
          "base_uri": "https://localhost:8080/"
        },
        "id": "e7zQG7YwFbJP",
        "outputId": "1a8b8df3-45ca-4b96-addb-e85f374d23d6"
      },
      "outputs": [
        {
          "name": "stdout",
          "output_type": "stream",
          "text": [
            "RESPONSE Yes, the sky is generally perceived as blue. This is due to a phenomenon called Rayleigh scattering, where shorter wavelengths of light (like blue and violet) are scattered more by the atmosphere's molecules than longer wavelengths (like red and orange).\n",
            "\n",
            "OUTPUT True\n"
          ]
        },
        {
          "data": {
            "text/plain": [
              "True"
            ]
          },
          "execution_count": null,
          "metadata": {},
          "output_type": "execute_result"
        }
      ],
      "source": [
        "get_boolean_response(\"Is the sky blue?\")"
      ]
    },
    {
      "cell_type": "markdown",
      "metadata": {
        "id": "sqajCxErSs8-"
      },
      "source": [
        "Script:\n",
        "* It is indeed true that the sky is blue.\n",
        "* Let's ask a funky version of this question.\n",
        "* Is the sky red?"
      ]
    },
    {
      "cell_type": "code",
      "execution_count": null,
      "metadata": {
        "colab": {
          "base_uri": "https://localhost:8080/"
        },
        "id": "wEjztdk2FkSm",
        "outputId": "034bf529-7a7c-4462-a2e2-17714724be30"
      },
      "outputs": [
        {
          "name": "stdout",
          "output_type": "stream",
          "text": [
            "RESPONSE The sky can appear red, especially during sunrise and sunset. This is because the sunlight has to travel through more of the atmosphere at those times, and the shorter wavelengths of light (like blue) are scattered away, leaving the longer wavelengths (like red and orange) to reach our eyes.\n",
            "\n",
            "However, the sky is not *always* red. During the day, the sky is typically blue due to the scattering of sunlight by air molecules.\n",
            "\n",
            "OUTPUT False\n"
          ]
        },
        {
          "data": {
            "text/plain": [
              "False"
            ]
          },
          "execution_count": null,
          "metadata": {},
          "output_type": "execute_result"
        }
      ],
      "source": [
        "get_boolean_response(\"Is the sky red?\")"
      ]
    },
    {
      "cell_type": "markdown",
      "metadata": {
        "id": "t3vG5ki1S2Zy"
      },
      "source": [
        "Script:\n",
        "* Take a close look at this response.\n",
        "* The output was false, but that was the default answer.\n",
        "* The text did not have a clear yes or no, and the trivial parsing defaulted to no."
      ]
    },
    {
      "cell_type": "code",
      "execution_count": null,
      "metadata": {
        "colab": {
          "base_uri": "https://localhost:8080/"
        },
        "id": "wgZaJ_vbTCxG",
        "outputId": "09337b5d-5203-48ac-e247-03d7c6733c22"
      },
      "outputs": [
        {
          "name": "stdout",
          "output_type": "stream",
          "text": [
            "RESPONSE No\n",
            "\n",
            "OUTPUT False\n"
          ]
        },
        {
          "data": {
            "text/plain": [
              "False"
            ]
          },
          "execution_count": null,
          "metadata": {},
          "output_type": "execute_result"
        }
      ],
      "source": [
        "get_boolean_response(\"Is the sky red? Just answer yes or no.\")"
      ]
    },
    {
      "cell_type": "markdown",
      "metadata": {
        "id": "kIw-WY19TF8z"
      },
      "source": [
        "Script:\n",
        "* If we follow the question with \"Just answer yes or no\", the response is no.\n",
        "* So now the whole function returned False for the right reason.\n",
        "* Let's ask a deeper question."
      ]
    },
    {
      "cell_type": "code",
      "execution_count": null,
      "metadata": {
        "colab": {
          "base_uri": "https://localhost:8080/"
        },
        "id": "0lcKh0fZFwk3",
        "outputId": "5840cad2-f00e-4587-bfdb-25e6f4dd030f"
      },
      "outputs": [
        {
          "name": "stdout",
          "output_type": "stream",
          "text": [
            "RESPONSE Whether Boston University (BU) is \"better\" than Boston College (BC) depends entirely on what you're looking for in a university. Here's a breakdown of how they compare, to help you decide which might be a better fit for *you*:\n",
            "\n",
            "**Academics:**\n",
            "\n",
            "*   **BU:** Known for its wide range of programs and strong professional schools (e.g., Law, Medicine, Communications, Engineering, Business). Offers a more practical and career-focused approach in some departments.\n",
            "*   **BC:** Strong liberal arts foundation with a more traditional academic approach. Has well-regarded programs in law, business (Carroll School of Management), and the humanities. Generally seen as having a slightly higher academic reputation overall, but this is often program-specific.\n",
            "*   **Key Considerations:** Your intended major is crucial. Research specific programs at each school to see which aligns better with your interests and career goals.\n",
            "\n",
            "**Campus Environment:**\n",
            "\n",
            "*   **BU:** Located in the heart of Boston, with a more urban campus feel. The campus is integrated into the city, with buildings spread along Commonwealth Avenue. Provides easy access to city amenities, cultural attractions, and internships.\n",
            "*   **BC:** Located in Chestnut Hill, a more suburban setting about a 20-30 minute drive from downtown Boston. Offers a more traditional college campus experience with a beautiful, historic Gothic architecture.\n",
            "*   **Key Considerations:** Consider your preferred environment. Do you want to be in the middle of a bustling city or a more contained campus setting?\n",
            "\n",
            "**Student Body & Social Life:**\n",
            "\n",
            "*   **BU:** Larger student body, representing a wide diversity of backgrounds and interests. Offers a vibrant social scene with many clubs, activities, and events.\n",
            "*   **BC:** Smaller student body, fostering a strong sense of community. Known for a more tight-knit, social environment with a strong focus on school spirit and traditions. Often perceived as having a more religious, especially Catholic, student body.\n",
            "*   **Key Considerations:** Consider your preferred social environment and the size of the student body you are seeking.\n",
            "\n",
            "**Financial Aid & Cost:**\n",
            "\n",
            "*   **Both:** Both are private universities and are expensive. Costs can vary depending on financial aid packages.\n",
            "*   **Key Considerations:** Compare financial aid offers from both schools if applicable.\n",
            "\n",
            "**Other Factors:**\n",
            "\n",
            "*   **Research Opportunities:** Both BU and BC offer research opportunities, but BU is generally known for having a greater range of research facilities due to its larger size and diverse departments.\n",
            "*   **Athletics:** Both schools have Division I athletic programs. BC is especially known for its football and hockey teams.\n",
            "*   **Reputation:** Both are prestigious universities with good reputations, but BC may have a slight edge in prestige in the U.S. News & World Report rankings and other popular rankings.\n",
            "\n",
            "**In Conclusion:**\n",
            "\n",
            "There is no single \"better\" school. The \"better\" school for *you* depends on your personal preferences, academic goals, and desired college experience. Research programs, consider the campus environments, and reflect on what you value most in a university. Visit the campuses, if possible, to get a feel for each school.\n",
            "OUTPUT False\n"
          ]
        },
        {
          "data": {
            "text/plain": [
              "False"
            ]
          },
          "execution_count": null,
          "metadata": {},
          "output_type": "execute_result"
        }
      ],
      "source": [
        "get_boolean_response(\"Is BU better than BC?\")"
      ]
    },
    {
      "cell_type": "markdown",
      "metadata": {
        "id": "oKPSZ8r4TVvR"
      },
      "source": [
        "Script:\n",
        "* In case you are not familiar, Boston University and Boston College are long term rivals in sports.\n",
        "* This long-winded answer was unsatisfying, and the answer was obviously wrong.\n",
        "* Let's try again with a better prompt."
      ]
    },
    {
      "cell_type": "code",
      "execution_count": null,
      "metadata": {
        "colab": {
          "base_uri": "https://localhost:8080/"
        },
        "id": "9oN-VB6SF7hz",
        "outputId": "7db39933-d52c-4098-dcc3-6f121acefacc"
      },
      "outputs": [
        {
          "name": "stdout",
          "output_type": "stream",
          "text": [
            "RESPONSE No.\n",
            "\n",
            "OUTPUT False\n"
          ]
        },
        {
          "data": {
            "text/plain": [
              "False"
            ]
          },
          "execution_count": null,
          "metadata": {},
          "output_type": "execute_result"
        }
      ],
      "source": [
        "get_boolean_response(\"Is BU better than BC? Just say yes or no.\")"
      ]
    },
    {
      "cell_type": "markdown",
      "metadata": {
        "id": "18rN-Wb0TnA5"
      },
      "source": [
        "Script:\n",
        "* Sigh.\n",
        "* Sometimes you need to give the language model more hints about the right answer."
      ]
    },
    {
      "cell_type": "code",
      "execution_count": null,
      "metadata": {
        "colab": {
          "base_uri": "https://localhost:8080/"
        },
        "id": "6EC0o9y-F-kh",
        "outputId": "e2574cb1-af99-4b4b-df04-e514ce598848"
      },
      "outputs": [
        {
          "name": "stdout",
          "output_type": "stream",
          "text": [
            "RESPONSE Yes, generally speaking, Boston University (BU) is considered to have a better hockey program than Boston College (BC). Here's why:\n",
            "\n",
            "*   **Historical Success:** BU has a significantly longer history of success, including more national championships (5 vs. 5).\n",
            "*   **Recruiting:** BU consistently recruits top talent and has a very strong pipeline of players to the NHL.\n",
            "*   **Recent Performance:** While BC has had some strong years, BU's program has generally been more consistently competitive in recent years.\n",
            "\n",
            "However, it's important to note that the rivalry between BU and BC is incredibly intense, and anything can happen in a single game or even a season. BC has had periods of dominance, and they are always a tough opponent for BU.\n",
            "\n",
            "So, while BU has the edge historically and in recent years, BC is always a threat and the rivalry is one of the best in college hockey.\n",
            "\n",
            "OUTPUT True\n"
          ]
        },
        {
          "data": {
            "text/plain": [
              "True"
            ]
          },
          "execution_count": null,
          "metadata": {},
          "output_type": "execute_result"
        }
      ],
      "source": [
        "get_boolean_response(\"Is BU better than BC at hockey?\")"
      ]
    },
    {
      "cell_type": "markdown",
      "metadata": {
        "id": "XNHegnIBTwm9"
      },
      "source": [
        "Script:\n",
        "* This at least is correct although it is long-winded."
      ]
    },
    {
      "cell_type": "code",
      "execution_count": null,
      "metadata": {
        "colab": {
          "base_uri": "https://localhost:8080/"
        },
        "id": "MGaiLNzvGDKC",
        "outputId": "0d975742-ac89-4fb0-9312-7cef035355ff"
      },
      "outputs": [
        {
          "name": "stdout",
          "output_type": "stream",
          "text": [
            "RESPONSE Yes\n",
            "\n",
            "OUTPUT True\n"
          ]
        },
        {
          "data": {
            "text/plain": [
              "True"
            ]
          },
          "execution_count": null,
          "metadata": {},
          "output_type": "execute_result"
        }
      ],
      "source": [
        "get_boolean_response(\"Is BU better than BC at hockey? Just say yes or no.\")"
      ]
    },
    {
      "cell_type": "markdown",
      "metadata": {
        "id": "C2x01gruT2Fj"
      },
      "source": [
        "Script:\n",
        "* With just say yes or no appended, now we have confirmed the truth.\n",
        "* Before wrapping up, I'm going to show you how to pass in extra information to the Gemini API.\n",
        "* All the language model APIs that I've used have some version of this extra configuration."
      ]
    },
    {
      "cell_type": "code",
      "execution_count": null,
      "metadata": {
        "id": "BhnwprFNHgfG"
      },
      "outputs": [],
      "source": [
        "from google.genai import types"
      ]
    },
    {
      "cell_type": "markdown",
      "metadata": {
        "id": "2zVB6K09UMzI"
      },
      "source": [
        "Script:\n",
        "* This types module gives us access to the configuration data structures."
      ]
    },
    {
      "cell_type": "code",
      "execution_count": null,
      "metadata": {
        "colab": {
          "base_uri": "https://localhost:8080/",
          "height": 35
        },
        "id": "IHesvy9XGs5f",
        "outputId": "70287ba5-8b10-4066-99c1-b7b6d1ec8f8c"
      },
      "outputs": [
        {
          "data": {
            "application/vnd.google.colaboratory.intrinsic+json": {
              "type": "string"
            },
            "text/plain": [
              "'Historically'"
            ]
          },
          "execution_count": null,
          "metadata": {},
          "output_type": "execute_result"
        }
      ],
      "source": [
        "response = client.models.generate_content(model=model_name,\n",
        "                               contents=\"Is BU better than BC at hockey?\",\n",
        "                               config=types.GenerateContentConfig(max_output_tokens=1))\n",
        "response.text\n"
      ]
    },
    {
      "cell_type": "markdown",
      "metadata": {
        "id": "0HP4TwBAURhm"
      },
      "source": [
        "Script:\n",
        "* I just added one constraint to limit the number of output tokens so that the response must be brief.\n",
        "* This makes the API calls faster and cheaper.\n",
        "* But you should be a little careful with this option.\n",
        "* I've noticed it tend to cut off outputs mid sentence, and in this case, you can see that the model was about to rant about historical trends first.\n",
        "* So it is important that your prompt encourage a short answer that fits."
      ]
    },
    {
      "cell_type": "code",
      "execution_count": null,
      "metadata": {
        "colab": {
          "base_uri": "https://localhost:8080/",
          "height": 35
        },
        "id": "yVj1K4yUH0CA",
        "outputId": "29354e39-340a-4acd-9f6b-c5e1a46d20bc"
      },
      "outputs": [
        {
          "data": {
            "application/vnd.google.colaboratory.intrinsic+json": {
              "type": "string"
            },
            "text/plain": [
              "'Yes'"
            ]
          },
          "execution_count": null,
          "metadata": {},
          "output_type": "execute_result"
        }
      ],
      "source": [
        "response = client.models.generate_content(model=model_name,\n",
        "                               contents=\"Is BU better than BC at hockey? Just say yes or no.\",\n",
        "                               config=types.GenerateContentConfig(max_output_tokens=1))\n",
        "response.text\n"
      ]
    },
    {
      "cell_type": "markdown",
      "metadata": {
        "id": "z-HI0dE7VJ9a"
      },
      "source": [
        "Script:\n",
        "* Adding on just say yes or no does the trick."
      ]
    },
    {
      "cell_type": "markdown",
      "metadata": {
        "id": "-1jgZu1ZqIR-"
      },
      "source": [
        "Script: (faculty on screen)\n",
        "* It is a little bit magical that we can call an API over the Internet that gives a response from an increasingly intelligent language model.\n",
        "* Since GPT-3 was first made available to the public as an API in 2020, interest and actual use of generative models have exploded.\n",
        "* Welcome on board!"
      ]
    }
  ],
  "metadata": {
    "colab": {},
    "kernelspec": {
      "display_name": "Python 3",
      "name": "python3"
    },
    "language_info": {
      "codemirror_mode": {
        "name": "ipython",
        "version": 3
      },
      "file_extension": ".py",
      "mimetype": "text/x-python",
      "name": "python",
      "nbconvert_exporter": "python",
      "pygments_lexer": "ipython3",
      "version": "3.9.6"
    }
  },
  "nbformat": 4,
  "nbformat_minor": 0
}