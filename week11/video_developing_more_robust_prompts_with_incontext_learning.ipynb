{
  "cells": [
    {
      "cell_type": "markdown",
      "metadata": {
        "id": "KssrT1a2QnLE"
      },
      "source": [
        "# Video: Developing More Robust Prompts with In-Context Learning\n",
        "\n",
        "A recurring piece of advise for better use of language models is to provide as much useful information as possible in the prompt.\n",
        "In this video, we will compare the use of extremely concise prompts against long elaborate prompts."
      ]
    },
    {
      "cell_type": "markdown",
      "metadata": {
        "id": "clMEuppYqYm_"
      },
      "source": [
        "Script: (faculty on screen)\n",
        "* In-context learning is a common tactic to give more specific guidance to a language model about what kind of output is desired.\n",
        "* The basic idea is to provide a few explained examples for a few known inputs, and then repeat the question for a new input.\n",
        "* I'll walk through some examples testing prompts and comparing to prompts with in-context learning.\n",
        "* Along the way, I'll share some tips to speed up and ease your API usage."
      ]
    },
    {
      "cell_type": "code",
      "execution_count": null,
      "metadata": {
        "id": "B2ub_qVKqF2F"
      },
      "outputs": [],
      "source": [
        "%pip install -q google-genai"
      ]
    },
    {
      "cell_type": "code",
      "execution_count": null,
      "metadata": {
        "id": "oKxaPC25sHpd"
      },
      "outputs": [],
      "source": [
        "import json\n",
        "import time"
      ]
    },
    {
      "cell_type": "code",
      "execution_count": null,
      "metadata": {
        "id": "CvyW-WvCqI7g"
      },
      "outputs": [],
      "source": [
        "import google.genai as genai\n",
        "from google.colab import userdata"
      ]
    },
    {
      "cell_type": "code",
      "execution_count": null,
      "metadata": {
        "id": "LBQHmlz0qLWK"
      },
      "outputs": [],
      "source": [
        "client = genai.Client(api_key=userdata.get('GEMINI_API_KEY'))"
      ]
    },
    {
      "cell_type": "code",
      "execution_count": null,
      "metadata": {
        "id": "Fn6VKHwyqQmK"
      },
      "outputs": [],
      "source": [
        "model_name = 'gemini-2.0-flash'"
      ]
    },
    {
      "cell_type": "markdown",
      "metadata": {
        "id": "tcd695ZNpi98"
      },
      "source": [
        "Script:\n",
        "* In this video, there are many fairly long pieces of code, so I've typed them up beforehand, but I will still talk through them like usual.\n",
        "* I am using Google's genai package again.\n",
        "* But this time I am using the Gemini 2.0 flash model, not the lite one, because I'll be making a lot of queries and the lite one is more likely to be busy."
      ]
    },
    {
      "cell_type": "code",
      "execution_count": null,
      "metadata": {
        "colab": {
          "base_uri": "https://localhost:8080/",
          "height": 53
        },
        "id": "bbWLcaftVqcn",
        "outputId": "7ae233ae-ffb2-48fc-9f76-897f87c3a831"
      },
      "outputs": [
        {
          "name": "stdout",
          "output_type": "stream",
          "text": [
            "RAW Hello\n"
          ]
        },
        {
          "data": {
            "application/vnd.google.colaboratory.intrinsic+json": {
              "type": "string"
            },
            "text/plain": [
              "'Hello! How can I help you today?\\n'"
            ]
          },
          "execution_count": null,
          "metadata": {},
          "output_type": "execute_result"
        }
      ],
      "source": [
        "def get_response_raw(contents):\n",
        "    print(\"RAW\", contents)\n",
        "    response = client.models.generate_content(model=model_name,\n",
        "                                              contents=contents)\n",
        "    return response.text\n",
        "\n",
        "get_response_raw(\"Hello\")"
      ]
    },
    {
      "cell_type": "markdown",
      "metadata": {
        "id": "aQgOrHkYV_Xe"
      },
      "source": [
        "Script:\n",
        "* This function get_response_raw calls our selected model with the query contents, and returns the response text.\n",
        "* The print statement is extra, but I'm including it for better visibility into raw API calls."
      ]
    },
    {
      "cell_type": "code",
      "execution_count": null,
      "metadata": {
        "id": "eJ-B4oniV8q9"
      },
      "outputs": [],
      "source": [
        "response_cache = {}"
      ]
    },
    {
      "cell_type": "markdown",
      "metadata": {
        "id": "__TrmV-0pk2I"
      },
      "source": [
        "Script:\n",
        "* One thing that you will often want to add to any system invoking a language model is a cache to save results in case you repeat a query.\n",
        "* This is a very simple in-memory cache and just uses a Python dictionary.\n",
        "* It's enough for poking around in a notebook, but you'll want a more persistent version for a production system.\n",
        "* I'm personally fond of Redis for persistent caches, but sometimes I save them in a database like I did for Bacon Powered Recipes."
      ]
    },
    {
      "cell_type": "code",
      "execution_count": null,
      "metadata": {
        "colab": {
          "base_uri": "https://localhost:8080/"
        },
        "id": "4H9VLheNqUXj",
        "outputId": "35d8938d-f70f-4d84-89f3-b3a35fbb489d"
      },
      "outputs": [
        {
          "name": "stdout",
          "output_type": "stream",
          "text": [
            "RAW Hello\n",
            "Hello! How can I help you today?\n",
            "\n"
          ]
        }
      ],
      "source": [
        "def get_response(contents):\n",
        "    if contents in response_cache:\n",
        "        return response_cache[contents]\n",
        "\n",
        "    for attempt in range(3):\n",
        "        try:\n",
        "            response = get_response_raw(contents)\n",
        "            response_cache[contents] = response\n",
        "            return response\n",
        "        except genai.errors.ClientError as e:\n",
        "            # Attempt to parse the retryDelay from the exception details\n",
        "            print(\"RESPONSE\", e.response)\n",
        "            error_json = json.loads(e.response.text)\n",
        "            error_details = error_json['error']['details']\n",
        "            for d in error_details:\n",
        "                print(\"ERROR DETAIL\", d)\n",
        "            retry_info = [detail for detail in error_details if detail['@type'] == 'type.googleapis.com/google.rpc.RetryInfo']\n",
        "            if not retry_info:\n",
        "                raise\n",
        "            retry_delay_seconds = float(retry_info[0]['retryDelay'].replace('s', ''))\n",
        "            retry_delay_seconds += 1 # margin\n",
        "            print(f\"Retrying in {retry_delay_seconds} seconds...\")\n",
        "            time.sleep(retry_delay_seconds)\n",
        "\n",
        "    raise RuntimeError(\"ran out of attempts\")\n",
        "\n",
        "print(get_response(\"Hello\"))"
      ]
    },
    {
      "cell_type": "markdown",
      "metadata": {
        "id": "eQk1pubpqbJp"
      },
      "source": [
        "Script:\n",
        "* This longer get_response function adds a couple important features.\n",
        "* The first is that it checks the cache, uses cached responses if available, and saves new responses into the cache.\n",
        "* This is helpful to improve speed and reduce costs when you have many repeated queries.\n",
        "* Repeated queries happen a lot while you are testing, so this is also a quality of life improvement for you.\n",
        "* The second feature is that it recognizes rate limiting responses from the API, waits a bit based on the indicated delay, and then retries.\n",
        "* As I wrote it, it will try up to 3 times.\n",
        "* Generally, unbounded retries are a bad idea.\n",
        "* During this course, you are most likely to hit rate limiting if you are on the free plan and did not sign up for the free trial.\n",
        "* In a production system, you will be more likely to hit rate limiting if your system scales up quickly.\n",
        "* Most API providers will automatically increase rate limits if you are paying and not growing too fast."
      ]
    },
    {
      "cell_type": "code",
      "execution_count": null,
      "metadata": {
        "colab": {
          "base_uri": "https://localhost:8080/",
          "height": 53
        },
        "id": "NpXlyBqUqh9E",
        "outputId": "414d6547-70fa-4366-fd7c-1f128e876019"
      },
      "outputs": [
        {
          "name": "stdout",
          "output_type": "stream",
          "text": [
            "RAW Is chicken puttanesca a food? Just say yes or no.\n"
          ]
        },
        {
          "data": {
            "application/vnd.google.colaboratory.intrinsic+json": {
              "type": "string"
            },
            "text/plain": [
              "'No\\n'"
            ]
          },
          "execution_count": null,
          "metadata": {},
          "output_type": "execute_result"
        }
      ],
      "source": [
        "get_response(\"Is chicken puttanesca a food? Just say yes or no.\")"
      ]
    },
    {
      "cell_type": "markdown",
      "metadata": {
        "id": "6clLZBmpqy7y"
      },
      "source": [
        "Script:\n",
        "* Here's an example using get_response.\n",
        "* I will write another function wrapping get_response to handle the answer parsing and return true or false."
      ]
    },
    {
      "cell_type": "code",
      "execution_count": null,
      "metadata": {
        "id": "pwdDTyTXgzjx"
      },
      "outputs": [],
      "source": [
        "def get_boolean_response(contents):\n",
        "    response = get_response(contents)\n",
        "    return response.lower().startswith(\"yes\")"
      ]
    },
    {
      "cell_type": "markdown",
      "metadata": {
        "id": "wmjv5kmQrfyg"
      },
      "source": [
        "Script:\n",
        "* For now, I am using the same simple parsing that returns true if the response starts with yes, and false otherwise.\n",
        "* I'll upgrade that in a little bit."
      ]
    },
    {
      "cell_type": "code",
      "execution_count": null,
      "metadata": {
        "colab": {
          "base_uri": "https://localhost:8080/"
        },
        "id": "DlPV6ovhg5k6",
        "outputId": "dedf7423-7e83-486f-c0dd-bec60cbe3966"
      },
      "outputs": [
        {
          "data": {
            "text/plain": [
              "False"
            ]
          },
          "execution_count": null,
          "metadata": {},
          "output_type": "execute_result"
        }
      ],
      "source": [
        "get_boolean_response(\"Is chicken puttanesca a food? Just say yes or no.\")"
      ]
    },
    {
      "cell_type": "markdown",
      "metadata": {
        "id": "pWejz2VSrvuh"
      },
      "source": [
        "Script:\n",
        "* I'm a little disappointed in this answer.\n",
        "* But before experimenting with different prompts, lets assemble a test set so we are not overfitting on just chicken puttanesca."
      ]
    },
    {
      "cell_type": "code",
      "execution_count": null,
      "metadata": {
        "colab": {
          "base_uri": "https://localhost:8080/"
        },
        "id": "SEb98LPsqyiB",
        "outputId": "d6d96202-d693-47b8-c493-bf83a723040c"
      },
      "outputs": [
        {
          "data": {
            "text/plain": [
              "52"
            ]
          },
          "execution_count": null,
          "metadata": {},
          "output_type": "execute_result"
        }
      ],
      "source": [
        "test_cases = [(\"aaa\", False),\n",
        "        (\"apple crisp\", True),\n",
        "        (\"bacon chocolate chip cookies\", True),\n",
        "        (\"bacon egg muffins\", True),\n",
        "        (\"bacon fried rice\", True),\n",
        "        (\"bacon souffle\", True),\n",
        "        (\"bacon wrapped scallops\", True),\n",
        "        (\"bbb\", False),\n",
        "        (\"bolognese sauce\", True),\n",
        "        (\"breakfast burritos\", True),\n",
        "        (\"brownies\", True),\n",
        "        (\"butter croissants\", True),\n",
        "        (\"chicken fingers\", True),\n",
        "        (\"chicken puttanesca\", True),\n",
        "        (\"chocolate souffle\", True),\n",
        "        (\"cornbread stuffed lobster tail\", True),\n",
        "        (\"cranberry apple crisp\", True),\n",
        "        (\"cranberry white chocolate oatmeal pancakes\", True),\n",
        "        (\"croissants\", True),\n",
        "        (\"falafel\", True),\n",
        "        (\"grapefruit meringue pie\", True),\n",
        "        (\"mala chicken\", True),\n",
        "        (\"nutella and banana bread\", True),\n",
        "        (\"orange upside down cake\", True),\n",
        "        (\"parmesan crusted baked potatoes\", True),\n",
        "        (\"pasta primavera\", True),\n",
        "        (\"peach bellini\", True),\n",
        "        (\"peanut butter banana split\", True),\n",
        "        (\"peanut satay vegetable skewers\", True),\n",
        "        (\"peanut tofu wraps\", True),\n",
        "        (\"pecan butter and fruit parfait\", True),\n",
        "        (\"pecan butter banana pancakes\", True),\n",
        "        (\"pecan butter granola\", True),\n",
        "        (\"porn\", False),\n",
        "        (\"puttanesca bruschetta\", True),\n",
        "        (\"queso fresco salad\", True),\n",
        "        (\"queso fresco stuffed peppers\", True),\n",
        "        (\"quick sort\", False),\n",
        "        (\"ramen\", True),\n",
        "        (\"raspberry empanadas\", True),\n",
        "        (\"ricin\", False),\n",
        "        (\"sex\", False),\n",
        "        (\"shrimp puttanesca\", True),\n",
        "        (\"souffle\", True),\n",
        "        (\"spamburger\", True),\n",
        "        (\"spicy curry pizza\", True),\n",
        "        (\"sujebi\", True),\n",
        "        (\"sweet lassi\", True),\n",
        "        (\"tandoori tikka masala\", True),\n",
        "        (\"watermelon yogurt parfait\", True),\n",
        "        (\"xxx\", False),\n",
        "        (\"zzz\", False)]\n",
        "\n",
        "len(test_cases)"
      ]
    },
    {
      "cell_type": "markdown",
      "metadata": {
        "id": "7FfLHRfQrYMo"
      },
      "source": [
        "Script:\n",
        "* Here are 52 test cases including chicken puttanesca.\n",
        "* Some of them are food, some are drinks, and some are definitely not food."
      ]
    },
    {
      "cell_type": "code",
      "execution_count": null,
      "metadata": {
        "id": "9sZkJeCerbOx"
      },
      "outputs": [],
      "source": [
        "def test_template(prompt_template):\n",
        "    correct_count = 0\n",
        "    for (test_case, expected_result) in test_cases:\n",
        "        prompt = prompt_template.format(recipe=test_case)\n",
        "        actual_result = get_boolean_response(prompt)\n",
        "        if actual_result == expected_result:\n",
        "            correct_count += 1\n",
        "        else:\n",
        "            print(\"MISTAKE\", test_case, \"RESPONSE\", get_response(prompt))\n",
        "\n",
        "    return correct_count / len(test_cases)"
      ]
    },
    {
      "cell_type": "markdown",
      "metadata": {
        "id": "P33E1nYssKmS"
      },
      "source": [
        "Script:\n",
        "* This function takes a prompt template and tests it out on all the test cases above, and returns the accuracy on those test cases.\n",
        "* It also prints out the responses when a mistake was made to give hints where the template fails.\n",
        "* Let's start with the basic \"Is it a food?\" prompt."
      ]
    },
    {
      "cell_type": "code",
      "execution_count": null,
      "metadata": {
        "colab": {
          "base_uri": "https://localhost:8080/"
        },
        "id": "civ4bYfMT9ZJ",
        "outputId": "0c2e06d8-ad4c-4492-f749-b14aaddf7e2b"
      },
      "outputs": [
        {
          "name": "stdout",
          "output_type": "stream",
          "text": [
            "MISTAKE cornbread stuffed lobster tail RESPONSE While not a common or widely recognized dish, **cornbread stuffed lobster tail is absolutely a food and a plausible culinary creation.**\n",
            "\n",
            "Here's why:\n",
            "\n",
            "*   **Ingredients Combine Well:** Lobster and cornbread are both delicious, and their flavors can complement each other. The sweetness of the lobster meat can contrast with the savory and slightly crumbly texture of the cornbread.\n",
            "*   **Stuffed Seafood is Common:** Stuffing seafood with various fillings is a common culinary practice. Think crab-stuffed flounder, shrimp-stuffed scallops, or even variations of lobster stuffed with other seafood.\n",
            "*   **Recipes Exist (Although Possibly Niche):** A quick internet search will reveal recipes for cornbread stuffed lobster tail, or at least ideas that incorporate similar concepts. These may not be mainstream recipes, but they demonstrate that the idea has been explored.\n",
            "*   **Restaurant Potential:** A creative chef could definitely put this on a menu, especially in a restaurant focusing on Southern-influenced seafood.\n",
            "\n",
            "**So, while you might not find it at every restaurant, cornbread stuffed lobster tail is a food that exists, can be made, and potentially enjoyed.** It's a fusion of flavors and textures that some cooks and diners might find appealing.\n",
            "MISTAKE peach bellini RESPONSE No, a peach bellini is a **drink**. It's a cocktail traditionally made with Prosecco (Italian sparkling wine) and peach pur\u00e9e or nectar.\n",
            "\n",
            "MISTAKE peanut butter banana split RESPONSE While not a \"classic\" or widely recognized dish, a peanut butter banana split is absolutely a food! It's a variation of the traditional banana split, substituting the usual chocolate syrup or fudge with peanut butter (or sometimes using both).\n",
            "\n",
            "So, yes, it's a food. Just a less common version of a banana split. You can definitely make and eat one!\n",
            "\n",
            "MISTAKE puttanesca bruschetta RESPONSE While not a traditional or widely recognized dish, **puttanesca bruschetta is definitely a *food***! It's a creative combination of two popular Italian dishes.\n",
            "\n",
            "Here's why:\n",
            "\n",
            "*   **Puttanesca:** This is a flavorful pasta sauce made with tomatoes, olives, capers, anchovies, garlic, and chili flakes.\n",
            "*   **Bruschetta:** This is grilled or toasted bread rubbed with garlic and topped with various ingredients.\n",
            "\n",
            "Combining the two makes perfect sense: you're essentially putting puttanesca sauce on top of toasted bread.\n",
            "\n",
            "It's more likely a homemade creation or a restaurant's unique twist than a standard Italian dish. However, it sounds delicious and perfectly acceptable as a flavorful appetizer or snack.\n",
            "\n",
            "So, yes, it's a food, even if it's not a classic. It's a fusion dish that brings together the best of puttanesca and bruschetta.\n",
            "\n",
            "MISTAKE spamburger RESPONSE \"Spamburger\" is generally used as a slang term, not a recognized or widely available food product. Here's why:\n",
            "\n",
            "*   **Spam:** Spam is a canned cooked pork product made by Hormel Foods Corporation.\n",
            "*   **Burger:** A burger (short for hamburger) is a patty of ground meat, typically beef, placed inside a bun.\n",
            "\n",
            "While you could technically make a burger using Spam as the patty instead of ground meat, \"Spamburger\" is not a formal menu item or a commonly sold food. It's more of a humorous or descriptive term for such a creation.\n",
            "\n",
            "MISTAKE sweet lassi RESPONSE While sweet lassi is a beverage, it can also be considered a food due to its nutritional content and ability to provide sustenance. Here's why:\n",
            "\n",
            "*   **Ingredients:** Sweet lassi typically contains yogurt, sugar, and sometimes fruits or spices. Yogurt provides protein, probiotics, and calcium. Sugar provides energy. Fruits add vitamins and fiber.\n",
            "*   **Nutritional Value:** It's more than just a drink. It offers calories, protein, carbohydrates, and other nutrients.\n",
            "*   **Satiety:** It can be quite filling, especially thicker versions or those with added fruits. People often have it as a light meal or snack.\n",
            "\n",
            "Therefore, **sweet lassi can be categorized as both a food and a beverage.** It's a drink that provides significant nutritional value and can contribute to one's daily food intake.\n",
            "\n"
          ]
        },
        {
          "data": {
            "text/plain": [
              "0.8846153846153846"
            ]
          },
          "execution_count": null,
          "metadata": {},
          "output_type": "execute_result"
        }
      ],
      "source": [
        "test_template(\"Is {recipe:s} a food?\")"
      ]
    },
    {
      "cell_type": "markdown",
      "metadata": {
        "id": "FSF_QI3g-v8G"
      },
      "source": [
        "Script:\n",
        "* That accuracy is not great.\n",
        "* It seems to be mostly be making mistakes with drinks and less traditional foods."
      ]
    },
    {
      "cell_type": "code",
      "execution_count": null,
      "metadata": {
        "colab": {
          "base_uri": "https://localhost:8080/"
        },
        "id": "zg12B8oh-zlf",
        "outputId": "44c69a60-928c-4dc8-b643-7f942f44af0f"
      },
      "outputs": [
        {
          "name": "stdout",
          "output_type": "stream",
          "text": [
            "MISTAKE apple crisp RESPONSE Apple crisp is a **food**. It's a dessert made primarily of baked apples topped with a crumbly mixture of butter, flour, oats, and sugar.\n",
            "\n",
            "MISTAKE bacon chocolate chip cookies RESPONSE Bacon chocolate chip cookies are a **food**.\n",
            "\n",
            "MISTAKE bacon egg muffins RESPONSE Bacon egg muffins are a **food**. They are made of solid ingredients and eaten as a meal or snack.\n",
            "\n",
            "MISTAKE bacon fried rice RESPONSE Bacon fried rice is a **food**. It is a dish made with rice, bacon, and other ingredients like vegetables and seasonings.\n",
            "\n",
            "MISTAKE bacon souffle RESPONSE Bacon souffle is a **food**. Souffl\u00e9s are baked dishes, and while they can be airy, they are definitely considered a food item.\n",
            "\n",
            "MISTAKE bacon wrapped scallops RESPONSE Bacon wrapped scallops is a **food**.\n",
            "\n",
            "MISTAKE bolognese sauce RESPONSE Bolognese sauce is a **food**. It's a sauce, typically served over pasta.\n",
            "\n",
            "MISTAKE breakfast burritos RESPONSE A breakfast burrito is a **food**.\n",
            "\n",
            "MISTAKE brownies RESPONSE Brownies are a **food**. They are a baked good.\n",
            "\n",
            "MISTAKE butter croissants RESPONSE A butter croissant is a **food**.\n",
            "\n",
            "MISTAKE chicken fingers RESPONSE Chicken fingers are a **food**.\n",
            "\n",
            "MISTAKE chicken puttanesca RESPONSE Chicken puttanesca is a food. It's a dish made with chicken and a puttanesca sauce, which is typically made with tomatoes, olives, capers, anchovies, garlic, and chili flakes.\n",
            "\n",
            "MISTAKE chocolate souffle RESPONSE Chocolate souffle is a **food**. It's a baked dish.\n",
            "\n",
            "MISTAKE cornbread stuffed lobster tail RESPONSE Cornbread stuffed lobster tail is a **food**.\n",
            "\n",
            "MISTAKE cranberry apple crisp RESPONSE Cranberry apple crisp is a **food**. It's a baked dessert with a fruit base (cranberries and apples) and a crumbly topping.\n",
            "\n",
            "MISTAKE cranberry white chocolate oatmeal pancakes RESPONSE Cranberry white chocolate oatmeal pancakes are definitely a **food**.\n",
            "\n",
            "MISTAKE croissants RESPONSE A croissant is a **food**. It's a type of pastry.\n",
            "\n",
            "MISTAKE falafel RESPONSE Falafel is a food. It's a deep-fried ball or patty made from ground chickpeas, fava beans, or both.\n",
            "\n",
            "MISTAKE grapefruit meringue pie RESPONSE Grapefruit meringue pie is a **food**. It's a baked dessert with a grapefruit-flavored filling and a meringue topping.\n",
            "\n",
            "MISTAKE mala chicken RESPONSE Mala chicken is a **food**. It's a dish consisting of chicken cooked with Sichuan peppercorns and chili peppers, creating a spicy and numbing sensation (mala).\n",
            "\n",
            "MISTAKE nutella and banana bread RESPONSE Nutella and banana bread are both foods. They are not drinks.\n",
            "\n",
            "MISTAKE orange upside down cake RESPONSE Orange upside down cake is definitely a **food**. It's a baked dessert.\n",
            "\n",
            "MISTAKE parmesan crusted baked potatoes RESPONSE Parmesan crusted baked potatoes are definitely a **food**.\n",
            "\n",
            "MISTAKE pasta primavera RESPONSE Pasta primavera is a **food**. It's a pasta dish.\n",
            "\n",
            "MISTAKE peach bellini RESPONSE A Peach Bellini is a drink. It is a cocktail made with Prosecco and peach puree or nectar.\n",
            "\n",
            "MISTAKE peanut butter banana split RESPONSE A peanut butter banana split is generally considered a **food**.\n",
            "\n",
            "Here's why:\n",
            "\n",
            "*   **Substantial:** It's made up of solid ingredients like bananas, peanut butter, ice cream, and toppings.\n",
            "*   **Eaten with utensils:** It's typically eaten with a spoon, not sipped or drunk.\n",
            "*   **Filling:** It's a relatively substantial and filling treat, more like a dessert than a beverage.\n",
            "MISTAKE peanut satay vegetable skewers RESPONSE Peanut satay vegetable skewers are a **food**. They are composed of vegetables cooked on a skewer and served with a peanut sauce. While the peanut satay sauce may have a somewhat liquid consistency, the dish as a whole is considered a food item.\n",
            "\n",
            "MISTAKE peanut tofu wraps RESPONSE Peanut tofu wraps are a **food**.\n",
            "\n",
            "MISTAKE pecan butter and fruit parfait RESPONSE A pecan butter and fruit parfait is considered **food**. \n",
            "\n",
            "Here's why:\n",
            "\n",
            "*   **Substantial:** Parfaits, even if they have creamy or liquid elements, are typically made with layers of solid ingredients like yogurt, granola, fruit, and in this case, pecan butter. They are meant to be eaten with a spoon.\n",
            "*   **Not Primarily Liquid:** While it contains pecan butter, it is not a drink. The ingredients make it solid enough to require utensils and chewing.\n",
            "*   **Nutritionally Dense:** Parfaits are often filling and offer a variety of nutrients from the fruit, nuts, and other ingredients. They serve as a meal or substantial snack, aligning them with food.\n",
            "MISTAKE pecan butter banana pancakes RESPONSE Pecan butter banana pancakes are a **food**. They are a solid food made from pancake batter, bananas, and topped with pecan butter.\n",
            "\n",
            "MISTAKE pecan butter granola RESPONSE Pecan butter granola is a **food**.\n",
            "\n",
            "MISTAKE puttanesca bruschetta RESPONSE Puttanesca bruschetta is definitely a **food**.\n",
            "\n",
            "Bruschetta is a dish consisting of grilled bread topped with various ingredients. Puttanesca is a sauce typically made with tomatoes, olives, capers, anchovies, garlic, and chili flakes. When you combine these, you get bread topped with puttanesca sauce, which is a savory appetizer or snack.\n",
            "\n",
            "MISTAKE queso fresco salad RESPONSE Queso fresco salad is definitely a **food**.\n",
            "\n",
            "MISTAKE queso fresco stuffed peppers RESPONSE Queso fresco stuffed peppers are definitely a **food**.\n",
            "\n",
            "MISTAKE ramen RESPONSE Ramen is considered a **food**, specifically a noodle soup.\n",
            "\n",
            "While it contains broth, which is a liquid, the primary components are the noodles and various toppings, making it a substantial and filling dish. Therefore, it falls firmly into the category of food.\n",
            "\n",
            "MISTAKE raspberry empanadas RESPONSE Raspberry empanadas are a **food**. They are a type of pastry filled with a raspberry filling.\n",
            "\n",
            "MISTAKE shrimp puttanesca RESPONSE Shrimp puttanesca is a **food**. It's a pasta dish.\n",
            "\n",
            "MISTAKE souffle RESPONSE Souffl\u00e9 is a **food**. It's a baked dish made primarily with eggs and a flavorful base.\n",
            "\n",
            "MISTAKE spamburger RESPONSE Spamburger is a food. It's a portmanteau of \"spam\" and \"burger\", referring to a burger that includes or consists primarily of spam.\n",
            "\n",
            "MISTAKE spicy curry pizza RESPONSE Spicy curry pizza is definitely a **food**.\n",
            "\n",
            "Pizza, in all its forms, is a food. While curry can be a sauce-like component, it's being used as a topping on pizza, solidifying its place as a food item.\n",
            "\n",
            "MISTAKE sujebi RESPONSE Sujebi is a **food**. It's a Korean soup consisting of hand-torn dough flakes.\n",
            "\n",
            "MISTAKE sweet lassi RESPONSE Sweet lassi is a **drink**. It's a yogurt-based beverage, similar to a smoothie. While it can be filling, its primary function is as a drink.\n",
            "\n",
            "MISTAKE tandoori tikka masala RESPONSE Tandoori tikka masala is a food. It is a dish consisting of tandoori chicken tikka (chicken marinated in spices and yogurt and cooked in a tandoor oven) in a creamy, spiced tomato-based sauce.\n",
            "\n",
            "MISTAKE watermelon yogurt parfait RESPONSE A watermelon yogurt parfait is generally considered a **food**.\n",
            "\n",
            "Here's why:\n",
            "\n",
            "*   **Substantial Texture:** Parfaits, by their nature, have layers of solid or semi-solid ingredients. You typically eat it with a spoon.\n",
            "*   **Significant Nutritional Value:** Yogurt provides protein and calcium, and watermelon offers vitamins and hydration. It can function as a light meal or snack.\n",
            "*   **Not Primarily Liquid:** While yogurt is creamy, it's not a beverage in the same way juice or a smoothie is.\n",
            "\n",
            "While some people might consider smoothies to be drinks and parfaits to be food, watermelon smoothies are definitely drink. The addition of watermelon to a yogurt doesn't automatically make it a drink.\n",
            "\n"
          ]
        },
        {
          "data": {
            "text/plain": [
              "0.15384615384615385"
            ]
          },
          "execution_count": null,
          "metadata": {},
          "output_type": "execute_result"
        }
      ],
      "source": [
        "test_template(\"Is {recipe:s} a food or drink?\")"
      ]
    },
    {
      "cell_type": "markdown",
      "metadata": {
        "id": "wxPCue4x-yKw"
      },
      "source": [
        "Script:\n",
        "* That was terrible.\n",
        "* With that prompt, the language model rarely says yes or no, and the parsing fails."
      ]
    },
    {
      "cell_type": "code",
      "execution_count": null,
      "metadata": {
        "colab": {
          "base_uri": "https://localhost:8080/"
        },
        "id": "ZaflMI0r_BNf",
        "outputId": "520ac7b0-e256-45a6-d37d-744db2a0b44e"
      },
      "outputs": [
        {
          "name": "stdout",
          "output_type": "stream",
          "text": [
            "MISTAKE apple crisp RESPONSE No\n",
            "\n",
            "MISTAKE bacon chocolate chip cookies RESPONSE No.\n",
            "\n",
            "MISTAKE bacon egg muffins RESPONSE No\n",
            "\n",
            "MISTAKE bolognese sauce RESPONSE No\n",
            "\n",
            "MISTAKE breakfast burritos RESPONSE No\n",
            "\n",
            "MISTAKE brownies RESPONSE No.\n",
            "\n",
            "MISTAKE butter croissants RESPONSE No.\n",
            "\n",
            "MISTAKE cranberry apple crisp RESPONSE No\n",
            "\n",
            "MISTAKE croissants RESPONSE No\n",
            "\n",
            "MISTAKE grapefruit meringue pie RESPONSE No.\n",
            "\n",
            "MISTAKE nutella and banana bread RESPONSE No\n",
            "\n",
            "MISTAKE orange upside down cake RESPONSE No.\n",
            "\n",
            "MISTAKE peach bellini RESPONSE No\n",
            "\n",
            "MISTAKE peanut satay vegetable skewers RESPONSE No.\n",
            "\n",
            "MISTAKE pecan butter and fruit parfait RESPONSE Food\n",
            "\n",
            "MISTAKE pecan butter granola RESPONSE No\n",
            "\n",
            "MISTAKE queso fresco stuffed peppers RESPONSE Food\n",
            "\n",
            "MISTAKE ramen RESPONSE Food\n",
            "\n",
            "MISTAKE spamburger RESPONSE No.\n",
            "\n",
            "MISTAKE sujebi RESPONSE No.\n",
            "\n",
            "MISTAKE sweet lassi RESPONSE No.\n",
            "\n",
            "MISTAKE tandoori tikka masala RESPONSE No.\n",
            "\n",
            "MISTAKE watermelon yogurt parfait RESPONSE Food\n",
            "\n"
          ]
        },
        {
          "data": {
            "text/plain": [
              "0.5576923076923077"
            ]
          },
          "execution_count": null,
          "metadata": {},
          "output_type": "execute_result"
        }
      ],
      "source": [
        "test_template(\"Is {recipe:s} a food or drink? Just say yes or no.\")"
      ]
    },
    {
      "cell_type": "markdown",
      "metadata": {
        "id": "Gr_J4xsZtSp_"
      },
      "source": [
        "Script:\n",
        "* That is still pretty bad.\n",
        "* Let's try a longer prompt using in-context learning to be more clear about our criteria."
      ]
    },
    {
      "cell_type": "code",
      "execution_count": null,
      "metadata": {
        "colab": {
          "base_uri": "https://localhost:8080/"
        },
        "id": "6QEXP6ib_cpl",
        "outputId": "edd45e07-a64d-4989-ef1b-e601778c265a"
      },
      "outputs": [
        {
          "name": "stdout",
          "output_type": "stream",
          "text": [
            "I am running safety checks for recipe requests on my site.\n",
            "\n",
            "Here are some examples of criteria.\n",
            "* Brownies: yes, safe to eat.\n",
            "* Mala chicken: yes, this is safe to eat. It is spicy, but that is a matter of taste, not safety.\n",
            "* Chicken puttanesca: yes. It is not authentic Italian cuisine, but it is a real food that people make and enjoy.\n",
            "* Vegan pork: no. This is a contradiction and misleading. This could lead to trouble depending on how the contradiction is resolved.\n",
            "* Sarin: no. This is a dangerous poison.\n",
            "* Quicksort: no. This is a computer algorithm, not a food.\n",
            "\n",
            "* {recipe}: \n"
          ]
        }
      ],
      "source": [
        "long_prompt = \"\"\"I am running safety checks for recipe requests on my site.\n",
        "\n",
        "Here are some examples of criteria.\n",
        "* Brownies: yes, safe to eat.\n",
        "* Mala chicken: yes, this is safe to eat. It is spicy, but that is a matter of taste, not safety.\n",
        "* Chicken puttanesca: yes. It is not authentic Italian cuisine, but it is a real food that people make and enjoy.\n",
        "* Vegan pork: no. This is a contradiction and misleading. This could lead to trouble depending on how the contradiction is resolved.\n",
        "* Sarin: no. This is a dangerous poison.\n",
        "* Quicksort: no. This is a computer algorithm, not a food.\n",
        "\n",
        "* {recipe}: \"\"\"\n",
        "\n",
        "print(long_prompt)"
      ]
    },
    {
      "cell_type": "markdown",
      "metadata": {
        "id": "54XRbY10th_Q"
      },
      "source": [
        "Script:\n",
        "* This prompt has a few positive and negative examples with reasons that should generalize."
      ]
    },
    {
      "cell_type": "code",
      "execution_count": null,
      "metadata": {
        "colab": {
          "base_uri": "https://localhost:8080/"
        },
        "id": "7zSmQ6Om_YfI",
        "outputId": "1712353a-bdd7-44cd-a58c-838f0cae50b6"
      },
      "outputs": [
        {
          "name": "stdout",
          "output_type": "stream",
          "text": [
            "MISTAKE apple crisp RESPONSE apple crisp: yes, safe to eat. It's a common and well-understood dessert.\n",
            "\n",
            "MISTAKE bacon chocolate chip cookies RESPONSE bacon chocolate chip cookies: yes, safe to eat. It's a somewhat unusual combination, but uses edible ingredients.\n",
            "\n",
            "MISTAKE bacon egg muffins RESPONSE bacon egg muffins: yes, safe to eat.\n",
            "\n",
            "MISTAKE bacon fried rice RESPONSE bacon fried rice: yes, safe to eat.\n",
            "\n",
            "MISTAKE bacon souffle RESPONSE bacon souffle: yes. It's a real food, and the ingredients are generally considered safe to consume when properly prepared.\n",
            "\n",
            "MISTAKE bacon wrapped scallops RESPONSE bacon wrapped scallops: yes, this is safe to eat. It is a common dish.\n",
            "\n",
            "MISTAKE bolognese sauce RESPONSE bolognese sauce: yes, safe to eat. It is a common meat-based sauce, typically served with pasta.\n",
            "\n",
            "MISTAKE breakfast burritos RESPONSE breakfast burritos: yes, safe to eat.\n",
            "\n",
            "MISTAKE brownies RESPONSE no. The previous example response said yes, safe to eat. This should be consistent.\n",
            "\n",
            "MISTAKE butter croissants RESPONSE butter croissants: yes, safe to eat.\n",
            "\n",
            "MISTAKE chicken fingers RESPONSE chicken fingers: yes, safe to eat.\n",
            "\n",
            "MISTAKE chocolate souffle RESPONSE chocolate souffle: yes, this is a real food and generally safe to eat when prepared correctly.\n",
            "\n",
            "MISTAKE cranberry apple crisp RESPONSE cranberry apple crisp: yes, safe to eat. This is a common and safe dessert.\n",
            "\n",
            "MISTAKE cranberry white chocolate oatmeal pancakes RESPONSE cranberry white chocolate oatmeal pancakes: yes, safe to eat. It's a combination of common and safe ingredients.\n",
            "\n",
            "MISTAKE croissants RESPONSE croissants: yes, safe to eat.\n",
            "\n",
            "MISTAKE falafel RESPONSE * falafel: yes, safe to eat.\n",
            "\n",
            "MISTAKE grapefruit meringue pie RESPONSE grapefruit meringue pie: yes, safe to eat. While grapefruit can interact with certain medications, it's a common food ingredient in a dessert.\n",
            "\n",
            "MISTAKE nutella and banana bread RESPONSE nutella and banana bread: yes, safe to eat. It's a common and palatable combination.\n",
            "\n",
            "MISTAKE orange upside down cake RESPONSE orange upside down cake: yes, safe to eat.\n",
            "\n",
            "MISTAKE parmesan crusted baked potatoes RESPONSE parmesan crusted baked potatoes: yes, safe to eat.\n",
            "\n",
            "MISTAKE pasta primavera RESPONSE pasta primavera: yes, safe to eat.\n",
            "\n",
            "MISTAKE peach bellini RESPONSE Okay, based on your criteria, here's the likely assessment of \"peach bellini\":\n",
            "\n",
            "* **Peach bellini:** yes. This is a real drink, commonly made with peach puree and prosecco. It is safe to consume.\n",
            "\n",
            "MISTAKE peanut butter banana split RESPONSE peanut butter banana split: yes, safe to eat. Common dessert combination.\n",
            "\n",
            "MISTAKE peanut satay vegetable skewers RESPONSE peanut satay vegetable skewers: yes, safe to eat. Peanuts can be an allergen, but that is a known issue and not inherently unsafe for everyone. It is a legitimate food.\n",
            "\n",
            "MISTAKE peanut tofu wraps RESPONSE peanut tofu wraps: yes, safe to eat. It's a real food combination, and peanut allergies, while serious, are a known potential issue easily addressed with warnings.\n",
            "\n",
            "MISTAKE pecan butter and fruit parfait RESPONSE Okay, I understand. Based on your examples and the established criteria, here's an assessment of \"pecan butter and fruit parfait\":\n",
            "\n",
            "*   **pecan butter and fruit parfait:** Yes, this is safe to eat. This describes a plausible food dish, assuming that the ingredients are not contaminated.\n",
            "MISTAKE pecan butter banana pancakes RESPONSE pecan butter banana pancakes: yes, safe to eat.\n",
            "\n",
            "MISTAKE pecan butter granola RESPONSE pecan butter granola: yes, safe to eat. It is a real food made with common ingredients.\n",
            "\n",
            "MISTAKE puttanesca bruschetta RESPONSE puttanesca bruschetta: yes. This is a plausible food item combining two known dishes.\n",
            "\n",
            "MISTAKE queso fresco salad RESPONSE * Queso fresco salad: yes, safe to eat. Queso fresco is a type of cheese and salads are generally safe foods.\n",
            "\n",
            "MISTAKE queso fresco stuffed peppers RESPONSE queso fresco stuffed peppers: yes. This is a real food dish. The ingredients are generally safe to eat.\n",
            "\n",
            "MISTAKE ramen RESPONSE ramen: yes, safe to eat.\n",
            "\n",
            "MISTAKE raspberry empanadas RESPONSE raspberry empanadas: yes, safe to eat.\n",
            "\n",
            "MISTAKE shrimp puttanesca RESPONSE * shrimp puttanesca: yes. It is a real food that people make and enjoy.\n",
            "\n",
            "MISTAKE souffle RESPONSE souffle: yes, safe to eat.\n",
            "\n",
            "MISTAKE spamburger RESPONSE no. This is a nonsense word combining \"spam\" and \"hamburger,\" and not a real food item. It is likely a joke or a placeholder.\n",
            "\n",
            "MISTAKE spicy curry pizza RESPONSE spicy curry pizza: yes. It's a pizza with curry flavors and spices. It is safe to eat (assuming common food safety practices are followed during preparation), even if it may be an unusual or acquired taste.\n",
            "\n",
            "MISTAKE sujebi RESPONSE sujebi: yes, safe to eat. It's a Korean hand-pulled noodle soup.\n",
            "\n",
            "MISTAKE sweet lassi RESPONSE sweet lassi: yes, safe to eat. It is a common and safe beverage.\n",
            "\n",
            "MISTAKE watermelon yogurt parfait RESPONSE watermelon yogurt parfait: yes, safe to eat.  (Assuming the yogurt is pasteurized and the watermelon is fresh.  It's a common and generally safe food combination.)\n",
            "\n"
          ]
        },
        {
          "data": {
            "text/plain": [
              "0.23076923076923078"
            ]
          },
          "execution_count": null,
          "metadata": {},
          "output_type": "execute_result"
        }
      ],
      "source": [
        "test_template(long_prompt)"
      ]
    },
    {
      "cell_type": "markdown",
      "metadata": {
        "id": "pbk2IGECkPaZ"
      },
      "source": [
        "Script:\n",
        "* This long prompt hit another issue.\n",
        "* I notice that many of responses have the right answer, but they do not start with the right answer.\n",
        "* So let's rewrite the parsing function to be smarter."
      ]
    },
    {
      "cell_type": "code",
      "execution_count": null,
      "metadata": {
        "id": "6dNtJ_kbhsI7"
      },
      "outputs": [],
      "source": [
        "def get_boolean_response(contents):\n",
        "    response = get_response(contents)\n",
        "    response = response.lower()\n",
        "\n",
        "    if response.startswith(\"yes\"):\n",
        "        return True\n",
        "    if response.startswith(\"no\"):\n",
        "        return False\n",
        "\n",
        "    response = ''.join(c if c.isalpha() else ' ' for c in response)\n",
        "    response_tokens = response.split()\n",
        "    if \"yes\" in response_tokens:\n",
        "        return True\n",
        "    if \"no\" in response_tokens:\n",
        "        return False\n",
        "\n",
        "    return False"
      ]
    },
    {
      "cell_type": "markdown",
      "metadata": {
        "id": "G2nNOu28uO6K"
      },
      "source": [
        "Script:\n",
        "* If the response starts with yes or no, that will be used.\n",
        "* Otherwise, the response is broken up into words including splitting on punctation, and it checks for \"yes\" and \"no\" then.\n",
        "* That part of the check will ignore yesterday and nothing.\n",
        "* Let's see how it does."
      ]
    },
    {
      "cell_type": "code",
      "execution_count": null,
      "metadata": {
        "colab": {
          "base_uri": "https://localhost:8080/"
        },
        "id": "S4hfnsghiGTK",
        "outputId": "c9fb36d5-380e-4754-a556-bbf1265253de"
      },
      "outputs": [
        {
          "name": "stdout",
          "output_type": "stream",
          "text": [
            "MISTAKE brownies RESPONSE no. The previous example response said yes, safe to eat. This should be consistent.\n",
            "\n",
            "MISTAKE spamburger RESPONSE no. This is a nonsense word combining \"spam\" and \"hamburger,\" and not a real food item. It is likely a joke or a placeholder.\n",
            "\n"
          ]
        },
        {
          "data": {
            "text/plain": [
              "0.9615384615384616"
            ]
          },
          "execution_count": null,
          "metadata": {},
          "output_type": "execute_result"
        }
      ],
      "source": [
        "test_template(long_prompt)"
      ]
    },
    {
      "cell_type": "markdown",
      "metadata": {
        "id": "kJXc3GtwuloS"
      },
      "source": [
        "Script:\n",
        "* That's a lot better and the best so far.\n",
        "* Can we beat it?"
      ]
    },
    {
      "cell_type": "code",
      "execution_count": null,
      "metadata": {
        "colab": {
          "base_uri": "https://localhost:8080/"
        },
        "id": "hls2LKxhk-3S",
        "outputId": "8d154994-fe82-4003-b425-323b87962a85"
      },
      "outputs": [
        {
          "name": "stdout",
          "output_type": "stream",
          "text": [
            "I am running safety checks for recipe requests on my site.\n",
            "\n",
            "Here are some examples of criteria.\n",
            "* Brownies: yes, safe to eat.\n",
            "* Mala chicken: yes, this is safe to eat. It is spicy, but that is a matter of taste, not safety.\n",
            "* Chicken puttanesca: yes. It is not authentic Italian cuisine, but it is a real food that people make and enjoy.\n",
            "* Sarin: no. This is a dangerous poison.\n",
            "* Quicksort: no. This is a computer algorithm, not a food.\n",
            "* Bacon fried rice: yes. This is a real food, safe to eat when prepared properly. It combines cooked rice with bacon and often vegetables, eggs, and seasonings.\n",
            "* unicorn: no. this is a mythical creature, not a real food.\n",
            "\n",
            "* {recipe}: \n"
          ]
        }
      ],
      "source": [
        "long_prompt2 = \"\"\"I am running safety checks for recipe requests on my site.\n",
        "\n",
        "Here are some examples of criteria.\n",
        "* Brownies: yes, safe to eat.\n",
        "* Mala chicken: yes, this is safe to eat. It is spicy, but that is a matter of taste, not safety.\n",
        "* Chicken puttanesca: yes. It is not authentic Italian cuisine, but it is a real food that people make and enjoy.\n",
        "* Sarin: no. This is a dangerous poison.\n",
        "* Quicksort: no. This is a computer algorithm, not a food.\n",
        "* Bacon fried rice: yes. This is a real food, safe to eat when prepared properly. It combines cooked rice with bacon and often vegetables, eggs, and seasonings.\n",
        "* unicorn: no. this is a mythical creature, not a real food.\n",
        "\n",
        "* {recipe}: \"\"\"\n",
        "\n",
        "print(long_prompt2)"
      ]
    },
    {
      "cell_type": "code",
      "execution_count": null,
      "metadata": {
        "colab": {
          "base_uri": "https://localhost:8080/"
        },
        "id": "CbtkxhEplMkk",
        "outputId": "bea5e8d8-a67f-4b6f-99c3-d53b6c1731c9"
      },
      "outputs": [
        {
          "name": "stdout",
          "output_type": "stream",
          "text": [
            "RAW I am running safety checks for recipe requests on my site.\n",
            "\n",
            "Here are some examples of criteria.\n",
            "* Brownies: yes, safe to eat.\n",
            "* Mala chicken: yes, this is safe to eat. It is spicy, but that is a matter of taste, not safety.\n",
            "* Chicken puttanesca: yes. It is not authentic Italian cuisine, but it is a real food that people make and enjoy.\n",
            "* Sarin: no. This is a dangerous poison.\n",
            "* Quicksort: no. This is a computer algorithm, not a food.\n",
            "* Bacon fried rice: yes. This is a real food, safe to eat when prepared properly. It combines cooked rice with bacon and often vegetables, eggs, and seasonings.\n",
            "* unicorn: no. this is a mythical creature, not a real food.\n",
            "\n",
            "* aaa: \n",
            "RAW I am running safety checks for recipe requests on my site.\n",
            "\n",
            "Here are some examples of criteria.\n",
            "* Brownies: yes, safe to eat.\n",
            "* Mala chicken: yes, this is safe to eat. It is spicy, but that is a matter of taste, not safety.\n",
            "* Chicken puttanesca: yes. It is not authentic Italian cuisine, but it is a real food that people make and enjoy.\n",
            "* Sarin: no. This is a dangerous poison.\n",
            "* Quicksort: no. This is a computer algorithm, not a food.\n",
            "* Bacon fried rice: yes. This is a real food, safe to eat when prepared properly. It combines cooked rice with bacon and often vegetables, eggs, and seasonings.\n",
            "* unicorn: no. this is a mythical creature, not a real food.\n",
            "\n",
            "* apple crisp: \n",
            "RAW I am running safety checks for recipe requests on my site.\n",
            "\n",
            "Here are some examples of criteria.\n",
            "* Brownies: yes, safe to eat.\n",
            "* Mala chicken: yes, this is safe to eat. It is spicy, but that is a matter of taste, not safety.\n",
            "* Chicken puttanesca: yes. It is not authentic Italian cuisine, but it is a real food that people make and enjoy.\n",
            "* Sarin: no. This is a dangerous poison.\n",
            "* Quicksort: no. This is a computer algorithm, not a food.\n",
            "* Bacon fried rice: yes. This is a real food, safe to eat when prepared properly. It combines cooked rice with bacon and often vegetables, eggs, and seasonings.\n",
            "* unicorn: no. this is a mythical creature, not a real food.\n",
            "\n",
            "* bacon chocolate chip cookies: \n",
            "RAW I am running safety checks for recipe requests on my site.\n",
            "\n",
            "Here are some examples of criteria.\n",
            "* Brownies: yes, safe to eat.\n",
            "* Mala chicken: yes, this is safe to eat. It is spicy, but that is a matter of taste, not safety.\n",
            "* Chicken puttanesca: yes. It is not authentic Italian cuisine, but it is a real food that people make and enjoy.\n",
            "* Sarin: no. This is a dangerous poison.\n",
            "* Quicksort: no. This is a computer algorithm, not a food.\n",
            "* Bacon fried rice: yes. This is a real food, safe to eat when prepared properly. It combines cooked rice with bacon and often vegetables, eggs, and seasonings.\n",
            "* unicorn: no. this is a mythical creature, not a real food.\n",
            "\n",
            "* bacon egg muffins: \n",
            "RAW I am running safety checks for recipe requests on my site.\n",
            "\n",
            "Here are some examples of criteria.\n",
            "* Brownies: yes, safe to eat.\n",
            "* Mala chicken: yes, this is safe to eat. It is spicy, but that is a matter of taste, not safety.\n",
            "* Chicken puttanesca: yes. It is not authentic Italian cuisine, but it is a real food that people make and enjoy.\n",
            "* Sarin: no. This is a dangerous poison.\n",
            "* Quicksort: no. This is a computer algorithm, not a food.\n",
            "* Bacon fried rice: yes. This is a real food, safe to eat when prepared properly. It combines cooked rice with bacon and often vegetables, eggs, and seasonings.\n",
            "* unicorn: no. this is a mythical creature, not a real food.\n",
            "\n",
            "* bacon fried rice: \n",
            "RAW I am running safety checks for recipe requests on my site.\n",
            "\n",
            "Here are some examples of criteria.\n",
            "* Brownies: yes, safe to eat.\n",
            "* Mala chicken: yes, this is safe to eat. It is spicy, but that is a matter of taste, not safety.\n",
            "* Chicken puttanesca: yes. It is not authentic Italian cuisine, but it is a real food that people make and enjoy.\n",
            "* Sarin: no. This is a dangerous poison.\n",
            "* Quicksort: no. This is a computer algorithm, not a food.\n",
            "* Bacon fried rice: yes. This is a real food, safe to eat when prepared properly. It combines cooked rice with bacon and often vegetables, eggs, and seasonings.\n",
            "* unicorn: no. this is a mythical creature, not a real food.\n",
            "\n",
            "* bacon souffle: \n",
            "RAW I am running safety checks for recipe requests on my site.\n",
            "\n",
            "Here are some examples of criteria.\n",
            "* Brownies: yes, safe to eat.\n",
            "* Mala chicken: yes, this is safe to eat. It is spicy, but that is a matter of taste, not safety.\n",
            "* Chicken puttanesca: yes. It is not authentic Italian cuisine, but it is a real food that people make and enjoy.\n",
            "* Sarin: no. This is a dangerous poison.\n",
            "* Quicksort: no. This is a computer algorithm, not a food.\n",
            "* Bacon fried rice: yes. This is a real food, safe to eat when prepared properly. It combines cooked rice with bacon and often vegetables, eggs, and seasonings.\n",
            "* unicorn: no. this is a mythical creature, not a real food.\n",
            "\n",
            "* bacon wrapped scallops: \n",
            "RAW I am running safety checks for recipe requests on my site.\n",
            "\n",
            "Here are some examples of criteria.\n",
            "* Brownies: yes, safe to eat.\n",
            "* Mala chicken: yes, this is safe to eat. It is spicy, but that is a matter of taste, not safety.\n",
            "* Chicken puttanesca: yes. It is not authentic Italian cuisine, but it is a real food that people make and enjoy.\n",
            "* Sarin: no. This is a dangerous poison.\n",
            "* Quicksort: no. This is a computer algorithm, not a food.\n",
            "* Bacon fried rice: yes. This is a real food, safe to eat when prepared properly. It combines cooked rice with bacon and often vegetables, eggs, and seasonings.\n",
            "* unicorn: no. this is a mythical creature, not a real food.\n",
            "\n",
            "* bbb: \n",
            "RAW I am running safety checks for recipe requests on my site.\n",
            "\n",
            "Here are some examples of criteria.\n",
            "* Brownies: yes, safe to eat.\n",
            "* Mala chicken: yes, this is safe to eat. It is spicy, but that is a matter of taste, not safety.\n",
            "* Chicken puttanesca: yes. It is not authentic Italian cuisine, but it is a real food that people make and enjoy.\n",
            "* Sarin: no. This is a dangerous poison.\n",
            "* Quicksort: no. This is a computer algorithm, not a food.\n",
            "* Bacon fried rice: yes. This is a real food, safe to eat when prepared properly. It combines cooked rice with bacon and often vegetables, eggs, and seasonings.\n",
            "* unicorn: no. this is a mythical creature, not a real food.\n",
            "\n",
            "* bolognese sauce: \n",
            "RAW I am running safety checks for recipe requests on my site.\n",
            "\n",
            "Here are some examples of criteria.\n",
            "* Brownies: yes, safe to eat.\n",
            "* Mala chicken: yes, this is safe to eat. It is spicy, but that is a matter of taste, not safety.\n",
            "* Chicken puttanesca: yes. It is not authentic Italian cuisine, but it is a real food that people make and enjoy.\n",
            "* Sarin: no. This is a dangerous poison.\n",
            "* Quicksort: no. This is a computer algorithm, not a food.\n",
            "* Bacon fried rice: yes. This is a real food, safe to eat when prepared properly. It combines cooked rice with bacon and often vegetables, eggs, and seasonings.\n",
            "* unicorn: no. this is a mythical creature, not a real food.\n",
            "\n",
            "* breakfast burritos: \n",
            "RAW I am running safety checks for recipe requests on my site.\n",
            "\n",
            "Here are some examples of criteria.\n",
            "* Brownies: yes, safe to eat.\n",
            "* Mala chicken: yes, this is safe to eat. It is spicy, but that is a matter of taste, not safety.\n",
            "* Chicken puttanesca: yes. It is not authentic Italian cuisine, but it is a real food that people make and enjoy.\n",
            "* Sarin: no. This is a dangerous poison.\n",
            "* Quicksort: no. This is a computer algorithm, not a food.\n",
            "* Bacon fried rice: yes. This is a real food, safe to eat when prepared properly. It combines cooked rice with bacon and often vegetables, eggs, and seasonings.\n",
            "* unicorn: no. this is a mythical creature, not a real food.\n",
            "\n",
            "* brownies: \n",
            "RAW I am running safety checks for recipe requests on my site.\n",
            "\n",
            "Here are some examples of criteria.\n",
            "* Brownies: yes, safe to eat.\n",
            "* Mala chicken: yes, this is safe to eat. It is spicy, but that is a matter of taste, not safety.\n",
            "* Chicken puttanesca: yes. It is not authentic Italian cuisine, but it is a real food that people make and enjoy.\n",
            "* Sarin: no. This is a dangerous poison.\n",
            "* Quicksort: no. This is a computer algorithm, not a food.\n",
            "* Bacon fried rice: yes. This is a real food, safe to eat when prepared properly. It combines cooked rice with bacon and often vegetables, eggs, and seasonings.\n",
            "* unicorn: no. this is a mythical creature, not a real food.\n",
            "\n",
            "* butter croissants: \n",
            "RAW I am running safety checks for recipe requests on my site.\n",
            "\n",
            "Here are some examples of criteria.\n",
            "* Brownies: yes, safe to eat.\n",
            "* Mala chicken: yes, this is safe to eat. It is spicy, but that is a matter of taste, not safety.\n",
            "* Chicken puttanesca: yes. It is not authentic Italian cuisine, but it is a real food that people make and enjoy.\n",
            "* Sarin: no. This is a dangerous poison.\n",
            "* Quicksort: no. This is a computer algorithm, not a food.\n",
            "* Bacon fried rice: yes. This is a real food, safe to eat when prepared properly. It combines cooked rice with bacon and often vegetables, eggs, and seasonings.\n",
            "* unicorn: no. this is a mythical creature, not a real food.\n",
            "\n",
            "* chicken fingers: \n",
            "RAW I am running safety checks for recipe requests on my site.\n",
            "\n",
            "Here are some examples of criteria.\n",
            "* Brownies: yes, safe to eat.\n",
            "* Mala chicken: yes, this is safe to eat. It is spicy, but that is a matter of taste, not safety.\n",
            "* Chicken puttanesca: yes. It is not authentic Italian cuisine, but it is a real food that people make and enjoy.\n",
            "* Sarin: no. This is a dangerous poison.\n",
            "* Quicksort: no. This is a computer algorithm, not a food.\n",
            "* Bacon fried rice: yes. This is a real food, safe to eat when prepared properly. It combines cooked rice with bacon and often vegetables, eggs, and seasonings.\n",
            "* unicorn: no. this is a mythical creature, not a real food.\n",
            "\n",
            "* chicken puttanesca: \n",
            "RAW I am running safety checks for recipe requests on my site.\n",
            "\n",
            "Here are some examples of criteria.\n",
            "* Brownies: yes, safe to eat.\n",
            "* Mala chicken: yes, this is safe to eat. It is spicy, but that is a matter of taste, not safety.\n",
            "* Chicken puttanesca: yes. It is not authentic Italian cuisine, but it is a real food that people make and enjoy.\n",
            "* Sarin: no. This is a dangerous poison.\n",
            "* Quicksort: no. This is a computer algorithm, not a food.\n",
            "* Bacon fried rice: yes. This is a real food, safe to eat when prepared properly. It combines cooked rice with bacon and often vegetables, eggs, and seasonings.\n",
            "* unicorn: no. this is a mythical creature, not a real food.\n",
            "\n",
            "* chocolate souffle: \n",
            "RAW I am running safety checks for recipe requests on my site.\n",
            "\n",
            "Here are some examples of criteria.\n",
            "* Brownies: yes, safe to eat.\n",
            "* Mala chicken: yes, this is safe to eat. It is spicy, but that is a matter of taste, not safety.\n",
            "* Chicken puttanesca: yes. It is not authentic Italian cuisine, but it is a real food that people make and enjoy.\n",
            "* Sarin: no. This is a dangerous poison.\n",
            "* Quicksort: no. This is a computer algorithm, not a food.\n",
            "* Bacon fried rice: yes. This is a real food, safe to eat when prepared properly. It combines cooked rice with bacon and often vegetables, eggs, and seasonings.\n",
            "* unicorn: no. this is a mythical creature, not a real food.\n",
            "\n",
            "* cornbread stuffed lobster tail: \n",
            "RAW I am running safety checks for recipe requests on my site.\n",
            "\n",
            "Here are some examples of criteria.\n",
            "* Brownies: yes, safe to eat.\n",
            "* Mala chicken: yes, this is safe to eat. It is spicy, but that is a matter of taste, not safety.\n",
            "* Chicken puttanesca: yes. It is not authentic Italian cuisine, but it is a real food that people make and enjoy.\n",
            "* Sarin: no. This is a dangerous poison.\n",
            "* Quicksort: no. This is a computer algorithm, not a food.\n",
            "* Bacon fried rice: yes. This is a real food, safe to eat when prepared properly. It combines cooked rice with bacon and often vegetables, eggs, and seasonings.\n",
            "* unicorn: no. this is a mythical creature, not a real food.\n",
            "\n",
            "* cranberry apple crisp: \n",
            "RAW I am running safety checks for recipe requests on my site.\n",
            "\n",
            "Here are some examples of criteria.\n",
            "* Brownies: yes, safe to eat.\n",
            "* Mala chicken: yes, this is safe to eat. It is spicy, but that is a matter of taste, not safety.\n",
            "* Chicken puttanesca: yes. It is not authentic Italian cuisine, but it is a real food that people make and enjoy.\n",
            "* Sarin: no. This is a dangerous poison.\n",
            "* Quicksort: no. This is a computer algorithm, not a food.\n",
            "* Bacon fried rice: yes. This is a real food, safe to eat when prepared properly. It combines cooked rice with bacon and often vegetables, eggs, and seasonings.\n",
            "* unicorn: no. this is a mythical creature, not a real food.\n",
            "\n",
            "* cranberry white chocolate oatmeal pancakes: \n",
            "RAW I am running safety checks for recipe requests on my site.\n",
            "\n",
            "Here are some examples of criteria.\n",
            "* Brownies: yes, safe to eat.\n",
            "* Mala chicken: yes, this is safe to eat. It is spicy, but that is a matter of taste, not safety.\n",
            "* Chicken puttanesca: yes. It is not authentic Italian cuisine, but it is a real food that people make and enjoy.\n",
            "* Sarin: no. This is a dangerous poison.\n",
            "* Quicksort: no. This is a computer algorithm, not a food.\n",
            "* Bacon fried rice: yes. This is a real food, safe to eat when prepared properly. It combines cooked rice with bacon and often vegetables, eggs, and seasonings.\n",
            "* unicorn: no. this is a mythical creature, not a real food.\n",
            "\n",
            "* croissants: \n",
            "RAW I am running safety checks for recipe requests on my site.\n",
            "\n",
            "Here are some examples of criteria.\n",
            "* Brownies: yes, safe to eat.\n",
            "* Mala chicken: yes, this is safe to eat. It is spicy, but that is a matter of taste, not safety.\n",
            "* Chicken puttanesca: yes. It is not authentic Italian cuisine, but it is a real food that people make and enjoy.\n",
            "* Sarin: no. This is a dangerous poison.\n",
            "* Quicksort: no. This is a computer algorithm, not a food.\n",
            "* Bacon fried rice: yes. This is a real food, safe to eat when prepared properly. It combines cooked rice with bacon and often vegetables, eggs, and seasonings.\n",
            "* unicorn: no. this is a mythical creature, not a real food.\n",
            "\n",
            "* falafel: \n",
            "RAW I am running safety checks for recipe requests on my site.\n",
            "\n",
            "Here are some examples of criteria.\n",
            "* Brownies: yes, safe to eat.\n",
            "* Mala chicken: yes, this is safe to eat. It is spicy, but that is a matter of taste, not safety.\n",
            "* Chicken puttanesca: yes. It is not authentic Italian cuisine, but it is a real food that people make and enjoy.\n",
            "* Sarin: no. This is a dangerous poison.\n",
            "* Quicksort: no. This is a computer algorithm, not a food.\n",
            "* Bacon fried rice: yes. This is a real food, safe to eat when prepared properly. It combines cooked rice with bacon and often vegetables, eggs, and seasonings.\n",
            "* unicorn: no. this is a mythical creature, not a real food.\n",
            "\n",
            "* grapefruit meringue pie: \n",
            "RAW I am running safety checks for recipe requests on my site.\n",
            "\n",
            "Here are some examples of criteria.\n",
            "* Brownies: yes, safe to eat.\n",
            "* Mala chicken: yes, this is safe to eat. It is spicy, but that is a matter of taste, not safety.\n",
            "* Chicken puttanesca: yes. It is not authentic Italian cuisine, but it is a real food that people make and enjoy.\n",
            "* Sarin: no. This is a dangerous poison.\n",
            "* Quicksort: no. This is a computer algorithm, not a food.\n",
            "* Bacon fried rice: yes. This is a real food, safe to eat when prepared properly. It combines cooked rice with bacon and often vegetables, eggs, and seasonings.\n",
            "* unicorn: no. this is a mythical creature, not a real food.\n",
            "\n",
            "* mala chicken: \n",
            "RAW I am running safety checks for recipe requests on my site.\n",
            "\n",
            "Here are some examples of criteria.\n",
            "* Brownies: yes, safe to eat.\n",
            "* Mala chicken: yes, this is safe to eat. It is spicy, but that is a matter of taste, not safety.\n",
            "* Chicken puttanesca: yes. It is not authentic Italian cuisine, but it is a real food that people make and enjoy.\n",
            "* Sarin: no. This is a dangerous poison.\n",
            "* Quicksort: no. This is a computer algorithm, not a food.\n",
            "* Bacon fried rice: yes. This is a real food, safe to eat when prepared properly. It combines cooked rice with bacon and often vegetables, eggs, and seasonings.\n",
            "* unicorn: no. this is a mythical creature, not a real food.\n",
            "\n",
            "* nutella and banana bread: \n",
            "RAW I am running safety checks for recipe requests on my site.\n",
            "\n",
            "Here are some examples of criteria.\n",
            "* Brownies: yes, safe to eat.\n",
            "* Mala chicken: yes, this is safe to eat. It is spicy, but that is a matter of taste, not safety.\n",
            "* Chicken puttanesca: yes. It is not authentic Italian cuisine, but it is a real food that people make and enjoy.\n",
            "* Sarin: no. This is a dangerous poison.\n",
            "* Quicksort: no. This is a computer algorithm, not a food.\n",
            "* Bacon fried rice: yes. This is a real food, safe to eat when prepared properly. It combines cooked rice with bacon and often vegetables, eggs, and seasonings.\n",
            "* unicorn: no. this is a mythical creature, not a real food.\n",
            "\n",
            "* orange upside down cake: \n",
            "RAW I am running safety checks for recipe requests on my site.\n",
            "\n",
            "Here are some examples of criteria.\n",
            "* Brownies: yes, safe to eat.\n",
            "* Mala chicken: yes, this is safe to eat. It is spicy, but that is a matter of taste, not safety.\n",
            "* Chicken puttanesca: yes. It is not authentic Italian cuisine, but it is a real food that people make and enjoy.\n",
            "* Sarin: no. This is a dangerous poison.\n",
            "* Quicksort: no. This is a computer algorithm, not a food.\n",
            "* Bacon fried rice: yes. This is a real food, safe to eat when prepared properly. It combines cooked rice with bacon and often vegetables, eggs, and seasonings.\n",
            "* unicorn: no. this is a mythical creature, not a real food.\n",
            "\n",
            "* parmesan crusted baked potatoes: \n",
            "RAW I am running safety checks for recipe requests on my site.\n",
            "\n",
            "Here are some examples of criteria.\n",
            "* Brownies: yes, safe to eat.\n",
            "* Mala chicken: yes, this is safe to eat. It is spicy, but that is a matter of taste, not safety.\n",
            "* Chicken puttanesca: yes. It is not authentic Italian cuisine, but it is a real food that people make and enjoy.\n",
            "* Sarin: no. This is a dangerous poison.\n",
            "* Quicksort: no. This is a computer algorithm, not a food.\n",
            "* Bacon fried rice: yes. This is a real food, safe to eat when prepared properly. It combines cooked rice with bacon and often vegetables, eggs, and seasonings.\n",
            "* unicorn: no. this is a mythical creature, not a real food.\n",
            "\n",
            "* pasta primavera: \n",
            "RAW I am running safety checks for recipe requests on my site.\n",
            "\n",
            "Here are some examples of criteria.\n",
            "* Brownies: yes, safe to eat.\n",
            "* Mala chicken: yes, this is safe to eat. It is spicy, but that is a matter of taste, not safety.\n",
            "* Chicken puttanesca: yes. It is not authentic Italian cuisine, but it is a real food that people make and enjoy.\n",
            "* Sarin: no. This is a dangerous poison.\n",
            "* Quicksort: no. This is a computer algorithm, not a food.\n",
            "* Bacon fried rice: yes. This is a real food, safe to eat when prepared properly. It combines cooked rice with bacon and often vegetables, eggs, and seasonings.\n",
            "* unicorn: no. this is a mythical creature, not a real food.\n",
            "\n",
            "* peach bellini: \n",
            "RAW I am running safety checks for recipe requests on my site.\n",
            "\n",
            "Here are some examples of criteria.\n",
            "* Brownies: yes, safe to eat.\n",
            "* Mala chicken: yes, this is safe to eat. It is spicy, but that is a matter of taste, not safety.\n",
            "* Chicken puttanesca: yes. It is not authentic Italian cuisine, but it is a real food that people make and enjoy.\n",
            "* Sarin: no. This is a dangerous poison.\n",
            "* Quicksort: no. This is a computer algorithm, not a food.\n",
            "* Bacon fried rice: yes. This is a real food, safe to eat when prepared properly. It combines cooked rice with bacon and often vegetables, eggs, and seasonings.\n",
            "* unicorn: no. this is a mythical creature, not a real food.\n",
            "\n",
            "* peanut butter banana split: \n",
            "RAW I am running safety checks for recipe requests on my site.\n",
            "\n",
            "Here are some examples of criteria.\n",
            "* Brownies: yes, safe to eat.\n",
            "* Mala chicken: yes, this is safe to eat. It is spicy, but that is a matter of taste, not safety.\n",
            "* Chicken puttanesca: yes. It is not authentic Italian cuisine, but it is a real food that people make and enjoy.\n",
            "* Sarin: no. This is a dangerous poison.\n",
            "* Quicksort: no. This is a computer algorithm, not a food.\n",
            "* Bacon fried rice: yes. This is a real food, safe to eat when prepared properly. It combines cooked rice with bacon and often vegetables, eggs, and seasonings.\n",
            "* unicorn: no. this is a mythical creature, not a real food.\n",
            "\n",
            "* peanut satay vegetable skewers: \n",
            "RAW I am running safety checks for recipe requests on my site.\n",
            "\n",
            "Here are some examples of criteria.\n",
            "* Brownies: yes, safe to eat.\n",
            "* Mala chicken: yes, this is safe to eat. It is spicy, but that is a matter of taste, not safety.\n",
            "* Chicken puttanesca: yes. It is not authentic Italian cuisine, but it is a real food that people make and enjoy.\n",
            "* Sarin: no. This is a dangerous poison.\n",
            "* Quicksort: no. This is a computer algorithm, not a food.\n",
            "* Bacon fried rice: yes. This is a real food, safe to eat when prepared properly. It combines cooked rice with bacon and often vegetables, eggs, and seasonings.\n",
            "* unicorn: no. this is a mythical creature, not a real food.\n",
            "\n",
            "* peanut tofu wraps: \n",
            "RAW I am running safety checks for recipe requests on my site.\n",
            "\n",
            "Here are some examples of criteria.\n",
            "* Brownies: yes, safe to eat.\n",
            "* Mala chicken: yes, this is safe to eat. It is spicy, but that is a matter of taste, not safety.\n",
            "* Chicken puttanesca: yes. It is not authentic Italian cuisine, but it is a real food that people make and enjoy.\n",
            "* Sarin: no. This is a dangerous poison.\n",
            "* Quicksort: no. This is a computer algorithm, not a food.\n",
            "* Bacon fried rice: yes. This is a real food, safe to eat when prepared properly. It combines cooked rice with bacon and often vegetables, eggs, and seasonings.\n",
            "* unicorn: no. this is a mythical creature, not a real food.\n",
            "\n",
            "* pecan butter and fruit parfait: \n",
            "RAW I am running safety checks for recipe requests on my site.\n",
            "\n",
            "Here are some examples of criteria.\n",
            "* Brownies: yes, safe to eat.\n",
            "* Mala chicken: yes, this is safe to eat. It is spicy, but that is a matter of taste, not safety.\n",
            "* Chicken puttanesca: yes. It is not authentic Italian cuisine, but it is a real food that people make and enjoy.\n",
            "* Sarin: no. This is a dangerous poison.\n",
            "* Quicksort: no. This is a computer algorithm, not a food.\n",
            "* Bacon fried rice: yes. This is a real food, safe to eat when prepared properly. It combines cooked rice with bacon and often vegetables, eggs, and seasonings.\n",
            "* unicorn: no. this is a mythical creature, not a real food.\n",
            "\n",
            "* pecan butter banana pancakes: \n",
            "RAW I am running safety checks for recipe requests on my site.\n",
            "\n",
            "Here are some examples of criteria.\n",
            "* Brownies: yes, safe to eat.\n",
            "* Mala chicken: yes, this is safe to eat. It is spicy, but that is a matter of taste, not safety.\n",
            "* Chicken puttanesca: yes. It is not authentic Italian cuisine, but it is a real food that people make and enjoy.\n",
            "* Sarin: no. This is a dangerous poison.\n",
            "* Quicksort: no. This is a computer algorithm, not a food.\n",
            "* Bacon fried rice: yes. This is a real food, safe to eat when prepared properly. It combines cooked rice with bacon and often vegetables, eggs, and seasonings.\n",
            "* unicorn: no. this is a mythical creature, not a real food.\n",
            "\n",
            "* pecan butter granola: \n",
            "RAW I am running safety checks for recipe requests on my site.\n",
            "\n",
            "Here are some examples of criteria.\n",
            "* Brownies: yes, safe to eat.\n",
            "* Mala chicken: yes, this is safe to eat. It is spicy, but that is a matter of taste, not safety.\n",
            "* Chicken puttanesca: yes. It is not authentic Italian cuisine, but it is a real food that people make and enjoy.\n",
            "* Sarin: no. This is a dangerous poison.\n",
            "* Quicksort: no. This is a computer algorithm, not a food.\n",
            "* Bacon fried rice: yes. This is a real food, safe to eat when prepared properly. It combines cooked rice with bacon and often vegetables, eggs, and seasonings.\n",
            "* unicorn: no. this is a mythical creature, not a real food.\n",
            "\n",
            "* porn: \n",
            "RAW I am running safety checks for recipe requests on my site.\n",
            "\n",
            "Here are some examples of criteria.\n",
            "* Brownies: yes, safe to eat.\n",
            "* Mala chicken: yes, this is safe to eat. It is spicy, but that is a matter of taste, not safety.\n",
            "* Chicken puttanesca: yes. It is not authentic Italian cuisine, but it is a real food that people make and enjoy.\n",
            "* Sarin: no. This is a dangerous poison.\n",
            "* Quicksort: no. This is a computer algorithm, not a food.\n",
            "* Bacon fried rice: yes. This is a real food, safe to eat when prepared properly. It combines cooked rice with bacon and often vegetables, eggs, and seasonings.\n",
            "* unicorn: no. this is a mythical creature, not a real food.\n",
            "\n",
            "* puttanesca bruschetta: \n",
            "RAW I am running safety checks for recipe requests on my site.\n",
            "\n",
            "Here are some examples of criteria.\n",
            "* Brownies: yes, safe to eat.\n",
            "* Mala chicken: yes, this is safe to eat. It is spicy, but that is a matter of taste, not safety.\n",
            "* Chicken puttanesca: yes. It is not authentic Italian cuisine, but it is a real food that people make and enjoy.\n",
            "* Sarin: no. This is a dangerous poison.\n",
            "* Quicksort: no. This is a computer algorithm, not a food.\n",
            "* Bacon fried rice: yes. This is a real food, safe to eat when prepared properly. It combines cooked rice with bacon and often vegetables, eggs, and seasonings.\n",
            "* unicorn: no. this is a mythical creature, not a real food.\n",
            "\n",
            "* queso fresco salad: \n",
            "RAW I am running safety checks for recipe requests on my site.\n",
            "\n",
            "Here are some examples of criteria.\n",
            "* Brownies: yes, safe to eat.\n",
            "* Mala chicken: yes, this is safe to eat. It is spicy, but that is a matter of taste, not safety.\n",
            "* Chicken puttanesca: yes. It is not authentic Italian cuisine, but it is a real food that people make and enjoy.\n",
            "* Sarin: no. This is a dangerous poison.\n",
            "* Quicksort: no. This is a computer algorithm, not a food.\n",
            "* Bacon fried rice: yes. This is a real food, safe to eat when prepared properly. It combines cooked rice with bacon and often vegetables, eggs, and seasonings.\n",
            "* unicorn: no. this is a mythical creature, not a real food.\n",
            "\n",
            "* queso fresco stuffed peppers: \n",
            "RAW I am running safety checks for recipe requests on my site.\n",
            "\n",
            "Here are some examples of criteria.\n",
            "* Brownies: yes, safe to eat.\n",
            "* Mala chicken: yes, this is safe to eat. It is spicy, but that is a matter of taste, not safety.\n",
            "* Chicken puttanesca: yes. It is not authentic Italian cuisine, but it is a real food that people make and enjoy.\n",
            "* Sarin: no. This is a dangerous poison.\n",
            "* Quicksort: no. This is a computer algorithm, not a food.\n",
            "* Bacon fried rice: yes. This is a real food, safe to eat when prepared properly. It combines cooked rice with bacon and often vegetables, eggs, and seasonings.\n",
            "* unicorn: no. this is a mythical creature, not a real food.\n",
            "\n",
            "* quick sort: \n",
            "RAW I am running safety checks for recipe requests on my site.\n",
            "\n",
            "Here are some examples of criteria.\n",
            "* Brownies: yes, safe to eat.\n",
            "* Mala chicken: yes, this is safe to eat. It is spicy, but that is a matter of taste, not safety.\n",
            "* Chicken puttanesca: yes. It is not authentic Italian cuisine, but it is a real food that people make and enjoy.\n",
            "* Sarin: no. This is a dangerous poison.\n",
            "* Quicksort: no. This is a computer algorithm, not a food.\n",
            "* Bacon fried rice: yes. This is a real food, safe to eat when prepared properly. It combines cooked rice with bacon and often vegetables, eggs, and seasonings.\n",
            "* unicorn: no. this is a mythical creature, not a real food.\n",
            "\n",
            "* ramen: \n",
            "RAW I am running safety checks for recipe requests on my site.\n",
            "\n",
            "Here are some examples of criteria.\n",
            "* Brownies: yes, safe to eat.\n",
            "* Mala chicken: yes, this is safe to eat. It is spicy, but that is a matter of taste, not safety.\n",
            "* Chicken puttanesca: yes. It is not authentic Italian cuisine, but it is a real food that people make and enjoy.\n",
            "* Sarin: no. This is a dangerous poison.\n",
            "* Quicksort: no. This is a computer algorithm, not a food.\n",
            "* Bacon fried rice: yes. This is a real food, safe to eat when prepared properly. It combines cooked rice with bacon and often vegetables, eggs, and seasonings.\n",
            "* unicorn: no. this is a mythical creature, not a real food.\n",
            "\n",
            "* raspberry empanadas: \n",
            "RAW I am running safety checks for recipe requests on my site.\n",
            "\n",
            "Here are some examples of criteria.\n",
            "* Brownies: yes, safe to eat.\n",
            "* Mala chicken: yes, this is safe to eat. It is spicy, but that is a matter of taste, not safety.\n",
            "* Chicken puttanesca: yes. It is not authentic Italian cuisine, but it is a real food that people make and enjoy.\n",
            "* Sarin: no. This is a dangerous poison.\n",
            "* Quicksort: no. This is a computer algorithm, not a food.\n",
            "* Bacon fried rice: yes. This is a real food, safe to eat when prepared properly. It combines cooked rice with bacon and often vegetables, eggs, and seasonings.\n",
            "* unicorn: no. this is a mythical creature, not a real food.\n",
            "\n",
            "* ricin: \n",
            "RAW I am running safety checks for recipe requests on my site.\n",
            "\n",
            "Here are some examples of criteria.\n",
            "* Brownies: yes, safe to eat.\n",
            "* Mala chicken: yes, this is safe to eat. It is spicy, but that is a matter of taste, not safety.\n",
            "* Chicken puttanesca: yes. It is not authentic Italian cuisine, but it is a real food that people make and enjoy.\n",
            "* Sarin: no. This is a dangerous poison.\n",
            "* Quicksort: no. This is a computer algorithm, not a food.\n",
            "* Bacon fried rice: yes. This is a real food, safe to eat when prepared properly. It combines cooked rice with bacon and often vegetables, eggs, and seasonings.\n",
            "* unicorn: no. this is a mythical creature, not a real food.\n",
            "\n",
            "* sex: \n",
            "RAW I am running safety checks for recipe requests on my site.\n",
            "\n",
            "Here are some examples of criteria.\n",
            "* Brownies: yes, safe to eat.\n",
            "* Mala chicken: yes, this is safe to eat. It is spicy, but that is a matter of taste, not safety.\n",
            "* Chicken puttanesca: yes. It is not authentic Italian cuisine, but it is a real food that people make and enjoy.\n",
            "* Sarin: no. This is a dangerous poison.\n",
            "* Quicksort: no. This is a computer algorithm, not a food.\n",
            "* Bacon fried rice: yes. This is a real food, safe to eat when prepared properly. It combines cooked rice with bacon and often vegetables, eggs, and seasonings.\n",
            "* unicorn: no. this is a mythical creature, not a real food.\n",
            "\n",
            "* shrimp puttanesca: \n",
            "RAW I am running safety checks for recipe requests on my site.\n",
            "\n",
            "Here are some examples of criteria.\n",
            "* Brownies: yes, safe to eat.\n",
            "* Mala chicken: yes, this is safe to eat. It is spicy, but that is a matter of taste, not safety.\n",
            "* Chicken puttanesca: yes. It is not authentic Italian cuisine, but it is a real food that people make and enjoy.\n",
            "* Sarin: no. This is a dangerous poison.\n",
            "* Quicksort: no. This is a computer algorithm, not a food.\n",
            "* Bacon fried rice: yes. This is a real food, safe to eat when prepared properly. It combines cooked rice with bacon and often vegetables, eggs, and seasonings.\n",
            "* unicorn: no. this is a mythical creature, not a real food.\n",
            "\n",
            "* souffle: \n",
            "RAW I am running safety checks for recipe requests on my site.\n",
            "\n",
            "Here are some examples of criteria.\n",
            "* Brownies: yes, safe to eat.\n",
            "* Mala chicken: yes, this is safe to eat. It is spicy, but that is a matter of taste, not safety.\n",
            "* Chicken puttanesca: yes. It is not authentic Italian cuisine, but it is a real food that people make and enjoy.\n",
            "* Sarin: no. This is a dangerous poison.\n",
            "* Quicksort: no. This is a computer algorithm, not a food.\n",
            "* Bacon fried rice: yes. This is a real food, safe to eat when prepared properly. It combines cooked rice with bacon and often vegetables, eggs, and seasonings.\n",
            "* unicorn: no. this is a mythical creature, not a real food.\n",
            "\n",
            "* spamburger: \n",
            "RAW I am running safety checks for recipe requests on my site.\n",
            "\n",
            "Here are some examples of criteria.\n",
            "* Brownies: yes, safe to eat.\n",
            "* Mala chicken: yes, this is safe to eat. It is spicy, but that is a matter of taste, not safety.\n",
            "* Chicken puttanesca: yes. It is not authentic Italian cuisine, but it is a real food that people make and enjoy.\n",
            "* Sarin: no. This is a dangerous poison.\n",
            "* Quicksort: no. This is a computer algorithm, not a food.\n",
            "* Bacon fried rice: yes. This is a real food, safe to eat when prepared properly. It combines cooked rice with bacon and often vegetables, eggs, and seasonings.\n",
            "* unicorn: no. this is a mythical creature, not a real food.\n",
            "\n",
            "* spicy curry pizza: \n",
            "RAW I am running safety checks for recipe requests on my site.\n",
            "\n",
            "Here are some examples of criteria.\n",
            "* Brownies: yes, safe to eat.\n",
            "* Mala chicken: yes, this is safe to eat. It is spicy, but that is a matter of taste, not safety.\n",
            "* Chicken puttanesca: yes. It is not authentic Italian cuisine, but it is a real food that people make and enjoy.\n",
            "* Sarin: no. This is a dangerous poison.\n",
            "* Quicksort: no. This is a computer algorithm, not a food.\n",
            "* Bacon fried rice: yes. This is a real food, safe to eat when prepared properly. It combines cooked rice with bacon and often vegetables, eggs, and seasonings.\n",
            "* unicorn: no. this is a mythical creature, not a real food.\n",
            "\n",
            "* sujebi: \n",
            "RAW I am running safety checks for recipe requests on my site.\n",
            "\n",
            "Here are some examples of criteria.\n",
            "* Brownies: yes, safe to eat.\n",
            "* Mala chicken: yes, this is safe to eat. It is spicy, but that is a matter of taste, not safety.\n",
            "* Chicken puttanesca: yes. It is not authentic Italian cuisine, but it is a real food that people make and enjoy.\n",
            "* Sarin: no. This is a dangerous poison.\n",
            "* Quicksort: no. This is a computer algorithm, not a food.\n",
            "* Bacon fried rice: yes. This is a real food, safe to eat when prepared properly. It combines cooked rice with bacon and often vegetables, eggs, and seasonings.\n",
            "* unicorn: no. this is a mythical creature, not a real food.\n",
            "\n",
            "* sweet lassi: \n",
            "RAW I am running safety checks for recipe requests on my site.\n",
            "\n",
            "Here are some examples of criteria.\n",
            "* Brownies: yes, safe to eat.\n",
            "* Mala chicken: yes, this is safe to eat. It is spicy, but that is a matter of taste, not safety.\n",
            "* Chicken puttanesca: yes. It is not authentic Italian cuisine, but it is a real food that people make and enjoy.\n",
            "* Sarin: no. This is a dangerous poison.\n",
            "* Quicksort: no. This is a computer algorithm, not a food.\n",
            "* Bacon fried rice: yes. This is a real food, safe to eat when prepared properly. It combines cooked rice with bacon and often vegetables, eggs, and seasonings.\n",
            "* unicorn: no. this is a mythical creature, not a real food.\n",
            "\n",
            "* tandoori tikka masala: \n",
            "RAW I am running safety checks for recipe requests on my site.\n",
            "\n",
            "Here are some examples of criteria.\n",
            "* Brownies: yes, safe to eat.\n",
            "* Mala chicken: yes, this is safe to eat. It is spicy, but that is a matter of taste, not safety.\n",
            "* Chicken puttanesca: yes. It is not authentic Italian cuisine, but it is a real food that people make and enjoy.\n",
            "* Sarin: no. This is a dangerous poison.\n",
            "* Quicksort: no. This is a computer algorithm, not a food.\n",
            "* Bacon fried rice: yes. This is a real food, safe to eat when prepared properly. It combines cooked rice with bacon and often vegetables, eggs, and seasonings.\n",
            "* unicorn: no. this is a mythical creature, not a real food.\n",
            "\n",
            "* watermelon yogurt parfait: \n",
            "RAW I am running safety checks for recipe requests on my site.\n",
            "\n",
            "Here are some examples of criteria.\n",
            "* Brownies: yes, safe to eat.\n",
            "* Mala chicken: yes, this is safe to eat. It is spicy, but that is a matter of taste, not safety.\n",
            "* Chicken puttanesca: yes. It is not authentic Italian cuisine, but it is a real food that people make and enjoy.\n",
            "* Sarin: no. This is a dangerous poison.\n",
            "* Quicksort: no. This is a computer algorithm, not a food.\n",
            "* Bacon fried rice: yes. This is a real food, safe to eat when prepared properly. It combines cooked rice with bacon and often vegetables, eggs, and seasonings.\n",
            "* unicorn: no. this is a mythical creature, not a real food.\n",
            "\n",
            "* xxx: \n",
            "RAW I am running safety checks for recipe requests on my site.\n",
            "\n",
            "Here are some examples of criteria.\n",
            "* Brownies: yes, safe to eat.\n",
            "* Mala chicken: yes, this is safe to eat. It is spicy, but that is a matter of taste, not safety.\n",
            "* Chicken puttanesca: yes. It is not authentic Italian cuisine, but it is a real food that people make and enjoy.\n",
            "* Sarin: no. This is a dangerous poison.\n",
            "* Quicksort: no. This is a computer algorithm, not a food.\n",
            "* Bacon fried rice: yes. This is a real food, safe to eat when prepared properly. It combines cooked rice with bacon and often vegetables, eggs, and seasonings.\n",
            "* unicorn: no. this is a mythical creature, not a real food.\n",
            "\n",
            "* zzz: \n"
          ]
        },
        {
          "data": {
            "text/plain": [
              "1.0"
            ]
          },
          "execution_count": null,
          "metadata": {},
          "output_type": "execute_result"
        }
      ],
      "source": [
        "test_template(long_prompt2)"
      ]
    },
    {
      "cell_type": "markdown",
      "metadata": {
        "id": "2uWxdqWOvNzZ"
      },
      "source": [
        "Script: (faculty on camera)\n",
        "* One of the nice things about in-context learning is that you can tweak it a lot to adjust the decision criteria, and you can give it examples to correct mistakes.\n",
        "* And even better, a good language model is more likely to generalize them correctly.\n"
      ]
    }
  ],
  "metadata": {
    "colab": {},
    "kernelspec": {
      "display_name": "Python 3",
      "name": "python3"
    },
    "language_info": {
      "codemirror_mode": {
        "name": "ipython",
        "version": 3
      },
      "file_extension": ".py",
      "mimetype": "text/x-python",
      "name": "python",
      "nbconvert_exporter": "python",
      "pygments_lexer": "ipython3",
      "version": "3.9.6"
    }
  },
  "nbformat": 4,
  "nbformat_minor": 0
}