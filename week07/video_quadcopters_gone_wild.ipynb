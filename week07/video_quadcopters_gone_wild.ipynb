{
  "cells": [
    {
      "cell_type": "markdown",
      "metadata": {
        "id": "Mty5wKaXtPNY"
      },
      "source": [
        "# Video: Quadcopters Gone Wild\n",
        "\n",
        "This video shows the effects a quadcopter trying to maintain position with an incorrect model."
      ]
    },
    {
      "cell_type": "markdown",
      "metadata": {
        "id": "o4z88PdrqXac"
      },
      "source": [
        "Script:\n",
        "* An explicit assumption that we've made in our analysis of linear quadratic regulators is that the model of the system is known beforehand.\n",
        "* This is a separate problem from measuring the current state of the system which keeps changing.\n",
        "* If our model is wrong, we may not be able to compensate for errors in the state measurement.\n",
        "* Let's see how it is with the quadcopter control problem."
      ]
    },
    {
      "cell_type": "code",
      "execution_count": null,
      "metadata": {
        "id": "eFKSY4EdnrKk"
      },
      "outputs": [],
      "source": [
        "%pip install -q control"
      ]
    },
    {
      "cell_type": "code",
      "execution_count": null,
      "metadata": {
        "id": "STY2UxWFnr4N"
      },
      "outputs": [],
      "source": [
        "import matplotlib.pyplot as plt\n",
        "import numpy as np\n",
        "\n",
        "import control"
      ]
    },
    {
      "cell_type": "markdown",
      "metadata": {
        "id": "p8ZNxJ-RqZol"
      },
      "source": [
        "Script:\n",
        "* I'll be using the Python `control` module again."
      ]
    },
    {
      "cell_type": "code",
      "execution_count": null,
      "metadata": {
        "colab": {
          "base_uri": "https://localhost:8080/"
        },
        "id": "8-6lB3J2oKEf",
        "outputId": "5b6eccd5-18dc-41c8-aad9-f4a774096ef2"
      },
      "outputs": [
        {
          "data": {
            "text/plain": [
              "array([[1, 1],\n",
              "       [0, 1]])"
            ]
          },
          "execution_count": null,
          "metadata": {},
          "output_type": "execute_result"
        }
      ],
      "source": [
        "A_truth = np.array([[1, 1], [0, 1]])\n",
        "A_truth"
      ]
    },
    {
      "cell_type": "code",
      "execution_count": null,
      "metadata": {
        "colab": {
          "base_uri": "https://localhost:8080/"
        },
        "id": "9T6dLQz4odcJ",
        "outputId": "2246a4fd-31ed-415a-e647-5544e5696742"
      },
      "outputs": [
        {
          "data": {
            "text/plain": [
              "array([[0],\n",
              "       [1]])"
            ]
          },
          "execution_count": null,
          "metadata": {},
          "output_type": "execute_result"
        }
      ],
      "source": [
        "B_truth = np.array([[0], [1]])\n",
        "B_truth"
      ]
    },
    {
      "cell_type": "markdown",
      "metadata": {
        "id": "glgDwoBQqbOG"
      },
      "source": [
        "Script:\n",
        "* I'll be making two copies of the variables for the linear dynamics.\n",
        "* The linear dynamics represented by the A and B matrices are the model that we need to estimate for the linear quadratic regulator.\n",
        "* A_truth and B_truth will be the true dynamics of the system."
      ]
    },
    {
      "cell_type": "code",
      "execution_count": null,
      "metadata": {
        "colab": {
          "base_uri": "https://localhost:8080/"
        },
        "id": "DvC9XZzQoN8V",
        "outputId": "ddb62b14-fca5-4f8d-cc97-fdba76fe4768"
      },
      "outputs": [
        {
          "data": {
            "text/plain": [
              "(array([[ 1.0553369 ,  0.97176068],\n",
              "        [-0.03976916,  0.60547745]]),\n",
              " array([[-0.00101913],\n",
              "        [ 0.85581268]]))"
            ]
          },
          "execution_count": null,
          "metadata": {},
          "output_type": "execute_result"
        }
      ],
      "source": [
        "np.random.seed(704)\n",
        "A_estimated = A_truth + 0.2 * np.random.randn(2, 2)\n",
        "B_estimated = B_truth + 0.2 * np.random.randn(2, 1)\n",
        "\n",
        "A_estimated, B_estimated"
      ]
    },
    {
      "cell_type": "markdown",
      "metadata": {
        "id": "drt2oAiCqdL7"
      },
      "source": [
        "Script:\n",
        "* A_estimated and B_estimated will be our estimated model.\n",
        "* I just added some Gaussian noise to each parameter."
      ]
    },
    {
      "cell_type": "code",
      "execution_count": null,
      "metadata": {
        "id": "qOLzNA9YornN"
      },
      "outputs": [],
      "source": [
        "Q = np.array([[1, 0], [0, 1]])\n",
        "R = np.array([[1]])"
      ]
    },
    {
      "cell_type": "markdown",
      "metadata": {
        "id": "iFUSZXNSqeEN"
      },
      "source": [
        "Script:\n",
        "* Our cost functions won't have any estimation issues since we just choose our cost functions based on how we want to shape the solution."
      ]
    },
    {
      "cell_type": "code",
      "execution_count": null,
      "metadata": {
        "colab": {
          "base_uri": "https://localhost:8080/"
        },
        "id": "zU3FJm_bocVy",
        "outputId": "6e524e69-8f6b-476e-9911-45e24cdf9a53"
      },
      "outputs": [
        {
          "data": {
            "text/plain": [
              "array([[-100],\n",
              "       [   0]])"
            ]
          },
          "execution_count": null,
          "metadata": {},
          "output_type": "execute_result"
        }
      ],
      "source": [
        "x_0 = np.array([[-100], [0]])\n",
        "x_0"
      ]
    },
    {
      "cell_type": "markdown",
      "metadata": {
        "id": "bTCT5GSpqf1Z"
      },
      "source": [
        "Script:\n",
        "* Like the previous video, the quadcopter will start at -100 and need to take off and fly to the set point."
      ]
    },
    {
      "cell_type": "code",
      "execution_count": null,
      "metadata": {
        "colab": {
          "base_uri": "https://localhost:8080/"
        },
        "id": "APedFsvsoyn4",
        "outputId": "d5a13d74-10eb-41ba-bd9a-5dff0eb2d474"
      },
      "outputs": [
        {
          "data": {
            "text/plain": [
              "array([[0.42208244, 1.24392885]])"
            ]
          },
          "execution_count": null,
          "metadata": {},
          "output_type": "execute_result"
        }
      ],
      "source": [
        "K_truth, _, _ = control.dlqr(A_truth, B_truth, Q, R)\n",
        "K_truth"
      ]
    },
    {
      "cell_type": "markdown",
      "metadata": {
        "id": "bpudyommqg_3"
      },
      "source": [
        "Script:\n",
        "* K_truth is the matrix for optimal action selection knowing the true dynamics."
      ]
    },
    {
      "cell_type": "code",
      "execution_count": null,
      "metadata": {
        "colab": {
          "base_uri": "https://localhost:8080/"
        },
        "id": "MfNUfpFRouBn",
        "outputId": "84be436e-7b50-4057-a19b-76c9e45a17e7"
      },
      "outputs": [
        {
          "data": {
            "text/plain": [
              "array([[0.53814926, 1.06083583]])"
            ]
          },
          "execution_count": null,
          "metadata": {},
          "output_type": "execute_result"
        }
      ],
      "source": [
        "K_estimated, _, _ = control.dlqr(A_estimated, B_estimated, Q, R)\n",
        "K_estimated"
      ]
    },
    {
      "cell_type": "markdown",
      "metadata": {
        "id": "Ic3cSXN2qhuF"
      },
      "source": [
        "Script:\n",
        "* K_estimated is the matrix that we computed from the estimated dynamics.\n",
        "* In comparison with K_truth, the second matrix reacts more to the vertical position and less to the velocity.\n",
        "* We will see what impact that has shortly."
      ]
    },
    {
      "cell_type": "code",
      "execution_count": null,
      "metadata": {
        "id": "aNp3-o2sqmwB"
      },
      "outputs": [],
      "source": [
        "t_max = 20\n",
        "\n",
        "X_truth = [x_0]\n",
        "X_estimated = [x_0]\n",
        "\n",
        "ts = np.arange(0, t_max+1)\n",
        "for t in range(1, t_max+1):\n",
        "    X_truth.append(A_truth @ X_truth[t-1] + B_truth @ -K_truth @ X_truth[t-1])\n",
        "    X_estimated.append(A_truth @ X_estimated[t-1] + B_truth @ -K_estimated @ X_estimated[t-1])\n",
        "\n",
        "X_truth = np.concat(X_truth, axis=1)\n",
        "X_estimated = np.concat(X_estimated, axis=1)"
      ]
    },
    {
      "cell_type": "markdown",
      "metadata": {
        "id": "a8oNwpyQqn8h"
      },
      "source": [
        "Script:\n",
        "* This simulation tracks two trajectories, one using K_truth and one using K_estimated.\n",
        "* One thing to note here is that the state changes are always calculated with the true dynamics even while the actions may be computed with the estimated dynamics.\n",
        "* How do these trajectories look?"
      ]
    },
    {
      "cell_type": "code",
      "execution_count": null,
      "metadata": {
        "colab": {
          "base_uri": "https://localhost:8080/",
          "height": 472
        },
        "id": "cWh_L3V4ooKG",
        "outputId": "cf15f995-22f4-4a2d-e9ca-1cfbe71beb0c"
      },
      "outputs": [
        {
          "data": {
            "image/png": "[encoded data removed]",
            "text/plain": [
              "<Figure size 640x480 with 1 Axes>"
            ]
          },
          "metadata": {},
          "output_type": "display_data"
        }
      ],
      "source": [
        "plt.plot(ts, X_truth[0, :], label='Truth')\n",
        "plt.plot(ts, X_estimated[0, :], label='Estimated')\n",
        "plt.legend()\n",
        "plt.title(\"Quadcopter Control with True vs Estimated Dynamics\")\n",
        "plt.xlabel('Time (s)')\n",
        "plt.ylabel('Height')\n",
        "plt.show()"
      ]
    },
    {
      "cell_type": "markdown",
      "metadata": {
        "id": "P2YdpCMwqqnZ"
      },
      "source": [
        "Script:\n",
        "* The trajectory based on estimated dynamics overshot by a lot, and then oscillated a bit before converging to the set point.\n",
        "* That initial reaction was a bit predictable since we noted that it overreacted to the position and underreacted to velocity.\n",
        "* This case was not too bad though - despite overshooting, it was able to stabilize at the set point."
      ]
    },
    {
      "cell_type": "markdown",
      "metadata": {
        "id": "9Lt8q4uAqrPw"
      },
      "source": [
        "Script: (faculty on screen)\n",
        "* Linear quadratic regulators are a powerful control technique, but they need good models for good control."
      ]
    }
  ],
  "metadata": {
    "colab": {},
    "kernelspec": {
      "display_name": "Python 3",
      "name": "python3"
    },
    "language_info": {
      "codemirror_mode": {
        "name": "ipython",
        "version": 3
      },
      "file_extension": ".py",
      "mimetype": "text/x-python",
      "name": "python",
      "nbconvert_exporter": "python",
      "pygments_lexer": "ipython3",
      "version": "3.9.6"
    }
  },
  "nbformat": 4,
  "nbformat_minor": 0
}