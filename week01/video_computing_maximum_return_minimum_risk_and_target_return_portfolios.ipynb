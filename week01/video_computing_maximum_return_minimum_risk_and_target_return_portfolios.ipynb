{
  "cells": [
    {
      "cell_type": "markdown",
      "metadata": {
        "id": "3jKAMJTzEg6i"
      },
      "source": [
        "# Video: Computing Maximum Return, Minimum Risk, and Target Return Portfolios\n",
        "\n",
        "Given a risk-return model, the maximum return and minimum risk portfolios can be easily computed.\n",
        "This video will walk you through that process using the CVXPY Python library."
      ]
    },
    {
      "cell_type": "markdown",
      "metadata": {
        "id": "N8EXv_i_gTdw"
      },
      "source": [
        "Script:\n",
        "* I am going to show you how to compute different interesting portfolios using linear and quadratic programming solvers.\n",
        "* I will start with the maximum return and minimum risk portfolios and show you how to construct them easily with the CVXPY Python library.\n",
        "* The maximum return portfolio will be chosen solely based on returns.\n",
        "* And the minimum risk portfolio will be chosen solely based on risks.\n",
        "* Then I will show you how to pick portfolios in between that achieve a given return with the minimum possible risk.\n",
        "* That optimization will require considerations of both risk and return to be balanced, but you will see that the optimization library can easily handle it for us.\n",
        "* Let's get started.\n"
      ]
    },
    {
      "cell_type": "code",
      "execution_count": null,
      "metadata": {
        "id": "o-n_hF_VJb9Q"
      },
      "outputs": [],
      "source": [
        "# adjusted closing price data from\n",
        "# https://finance.yahoo.com/quote/AAPL/history/\n",
        "# https://finance.yahoo.com/quote/SPY/history/\n",
        "# https://finance.yahoo.com/quote/TSLA/history/\n",
        "\n",
        "import pandas as pd\n",
        "\n",
        "historical_prices_url = \"https://raw.githubusercontent.com/bu-cds-omds/dx704-examples/refs/heads/main/data/prices-monthly.tsv\"\n",
        "historical_prices = pd.read_csv(historical_prices_url, sep=\"\\t\")\n",
        "historical_prices = historical_prices.set_index(\"date\")\n",
        "\n",
        "historical_returns = historical_prices.pct_change().dropna()\n",
        "estimated_returns = historical_returns.mean().rename(\"return\")\n",
        "\n",
        "estimated_covariance = historical_returns.cov()"
      ]
    },
    {
      "cell_type": "markdown",
      "metadata": {
        "id": "zZNmdxhVgZz5"
      },
      "source": [
        "Script:\n",
        "* I already loaded our historical data and estimated the returns and covariances of our risk model.\n",
        "* Let's take a look."
      ]
    },
    {
      "cell_type": "code",
      "execution_count": null,
      "metadata": {
        "colab": {
          "base_uri": "https://localhost:8080/",
          "height": 176
        },
        "id": "wfqi_1OaloQ8",
        "outputId": "76aed9f1-4c8d-4285-ba7b-e93cf44a0d21"
      },
      "outputs": [
        {
          "data": {
            "text/html": [
              "<div>\n",
              "<style scoped>\n",
              "    .dataframe tbody tr th:only-of-type {\n",
              "        vertical-align: middle;\n",
              "    }\n",
              "\n",
              "    .dataframe tbody tr th {\n",
              "        vertical-align: top;\n",
              "    }\n",
              "\n",
              "    .dataframe thead th {\n",
              "        text-align: right;\n",
              "    }\n",
              "</style>\n",
              "<table border=\"1\" class=\"dataframe\">\n",
              "  <thead>\n",
              "    <tr style=\"text-align: right;\">\n",
              "      <th></th>\n",
              "      <th>return</th>\n",
              "    </tr>\n",
              "  </thead>\n",
              "  <tbody>\n",
              "    <tr>\n",
              "      <th>AAPL</th>\n",
              "      <td>0.010874</td>\n",
              "    </tr>\n",
              "    <tr>\n",
              "      <th>SPY</th>\n",
              "      <td>0.005057</td>\n",
              "    </tr>\n",
              "    <tr>\n",
              "      <th>TSLA</th>\n",
              "      <td>0.057663</td>\n",
              "    </tr>\n",
              "  </tbody>\n",
              "</table>\n",
              "</div><br><label><b>dtype:</b> float64</label>"
            ],
            "text/plain": [
              "AAPL    0.010874\n",
              "SPY     0.005057\n",
              "TSLA    0.057663\n",
              "Name: return, dtype: float64"
            ]
          },
          "execution_count": null,
          "metadata": {},
          "output_type": "execute_result"
        }
      ],
      "source": [
        "estimated_returns"
      ]
    },
    {
      "cell_type": "markdown",
      "metadata": {
        "id": "yMyfvbLTl58R"
      },
      "source": [
        "Script:\n",
        "* And here are the covariances."
      ]
    },
    {
      "cell_type": "code",
      "execution_count": null,
      "metadata": {
        "colab": {
          "base_uri": "https://localhost:8080/",
          "height": 142
        },
        "id": "5UBK1EQzlqRW",
        "outputId": "22dfdc3b-4aa0-4fc9-8602-e499d8e6f4b0"
      },
      "outputs": [
        {
          "data": {
            "application/vnd.google.colaboratory.intrinsic+json": {
              "summary": "{\n  \"name\": \"estimated_covariance\",\n  \"rows\": 3,\n  \"fields\": [\n    {\n      \"column\": \"AAPL\",\n      \"properties\": {\n        \"dtype\": \"number\",\n        \"std\": 0.0017236740857064308,\n        \"min\": 0.0009292599488381535,\n        \"max\": 0.004327929797134499,\n        \"num_unique_values\": 3,\n        \"samples\": [\n          0.0031285343772452625,\n          0.0009292599488381535,\n          0.004327929797134499\n        ],\n        \"semantic_type\": \"\",\n        \"description\": \"\"\n      }\n    },\n    {\n      \"column\": \"SPY\",\n      \"properties\": {\n        \"dtype\": \"number\",\n        \"std\": 0.0013141277590468486,\n        \"min\": 0.0009292599488381535,\n        \"max\": 0.0032643159404339706,\n        \"num_unique_values\": 3,\n        \"samples\": [\n          0.0009292599488381535,\n          0.001052072462613883,\n          0.0032643159404339706\n        ],\n        \"semantic_type\": \"\",\n        \"description\": \"\"\n      }\n    },\n    {\n      \"column\": \"TSLA\",\n      \"properties\": {\n        \"dtype\": \"number\",\n        \"std\": 0.017137607772575662,\n        \"min\": 0.0032643159404339706,\n        \"max\": 0.03346503495994142,\n        \"num_unique_values\": 3,\n        \"samples\": [\n          0.004327929797134499,\n          0.0032643159404339706,\n          0.03346503495994142\n        ],\n        \"semantic_type\": \"\",\n        \"description\": \"\"\n      }\n    }\n  ]\n}",
              "type": "dataframe",
              "variable_name": "estimated_covariance"
            },
            "text/html": [
              "\n",
              "  <div id=\"df-17a34e28-7302-41ae-a2ab-1c6f373c9b01\" class=\"colab-df-container\">\n",
              "    <div>\n",
              "<style scoped>\n",
              "    .dataframe tbody tr th:only-of-type {\n",
              "        vertical-align: middle;\n",
              "    }\n",
              "\n",
              "    .dataframe tbody tr th {\n",
              "        vertical-align: top;\n",
              "    }\n",
              "\n",
              "    .dataframe thead th {\n",
              "        text-align: right;\n",
              "    }\n",
              "</style>\n",
              "<table border=\"1\" class=\"dataframe\">\n",
              "  <thead>\n",
              "    <tr style=\"text-align: right;\">\n",
              "      <th></th>\n",
              "      <th>AAPL</th>\n",
              "      <th>SPY</th>\n",
              "      <th>TSLA</th>\n",
              "    </tr>\n",
              "  </thead>\n",
              "  <tbody>\n",
              "    <tr>\n",
              "      <th>AAPL</th>\n",
              "      <td>0.003129</td>\n",
              "      <td>0.000929</td>\n",
              "      <td>0.004328</td>\n",
              "    </tr>\n",
              "    <tr>\n",
              "      <th>SPY</th>\n",
              "      <td>0.000929</td>\n",
              "      <td>0.001052</td>\n",
              "      <td>0.003264</td>\n",
              "    </tr>\n",
              "    <tr>\n",
              "      <th>TSLA</th>\n",
              "      <td>0.004328</td>\n",
              "      <td>0.003264</td>\n",
              "      <td>0.033465</td>\n",
              "    </tr>\n",
              "  </tbody>\n",
              "</table>\n",
              "</div>\n",
              "    <div class=\"colab-df-buttons\">\n",
              "\n",
              "  <div class=\"colab-df-container\">\n",
              "    <button class=\"colab-df-convert\" onclick=\"convertToInteractive('df-17a34e28-7302-41ae-a2ab-1c6f373c9b01')\"\n",
              "            title=\"Convert this dataframe to an interactive table.\"\n",
              "            style=\"display:none;\">\n",
              "\n",
              "  <svg xmlns=\"http://www.w3.org/2000/svg\" height=\"24px\" viewBox=\"0 -960 960 960\">\n",
              "    <path d=\"M120-120v-720h720v720H120Zm60-500h600v-160H180v160Zm220 220h160v-160H400v160Zm0 220h160v-160H400v160ZM180-400h160v-160H180v160Zm440 0h160v-160H620v160ZM180-180h160v-160H180v160Zm440 0h160v-160H620v160Z\"/>\n",
              "  </svg>\n",
              "    </button>\n",
              "\n",
              "  <style>\n",
              "    .colab-df-container {\n",
              "      display:flex;\n",
              "      gap: 12px;\n",
              "    }\n",
              "\n",
              "    .colab-df-convert {\n",
              "      background-color: #E8F0FE;\n",
              "      border: none;\n",
              "      border-radius: 50%;\n",
              "      cursor: pointer;\n",
              "      display: none;\n",
              "      fill: #1967D2;\n",
              "      height: 32px;\n",
              "      padding: 0 0 0 0;\n",
              "      width: 32px;\n",
              "    }\n",
              "\n",
              "    .colab-df-convert:hover {\n",
              "      background-color: #E2EBFA;\n",
              "      box-shadow: 0px 1px 2px rgba(60, 64, 67, 0.3), 0px 1px 3px 1px rgba(60, 64, 67, 0.15);\n",
              "      fill: #174EA6;\n",
              "    }\n",
              "\n",
              "    .colab-df-buttons div {\n",
              "      margin-bottom: 4px;\n",
              "    }\n",
              "\n",
              "    [theme=dark] .colab-df-convert {\n",
              "      background-color: #3B4455;\n",
              "      fill: #D2E3FC;\n",
              "    }\n",
              "\n",
              "    [theme=dark] .colab-df-convert:hover {\n",
              "      background-color: #434B5C;\n",
              "      box-shadow: 0px 1px 3px 1px rgba(0, 0, 0, 0.15);\n",
              "      filter: drop-shadow(0px 1px 2px rgba(0, 0, 0, 0.3));\n",
              "      fill: #FFFFFF;\n",
              "    }\n",
              "  </style>\n",
              "\n",
              "    <script>\n",
              "      const buttonEl =\n",
              "        document.querySelector('#df-17a34e28-7302-41ae-a2ab-1c6f373c9b01 button.colab-df-convert');\n",
              "      buttonEl.style.display =\n",
              "        google.colab.kernel.accessAllowed ? 'block' : 'none';\n",
              "\n",
              "      async function convertToInteractive(key) {\n",
              "        const element = document.querySelector('#df-17a34e28-7302-41ae-a2ab-1c6f373c9b01');\n",
              "        const dataTable =\n",
              "          await google.colab.kernel.invokeFunction('convertToInteractive',\n",
              "                                                    [key], {});\n",
              "        if (!dataTable) return;\n",
              "\n",
              "        const docLinkHtml = 'Like what you see? Visit the ' +\n",
              "          '<a target=\"_blank\" href=https://colab.research.google.com/notebooks/data_table.ipynb>data table notebook</a>'\n",
              "          + ' to learn more about interactive tables.';\n",
              "        element.innerHTML = '';\n",
              "        dataTable['output_type'] = 'display_data';\n",
              "        await google.colab.output.renderOutput(dataTable, element);\n",
              "        const docLink = document.createElement('div');\n",
              "        docLink.innerHTML = docLinkHtml;\n",
              "        element.appendChild(docLink);\n",
              "      }\n",
              "    </script>\n",
              "  </div>\n",
              "\n",
              "\n",
              "    <div id=\"df-e4332292-2437-464e-98de-14b8d6190d50\">\n",
              "      <button class=\"colab-df-quickchart\" onclick=\"quickchart('df-e4332292-2437-464e-98de-14b8d6190d50')\"\n",
              "                title=\"Suggest charts\"\n",
              "                style=\"display:none;\">\n",
              "\n",
              "<svg xmlns=\"http://www.w3.org/2000/svg\" height=\"24px\"viewBox=\"0 0 24 24\"\n",
              "     width=\"24px\">\n",
              "    <g>\n",
              "        <path d=\"M19 3H5c-1.1 0-2 .9-2 2v14c0 1.1.9 2 2 2h14c1.1 0 2-.9 2-2V5c0-1.1-.9-2-2-2zM9 17H7v-7h2v7zm4 0h-2V7h2v10zm4 0h-2v-4h2v4z\"/>\n",
              "    </g>\n",
              "</svg>\n",
              "      </button>\n",
              "\n",
              "<style>\n",
              "  .colab-df-quickchart {\n",
              "      --bg-color: #E8F0FE;\n",
              "      --fill-color: #1967D2;\n",
              "      --hover-bg-color: #E2EBFA;\n",
              "      --hover-fill-color: #174EA6;\n",
              "      --disabled-fill-color: #AAA;\n",
              "      --disabled-bg-color: #DDD;\n",
              "  }\n",
              "\n",
              "  [theme=dark] .colab-df-quickchart {\n",
              "      --bg-color: #3B4455;\n",
              "      --fill-color: #D2E3FC;\n",
              "      --hover-bg-color: #434B5C;\n",
              "      --hover-fill-color: #FFFFFF;\n",
              "      --disabled-bg-color: #3B4455;\n",
              "      --disabled-fill-color: #666;\n",
              "  }\n",
              "\n",
              "  .colab-df-quickchart {\n",
              "    background-color: var(--bg-color);\n",
              "    border: none;\n",
              "    border-radius: 50%;\n",
              "    cursor: pointer;\n",
              "    display: none;\n",
              "    fill: var(--fill-color);\n",
              "    height: 32px;\n",
              "    padding: 0;\n",
              "    width: 32px;\n",
              "  }\n",
              "\n",
              "  .colab-df-quickchart:hover {\n",
              "    background-color: var(--hover-bg-color);\n",
              "    box-shadow: 0 1px 2px rgba(60, 64, 67, 0.3), 0 1px 3px 1px rgba(60, 64, 67, 0.15);\n",
              "    fill: var(--button-hover-fill-color);\n",
              "  }\n",
              "\n",
              "  .colab-df-quickchart-complete:disabled,\n",
              "  .colab-df-quickchart-complete:disabled:hover {\n",
              "    background-color: var(--disabled-bg-color);\n",
              "    fill: var(--disabled-fill-color);\n",
              "    box-shadow: none;\n",
              "  }\n",
              "\n",
              "  .colab-df-spinner {\n",
              "    border: 2px solid var(--fill-color);\n",
              "    border-color: transparent;\n",
              "    border-bottom-color: var(--fill-color);\n",
              "    animation:\n",
              "      spin 1s steps(1) infinite;\n",
              "  }\n",
              "\n",
              "  @keyframes spin {\n",
              "    0% {\n",
              "      border-color: transparent;\n",
              "      border-bottom-color: var(--fill-color);\n",
              "      border-left-color: var(--fill-color);\n",
              "    }\n",
              "    20% {\n",
              "      border-color: transparent;\n",
              "      border-left-color: var(--fill-color);\n",
              "      border-top-color: var(--fill-color);\n",
              "    }\n",
              "    30% {\n",
              "      border-color: transparent;\n",
              "      border-left-color: var(--fill-color);\n",
              "      border-top-color: var(--fill-color);\n",
              "      border-right-color: var(--fill-color);\n",
              "    }\n",
              "    40% {\n",
              "      border-color: transparent;\n",
              "      border-right-color: var(--fill-color);\n",
              "      border-top-color: var(--fill-color);\n",
              "    }\n",
              "    60% {\n",
              "      border-color: transparent;\n",
              "      border-right-color: var(--fill-color);\n",
              "    }\n",
              "    80% {\n",
              "      border-color: transparent;\n",
              "      border-right-color: var(--fill-color);\n",
              "      border-bottom-color: var(--fill-color);\n",
              "    }\n",
              "    90% {\n",
              "      border-color: transparent;\n",
              "      border-bottom-color: var(--fill-color);\n",
              "    }\n",
              "  }\n",
              "</style>\n",
              "\n",
              "      <script>\n",
              "        async function quickchart(key) {\n",
              "          const quickchartButtonEl =\n",
              "            document.querySelector('#' + key + ' button');\n",
              "          quickchartButtonEl.disabled = true;  // To prevent multiple clicks.\n",
              "          quickchartButtonEl.classList.add('colab-df-spinner');\n",
              "          try {\n",
              "            const charts = await google.colab.kernel.invokeFunction(\n",
              "                'suggestCharts', [key], {});\n",
              "          } catch (error) {\n",
              "            console.error('Error during call to suggestCharts:', error);\n",
              "          }\n",
              "          quickchartButtonEl.classList.remove('colab-df-spinner');\n",
              "          quickchartButtonEl.classList.add('colab-df-quickchart-complete');\n",
              "        }\n",
              "        (() => {\n",
              "          let quickchartButtonEl =\n",
              "            document.querySelector('#df-e4332292-2437-464e-98de-14b8d6190d50 button');\n",
              "          quickchartButtonEl.style.display =\n",
              "            google.colab.kernel.accessAllowed ? 'block' : 'none';\n",
              "        })();\n",
              "      </script>\n",
              "    </div>\n",
              "\n",
              "  <div id=\"id_9f84a5f3-5c1d-4298-81fd-c990e9b44c2b\">\n",
              "    <style>\n",
              "      .colab-df-generate {\n",
              "        background-color: #E8F0FE;\n",
              "        border: none;\n",
              "        border-radius: 50%;\n",
              "        cursor: pointer;\n",
              "        display: none;\n",
              "        fill: #1967D2;\n",
              "        height: 32px;\n",
              "        padding: 0 0 0 0;\n",
              "        width: 32px;\n",
              "      }\n",
              "\n",
              "      .colab-df-generate:hover {\n",
              "        background-color: #E2EBFA;\n",
              "        box-shadow: 0px 1px 2px rgba(60, 64, 67, 0.3), 0px 1px 3px 1px rgba(60, 64, 67, 0.15);\n",
              "        fill: #174EA6;\n",
              "      }\n",
              "\n",
              "      [theme=dark] .colab-df-generate {\n",
              "        background-color: #3B4455;\n",
              "        fill: #D2E3FC;\n",
              "      }\n",
              "\n",
              "      [theme=dark] .colab-df-generate:hover {\n",
              "        background-color: #434B5C;\n",
              "        box-shadow: 0px 1px 3px 1px rgba(0, 0, 0, 0.15);\n",
              "        filter: drop-shadow(0px 1px 2px rgba(0, 0, 0, 0.3));\n",
              "        fill: #FFFFFF;\n",
              "      }\n",
              "    </style>\n",
              "    <button class=\"colab-df-generate\" onclick=\"generateWithVariable('estimated_covariance')\"\n",
              "            title=\"Generate code using this dataframe.\"\n",
              "            style=\"display:none;\">\n",
              "\n",
              "  <svg xmlns=\"http://www.w3.org/2000/svg\" height=\"24px\"viewBox=\"0 0 24 24\"\n",
              "       width=\"24px\">\n",
              "    <path d=\"M7,19H8.4L18.45,9,17,7.55,7,17.6ZM5,21V16.75L18.45,3.32a2,2,0,0,1,2.83,0l1.4,1.43a1.91,1.91,0,0,1,.58,1.4,1.91,1.91,0,0,1-.58,1.4L9.25,21ZM18.45,9,17,7.55Zm-12,3A5.31,5.31,0,0,0,4.9,8.1,5.31,5.31,0,0,0,1,6.5,5.31,5.31,0,0,0,4.9,4.9,5.31,5.31,0,0,0,6.5,1,5.31,5.31,0,0,0,8.1,4.9,5.31,5.31,0,0,0,12,6.5,5.46,5.46,0,0,0,6.5,12Z\"/>\n",
              "  </svg>\n",
              "    </button>\n",
              "    <script>\n",
              "      (() => {\n",
              "      const buttonEl =\n",
              "        document.querySelector('#id_9f84a5f3-5c1d-4298-81fd-c990e9b44c2b button.colab-df-generate');\n",
              "      buttonEl.style.display =\n",
              "        google.colab.kernel.accessAllowed ? 'block' : 'none';\n",
              "\n",
              "      buttonEl.onclick = () => {\n",
              "        google.colab.notebook.generateWithVariable('estimated_covariance');\n",
              "      }\n",
              "      })();\n",
              "    </script>\n",
              "  </div>\n",
              "\n",
              "    </div>\n",
              "  </div>\n"
            ],
            "text/plain": [
              "          AAPL       SPY      TSLA\n",
              "AAPL  0.003129  0.000929  0.004328\n",
              "SPY   0.000929  0.001052  0.003264\n",
              "TSLA  0.004328  0.003264  0.033465"
            ]
          },
          "execution_count": null,
          "metadata": {},
          "output_type": "execute_result"
        }
      ],
      "source": [
        "estimated_covariance"
      ]
    },
    {
      "cell_type": "markdown",
      "metadata": {
        "id": "mV9avHAAmAiE"
      },
      "source": [
        "Script:\n",
        "* We will use the CVXPY library to optimize our portfolios."
      ]
    },
    {
      "cell_type": "code",
      "execution_count": null,
      "metadata": {
        "id": "2Xc60iw8gbyV"
      },
      "outputs": [],
      "source": [
        "import cvxpy as cp"
      ]
    },
    {
      "cell_type": "markdown",
      "metadata": {
        "id": "7EC5w1yelT5Z"
      },
      "source": [
        "Script:\n",
        "* The first question setting up the optimization will be, how many variables are being optimized?\n",
        "* Our variables will be the allocations of each asset, so we will have one variable per asset."
      ]
    },
    {
      "cell_type": "code",
      "execution_count": null,
      "metadata": {
        "id": "moHfR7OGge1w"
      },
      "outputs": [],
      "source": [
        "# number of assets\n",
        "n = len(estimated_returns)"
      ]
    },
    {
      "cell_type": "markdown",
      "metadata": {
        "id": "hFz9oiKAmmT2"
      },
      "source": [
        "Script:\n",
        "* CVXPY has its own representation to track variables which we will initialize with the number of variables."
      ]
    },
    {
      "cell_type": "code",
      "execution_count": null,
      "metadata": {
        "id": "OTNetHiaggFO"
      },
      "outputs": [],
      "source": [
        "# create variables to optimize\n",
        "x = cp.Variable(n)"
      ]
    },
    {
      "cell_type": "markdown",
      "metadata": {
        "id": "hEbc7pyvmtaL"
      },
      "source": [
        "Script:\n",
        "* Next we will create the objective function.\n",
        "* There is one idiosyncracy converting the pandas data frame to a NumPy array to reshape it, but otherwise it looks like NumPy array manipulation."
      ]
    },
    {
      "cell_type": "code",
      "execution_count": null,
      "metadata": {
        "colab": {
          "base_uri": "https://localhost:8080/"
        },
        "id": "Pe2qoe-CtB5K",
        "outputId": "a4f64dbc-f662-435f-ada6-4301101f4be4"
      },
      "outputs": [
        {
          "data": {
            "text/plain": [
              "Maximize(Expression(AFFINE, UNKNOWN, (1,)))"
            ]
          },
          "execution_count": null,
          "metadata": {},
          "output_type": "execute_result"
        }
      ],
      "source": [
        "objective = cp.Maximize(estimated_returns.to_numpy().reshape(1, -1) @ x)\n",
        "objective"
      ]
    },
    {
      "cell_type": "markdown",
      "metadata": {
        "id": "HASrNPeVs9ZQ"
      },
      "source": [
        "Script:\n",
        "* That output is a brief summary of the objective function setup.\n",
        "* We asked it to maximize the objective, and the word affine there includes linear functions.\n",
        "* If we are picky, affine functions allow additive constants while linear functions do not, but most of the time those are all casually referred to as linear.\n",
        "* Now we create the linear programming problem combining the objective function that we just made with some constraints.\n",
        "\n"
      ]
    },
    {
      "cell_type": "code",
      "execution_count": null,
      "metadata": {
        "id": "UHulNpCZgidS"
      },
      "outputs": [],
      "source": [
        "# formulate linear program\n",
        "prob = cp.Problem(objective,\n",
        "                  [0 <= x,\n",
        "                   cp.sum(x) == 1])"
      ]
    },
    {
      "cell_type": "markdown",
      "metadata": {
        "id": "k0AaS5-mmvZX"
      },
      "source": [
        "Script:\n",
        "* These need to use the CVXPY functions to construct sum constraints in a way that they can be re-evaluated later, but otherwise they should be pretty straightforward.\n",
        "* Roughly speaking, any time you would use np.something you should probably use cp.something instead.\n",
        "* Now we can just solve the problem and get the best objective value back."
      ]
    },
    {
      "cell_type": "code",
      "execution_count": null,
      "metadata": {
        "colab": {
          "base_uri": "https://localhost:8080/"
        },
        "id": "YVzbwZXvBDdy",
        "outputId": "e00def25-2600-49b2-eda4-2d1fb4b73785"
      },
      "outputs": [
        {
          "data": {
            "text/plain": [
              "0.05766262507640715"
            ]
          },
          "execution_count": null,
          "metadata": {},
          "output_type": "execute_result"
        }
      ],
      "source": [
        "estimated_return_P = prob.solve()\n",
        "estimated_return_P"
      ]
    },
    {
      "cell_type": "markdown",
      "metadata": {
        "id": "uPvrUDLpGUmx"
      },
      "source": [
        "Script:\n",
        "* The objective function that we maximized was expected return, so that objective value returned is the expected return of the portfolio just optimized.\n",
        "* Does that estimated return number looks familiar?\n",
        "* It is the same as TSLA.\n",
        "* Let's look at the asset weights."
      ]
    },
    {
      "cell_type": "code",
      "execution_count": null,
      "metadata": {
        "colab": {
          "base_uri": "https://localhost:8080/"
        },
        "id": "yJvAahXUGa_4",
        "outputId": "f008094a-f891-4afe-cc97-746ac49ec86d"
      },
      "outputs": [
        {
          "data": {
            "text/plain": [
              "array([2.61628173e-09, 4.87516794e-09, 9.99999993e-01])"
            ]
          },
          "execution_count": null,
          "metadata": {},
          "output_type": "execute_result"
        }
      ],
      "source": [
        "x.value"
      ]
    },
    {
      "cell_type": "markdown",
      "metadata": {
        "id": "fRUKxSJ3GDqA"
      },
      "source": [
        "Script:\n",
        "* The optimized portfolio is all in on the Tesla stock with negligible allocations to the other assets (really numerical error).\n",
        "* Rounding makes this clear."
      ]
    },
    {
      "cell_type": "code",
      "execution_count": null,
      "metadata": {
        "colab": {
          "base_uri": "https://localhost:8080/"
        },
        "id": "TxhiW0arB6WH",
        "outputId": "5699f0ef-6bfb-48c9-96b5-1339bad2341a"
      },
      "outputs": [
        {
          "data": {
            "text/plain": [
              "array([0., 0., 1.])"
            ]
          },
          "execution_count": null,
          "metadata": {},
          "output_type": "execute_result"
        }
      ],
      "source": [
        "x.value.round(2)"
      ]
    },
    {
      "cell_type": "markdown",
      "metadata": {
        "id": "Fj-8i9QHCGrz"
      },
      "source": [
        "Script:\n",
        "* Also note, this was a maximum *monthly* return of almost 6%.\n",
        "* Ignoring risk, that compounds to about 96% annual return.\n"
      ]
    },
    {
      "cell_type": "markdown",
      "metadata": {
        "id": "QxIDo7cvLMXP"
      },
      "source": [
        "Script: (faculty on camera, something in the background flashing red warning lights)\n",
        "* Is that really realistic?\n",
        "* It's a perfect example of why ignoring risk may lead to outright dangerous investment decisions.\n",
        "* So let's look at the other side now, and construct the minimum risk portfolio."
      ]
    },
    {
      "cell_type": "markdown",
      "metadata": {
        "id": "lZLdwdg0v4mq"
      },
      "source": [
        "Script:\n",
        "* We will need separate variables for this optimization, so I'll create them now with a different name for clarity."
      ]
    },
    {
      "cell_type": "code",
      "execution_count": null,
      "metadata": {
        "id": "7zhvmHpBwFvm"
      },
      "outputs": [],
      "source": [
        "# create variables for minimum risk optimization\n",
        "x_minimum_risk = cp.Variable(n)"
      ]
    },
    {
      "cell_type": "markdown",
      "metadata": {
        "id": "V--nWB0WxP9m"
      },
      "source": [
        "Script:\n",
        "* Now we will create the objective function which looks similar to before, but with more matrix multiplications since this objective is quadratic instead of linear."
      ]
    },
    {
      "cell_type": "code",
      "execution_count": null,
      "metadata": {
        "colab": {
          "base_uri": "https://localhost:8080/"
        },
        "id": "k7QJjcJuwLTn",
        "outputId": "22389071-31c8-460d-8f39-ae8bd4785f91"
      },
      "outputs": [
        {
          "data": {
            "text/plain": [
              "Minimize(Expression(CONVEX, NONNEGATIVE, ()))"
            ]
          },
          "execution_count": null,
          "metadata": {},
          "output_type": "execute_result"
        }
      ],
      "source": [
        "objective_minimum_risk = cp.Minimize(x_minimum_risk.T @ estimated_covariance.to_numpy() @ x_minimum_risk)\n",
        "objective_minimum_risk"
      ]
    },
    {
      "cell_type": "markdown",
      "metadata": {
        "id": "b6RUCHJZxO6k"
      },
      "source": [
        "Script:\n",
        "* One thing to note here is that CVXPY classified this function as convex.\n",
        "* Practically, that means that this function can easily be optimized.\n",
        "* If it was not convex, it would be hard to guarantee an optimal solution.\n",
        "* So convex objective functions are generally good.\n",
        "* Let's complete the problem and solve it now."
      ]
    },
    {
      "cell_type": "code",
      "execution_count": null,
      "metadata": {
        "colab": {
          "base_uri": "https://localhost:8080/"
        },
        "id": "fK4HLm_3Lm3j",
        "outputId": "05ba0b6e-35d5-47ff-b865-6ce16aa793ce"
      },
      "outputs": [
        {
          "data": {
            "text/plain": [
              "np.float64(0.0010455770496877266)"
            ]
          },
          "execution_count": null,
          "metadata": {},
          "output_type": "execute_result"
        }
      ],
      "source": [
        "# formulate minimum risk program\n",
        "prob_minimum_risk = cp.Problem(objective_minimum_risk,\n",
        "                               [0 <= x_minimum_risk,\n",
        "                                cp.sum(x_minimum_risk) == 1])\n",
        "\n",
        "covariance_minimum_risk = prob_minimum_risk.solve()\n",
        "covariance_minimum_risk"
      ]
    },
    {
      "cell_type": "markdown",
      "metadata": {
        "id": "2davijvNyT7T"
      },
      "source": [
        "Script:\n",
        "* That's a small number.\n",
        "* How does it compare to the individual asset covariances?"
      ]
    },
    {
      "cell_type": "markdown",
      "metadata": {
        "id": "OsFdhpQwhJSO"
      },
      "source": [
        "##\n",
        "\n",
        "* TODO compare minimum risk vs individual assets"
      ]
    },
    {
      "cell_type": "markdown",
      "metadata": {
        "id": "VoQlNOfILzw-"
      },
      "source": [
        "Script:\n",
        "* That minimum portfolio variance is slightly lower than the covariance of SPY, and much lower than the covariances of the other assets.\n",
        "* The minimum portfolio variance should never have more than the variance than any asset unless the constraints block only allocating that asset.\n",
        "* Otherwise, picking that asset 100% would be a lower variance counter example.\n",
        "* What does this minimum variance portfolio look like?"
      ]
    },
    {
      "cell_type": "code",
      "execution_count": null,
      "metadata": {
        "colab": {
          "base_uri": "https://localhost:8080/"
        },
        "id": "YVBIUG_YLw-5",
        "outputId": "ce99b544-74ec-453d-8945-cb23575ccc4f"
      },
      "outputs": [
        {
          "data": {
            "text/plain": [
              "array([0.05, 0.95, 0.  ])"
            ]
          },
          "execution_count": null,
          "metadata": {},
          "output_type": "execute_result"
        }
      ],
      "source": [
        "x_minimum_risk.value.round(2)"
      ]
    },
    {
      "cell_type": "markdown",
      "metadata": {
        "id": "iUBtARRsLseQ"
      },
      "source": [
        "Script:\n",
        "* It is 95% SPY, 5% AAPL, and no TSLA.\n",
        "* If you are familiar with those tickers, that makes sense.\n",
        "* SPY is an index fund based on the S&P 500 index, while TSLA is for Tesla which has been pretty volatile throughout its history, but especially in the early parts of 2025.\n",
        "* The last ticker, AAPL, is for Apple."
      ]
    },
    {
      "cell_type": "markdown",
      "metadata": {
        "id": "Luc3rnXOM82R"
      },
      "source": [
        "Script:\n",
        "* What is the return of this minimum risk portfolio?"
      ]
    },
    {
      "cell_type": "code",
      "execution_count": null,
      "metadata": {
        "colab": {
          "base_uri": "https://localhost:8080/",
          "height": 178
        },
        "id": "CQyr_oM1NGeS",
        "outputId": "07a02e12-bf95-4875-c6c6-8ef6ba8ec658"
      },
      "outputs": [
        {
          "data": {
            "text/html": [
              "<div>\n",
              "<style scoped>\n",
              "    .dataframe tbody tr th:only-of-type {\n",
              "        vertical-align: middle;\n",
              "    }\n",
              "\n",
              "    .dataframe tbody tr th {\n",
              "        vertical-align: top;\n",
              "    }\n",
              "\n",
              "    .dataframe thead th {\n",
              "        text-align: right;\n",
              "    }\n",
              "</style>\n",
              "<table border=\"1\" class=\"dataframe\">\n",
              "  <thead>\n",
              "    <tr style=\"text-align: right;\">\n",
              "      <th></th>\n",
              "      <th>0</th>\n",
              "    </tr>\n",
              "  </thead>\n",
              "  <tbody>\n",
              "    <tr>\n",
              "      <th>AAPL</th>\n",
              "      <td>0.010874</td>\n",
              "    </tr>\n",
              "    <tr>\n",
              "      <th>SPY</th>\n",
              "      <td>0.005057</td>\n",
              "    </tr>\n",
              "    <tr>\n",
              "      <th>TSLA</th>\n",
              "      <td>0.057663</td>\n",
              "    </tr>\n",
              "  </tbody>\n",
              "</table>\n",
              "</div><br><label><b>dtype:</b> float64</label>"
            ],
            "text/plain": [
              "AAPL    0.010874\n",
              "SPY     0.005057\n",
              "TSLA    0.057663\n",
              "dtype: float64"
            ]
          },
          "execution_count": null,
          "metadata": {},
          "output_type": "execute_result"
        }
      ],
      "source": [
        "estimated_returns = historical_returns.mean()\n",
        "estimated_returns"
      ]
    },
    {
      "cell_type": "code",
      "execution_count": null,
      "metadata": {
        "colab": {
          "base_uri": "https://localhost:8080/"
        },
        "id": "qox19s0mM_BS",
        "outputId": "0e4a9edc-95dd-41b7-d06a-02c2d3ecef65"
      },
      "outputs": [
        {
          "data": {
            "text/plain": [
              "np.float64(0.005364443384876672)"
            ]
          },
          "execution_count": null,
          "metadata": {},
          "output_type": "execute_result"
        }
      ],
      "source": [
        "estimated_return_minimum_risk = x_minimum_risk.value.T @ estimated_returns\n",
        "estimated_return_minimum_risk"
      ]
    },
    {
      "cell_type": "markdown",
      "metadata": {
        "id": "n8mzgk2mNJz_"
      },
      "source": [
        "It is slightly higher than SPY's estimated return; AAPL pulls up the average despite only 5% weight.\n",
        "Still, the higher return of TSLA is nowhere to be seen since the minimum risk portfolio completely avoided that asset."
      ]
    },
    {
      "cell_type": "code",
      "execution_count": null,
      "metadata": {
        "colab": {
          "base_uri": "https://localhost:8080/"
        },
        "id": "S1PTCZWtQViL",
        "outputId": "c412258d-76bc-4b3a-afea-4e6cae1a4e72"
      },
      "outputs": [
        {
          "data": {
            "text/plain": [
              "np.float64(0.008768234579726837)"
            ]
          },
          "execution_count": null,
          "metadata": {},
          "output_type": "execute_result"
        }
      ],
      "source": [
        "target_return = 0.03\n",
        "\n",
        "# create variables to optimize\n",
        "x_target_return = cp.Variable(n)\n",
        "\n",
        "# formulate linear program\n",
        "prob_target_return= cp.Problem(cp.Minimize(x_target_return.T @ historical_covariance.to_numpy() @ x_target_return),\n",
        "                               [0 <= x_target_return,\n",
        "                                cp.sum(x_target_return) == 1,\n",
        "                                x_target_return.T @ estimated_returns == target_return])\n",
        "\n",
        "covariance_target_return = prob_target_return.solve()\n",
        "covariance_target_return"
      ]
    },
    {
      "cell_type": "markdown",
      "metadata": {
        "id": "PncsLf-aRD4b"
      },
      "source": [
        "That covariance is much smaller than the TSLA covariance to achieve maximum return."
      ]
    },
    {
      "cell_type": "markdown",
      "metadata": {
        "id": "FiLMTGUJTMAb"
      },
      "source": [
        "Let's double check the return - was the target hit?"
      ]
    },
    {
      "cell_type": "code",
      "execution_count": null,
      "metadata": {
        "colab": {
          "base_uri": "https://localhost:8080/"
        },
        "id": "Lg5YxH_dTP-S",
        "outputId": "b0ee4bfe-ff13-41ab-e2db-789001f17fdc"
      },
      "outputs": [
        {
          "data": {
            "text/plain": [
              "np.float64(0.029999999999999995)"
            ]
          },
          "execution_count": null,
          "metadata": {},
          "output_type": "execute_result"
        }
      ],
      "source": [
        "estimated_return_target_return = x_target_return.value.T @ estimated_returns\n",
        "estimated_return_target_return"
      ]
    },
    {
      "cell_type": "markdown",
      "metadata": {
        "id": "yRkg1PvMTSxk"
      },
      "source": [
        "Close enough!\n",
        "Now let's compare the optimized portfolios so far with the individual assets."
      ]
    },
    {
      "cell_type": "code",
      "execution_count": null,
      "metadata": {
        "colab": {
          "base_uri": "https://localhost:8080/",
          "height": 472
        },
        "id": "zHboEUV7RIOQ",
        "outputId": "ca83f3fa-e48d-46e5-a020-13a992fe610c"
      },
      "outputs": [
        {
          "data": {
            "image/png": "[encoded data removed]",
            "text/plain": [
              "<Figure size 640x480 with 1 Axes>"
            ]
          },
          "metadata": {},
          "output_type": "display_data"
        }
      ],
      "source": [
        "import matplotlib.pyplot as plt\n",
        "\n",
        "estimated_variances = historical_returns.var()\n",
        "plt.plot(np.sqrt(estimated_variances), estimated_returns, label=\"assets\", linestyle=\"none\", marker=\"o\")\n",
        "\n",
        "plt.plot(np.sqrt(covariance_minimum_risk), estimated_return_minimum_risk, label=\"minimum risk\", linestyle=\"none\", marker=\"x\")\n",
        "plt.plot(np.sqrt(covariance_target_return), estimated_return_target_return, label=f\"target return={target_return:.2f}\", linestyle=\"none\", marker=\"x\")\n",
        "\n",
        "plt.legend()\n",
        "plt.xlabel(\"standard deviation\")\n",
        "plt.xlim(0)\n",
        "plt.ylabel(\"expected return\")\n",
        "plt.ylim(0)\n",
        "plt.title(\"Comparison of Minimum Risk and Target Return Portfolios\")\n",
        "plt.show();\n"
      ]
    },
    {
      "cell_type": "markdown",
      "metadata": {
        "id": "8XCDHa1NE82G"
      },
      "source": [
        "Script:\n",
        "* TODO"
      ]
    }
  ],
  "metadata": {
    "colab": {},
    "kernelspec": {
      "display_name": "Python 3",
      "name": "python3"
    },
    "language_info": {
      "codemirror_mode": {
        "name": "ipython",
        "version": 3
      },
      "file_extension": ".py",
      "mimetype": "text/x-python",
      "name": "python",
      "nbconvert_exporter": "python",
      "pygments_lexer": "ipython3",
      "version": "3.9.6"
    }
  },
  "nbformat": 4,
  "nbformat_minor": 0
}